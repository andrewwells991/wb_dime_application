{
  "nbformat": 4,
  "nbformat_minor": 0,
  "metadata": {
    "colab": {
      "provenance": [],
      "authorship_tag": "ABX9TyMPTKUKN0sGGdgapD4OEyLD",
      "include_colab_link": true
    },
    "kernelspec": {
      "name": "python3",
      "display_name": "Python 3"
    },
    "language_info": {
      "name": "python"
    },
    "widgets": {
      "application/vnd.jupyter.widget-state+json": {
        "a16e3e3e2cde4a2996106a976bcf8842": {
          "model_module": "jupyter-leaflet",
          "model_name": "LeafletMapModel",
          "model_module_version": "^0.17",
          "state": {
            "_dom_classes": [],
            "_model_module": "jupyter-leaflet",
            "_model_module_version": "^0.17",
            "_model_name": "LeafletMapModel",
            "_view_count": null,
            "_view_module": "jupyter-leaflet",
            "_view_module_version": "^0.17",
            "_view_name": "LeafletMapView",
            "bottom": 4466911,
            "bounce_at_zoom_limits": true,
            "box_zoom": true,
            "center": [
              -11.605956507517986,
              34.294497745553265
            ],
            "close_popup_on_click": true,
            "controls": [
              "IPY_MODEL_59a88569f2094fc88c3e78f5ae490e3e",
              "IPY_MODEL_a6ac74e46d8845ae811065b806ca43f9",
              "IPY_MODEL_ecb58ae854ab4ec0a85b8c8c4a702d16",
              "IPY_MODEL_2aa7055b895c4bc283d1610bb04f45fc",
              "IPY_MODEL_a973ed94d3594decabfa4062b2b060a6",
              "IPY_MODEL_7f5736a8daa4412481fb9686cebeb95d",
              "IPY_MODEL_1fbacff7aadd47c3bd3c540b606e41db",
              "IPY_MODEL_a3e9fb0a4d724f67822a4383b08d7238"
            ],
            "crs": {
              "name": "EPSG3857",
              "custom": false
            },
            "default_style": "IPY_MODEL_1c40eb540c7c405888f0a7d8a45504e0",
            "double_click_zoom": true,
            "dragging": true,
            "dragging_style": "IPY_MODEL_cfd743d906a34032bf0b51b048f71819",
            "east": 34.32260729602934,
            "fullscreen": false,
            "inertia": true,
            "inertia_deceleration": 3000,
            "inertia_max_speed": 1500,
            "interpolation": "bilinear",
            "keyboard": true,
            "keyboard_pan_offset": 80,
            "keyboard_zoom_offset": 1,
            "layers": [
              "IPY_MODEL_d89fb1e22e3d449f8bab552a06883a47",
              "IPY_MODEL_9c5732982f8d464c83279518549f0f41",
              "IPY_MODEL_69eaa59cb4ed451f975ac12d72b9ffcb",
              "IPY_MODEL_62a35feafb4140ad8ce6a19e11fcd97a"
            ],
            "layout": "IPY_MODEL_04143804af18474391e652bfc07ce11a",
            "left": 4992768.717067583,
            "max_zoom": 24,
            "min_zoom": null,
            "modisdate": "2023-03-27",
            "north": -11.593344849049245,
            "options": [
              "bounce_at_zoom_limits",
              "box_zoom",
              "center",
              "close_popup_on_click",
              "double_click_zoom",
              "dragging",
              "fullscreen",
              "inertia",
              "inertia_deceleration",
              "inertia_max_speed",
              "interpolation",
              "keyboard",
              "keyboard_pan_offset",
              "keyboard_zoom_offset",
              "max_zoom",
              "min_zoom",
              "prefer_canvas",
              "scroll_wheel_zoom",
              "tap",
              "tap_tolerance",
              "touch_zoom",
              "world_copy_jump",
              "zoom",
              "zoom_animation_threshold",
              "zoom_delta",
              "zoom_snap"
            ],
            "panes": {},
            "prefer_canvas": false,
            "right": 4994078.717067583,
            "scroll_wheel_zoom": true,
            "south": -11.618567595877744,
            "style": "IPY_MODEL_1c40eb540c7c405888f0a7d8a45504e0",
            "tap": true,
            "tap_tolerance": 15,
            "top": 4466311,
            "touch_zoom": true,
            "west": 34.2663881950772,
            "window_url": "https://ozssgrvqplj-496ff2e9c6d22116-0-colab.googleusercontent.com/outputframe.html?vrz=colab-20230327-060154-RC00_519676220",
            "world_copy_jump": false,
            "zoom": 15,
            "zoom_animation_threshold": 4,
            "zoom_delta": 1,
            "zoom_snap": 1
          }
        },
        "59a88569f2094fc88c3e78f5ae490e3e": {
          "model_module": "jupyter-leaflet",
          "model_name": "LeafletWidgetControlModel",
          "model_module_version": "^0.17",
          "state": {
            "_model_module": "jupyter-leaflet",
            "_model_module_version": "^0.17",
            "_model_name": "LeafletWidgetControlModel",
            "_view_count": null,
            "_view_module": "jupyter-leaflet",
            "_view_module_version": "^0.17",
            "_view_name": "LeafletWidgetControlView",
            "max_height": null,
            "max_width": null,
            "min_height": null,
            "min_width": null,
            "options": [
              "position",
              "transparent_bg"
            ],
            "position": "topleft",
            "transparent_bg": false,
            "widget": "IPY_MODEL_c3116de2ef91460c870ca29e0b785244"
          }
        },
        "a6ac74e46d8845ae811065b806ca43f9": {
          "model_module": "jupyter-leaflet",
          "model_name": "LeafletZoomControlModel",
          "model_module_version": "^0.17",
          "state": {
            "_model_module": "jupyter-leaflet",
            "_model_module_version": "^0.17",
            "_model_name": "LeafletZoomControlModel",
            "_view_count": null,
            "_view_module": "jupyter-leaflet",
            "_view_module_version": "^0.17",
            "_view_name": "LeafletZoomControlView",
            "options": [
              "position",
              "zoom_in_text",
              "zoom_in_title",
              "zoom_out_text",
              "zoom_out_title"
            ],
            "position": "topleft",
            "zoom_in_text": "+",
            "zoom_in_title": "Zoom in",
            "zoom_out_text": "-",
            "zoom_out_title": "Zoom out"
          }
        },
        "ecb58ae854ab4ec0a85b8c8c4a702d16": {
          "model_module": "jupyter-leaflet",
          "model_name": "LeafletScaleControlModel",
          "model_module_version": "^0.17",
          "state": {
            "_model_module": "jupyter-leaflet",
            "_model_module_version": "^0.17",
            "_model_name": "LeafletScaleControlModel",
            "_view_count": null,
            "_view_module": "jupyter-leaflet",
            "_view_module_version": "^0.17",
            "_view_name": "LeafletScaleControlView",
            "imperial": true,
            "max_width": 100,
            "metric": true,
            "options": [
              "imperial",
              "max_width",
              "metric",
              "position",
              "update_when_idle"
            ],
            "position": "bottomleft",
            "update_when_idle": false
          }
        },
        "2aa7055b895c4bc283d1610bb04f45fc": {
          "model_module": "jupyter-leaflet",
          "model_name": "LeafletFullScreenControlModel",
          "model_module_version": "^0.17",
          "state": {
            "_model_module": "jupyter-leaflet",
            "_model_module_version": "^0.17",
            "_model_name": "LeafletFullScreenControlModel",
            "_view_count": null,
            "_view_module": "jupyter-leaflet",
            "_view_module_version": "^0.17",
            "_view_name": "LeafletFullScreenControlView",
            "options": [
              "position"
            ],
            "position": "topleft"
          }
        },
        "a973ed94d3594decabfa4062b2b060a6": {
          "model_module": "jupyter-leaflet",
          "model_name": "LeafletMeasureControlModel",
          "model_module_version": "^0.17",
          "state": {
            "_custom_units": {},
            "_model_module": "jupyter-leaflet",
            "_model_module_version": "^0.17",
            "_model_name": "LeafletMeasureControlModel",
            "_view_count": null,
            "_view_module": "jupyter-leaflet",
            "_view_module_version": "^0.17",
            "_view_name": "LeafletMeasureControlView",
            "active_color": "orange",
            "capture_z_index": 10000,
            "completed_color": "#C8F2BE",
            "options": [
              "active_color",
              "capture_z_index",
              "completed_color",
              "popup_options",
              "position",
              "primary_area_unit",
              "primary_length_unit",
              "secondary_area_unit",
              "secondary_length_unit"
            ],
            "popup_options": {
              "className": "leaflet-measure-resultpopup",
              "autoPanPadding": [
                10,
                10
              ]
            },
            "position": "bottomleft",
            "primary_area_unit": "acres",
            "primary_length_unit": "kilometers",
            "secondary_area_unit": null,
            "secondary_length_unit": null
          }
        },
        "7f5736a8daa4412481fb9686cebeb95d": {
          "model_module": "jupyter-leaflet",
          "model_name": "LeafletAttributionControlModel",
          "model_module_version": "^0.17",
          "state": {
            "_model_module": "jupyter-leaflet",
            "_model_module_version": "^0.17",
            "_model_name": "LeafletAttributionControlModel",
            "_view_count": null,
            "_view_module": "jupyter-leaflet",
            "_view_module_version": "^0.17",
            "_view_name": "LeafletAttributionControlView",
            "options": [
              "position",
              "prefix"
            ],
            "position": "bottomright",
            "prefix": "ipyleaflet"
          }
        },
        "1fbacff7aadd47c3bd3c540b606e41db": {
          "model_module": "jupyter-leaflet",
          "model_name": "LeafletDrawControlModel",
          "model_module_version": "^0.17",
          "state": {
            "_model_module": "jupyter-leaflet",
            "_model_module_version": "^0.17",
            "_model_name": "LeafletDrawControlModel",
            "_view_count": null,
            "_view_module": "jupyter-leaflet",
            "_view_module_version": "^0.17",
            "_view_name": "LeafletDrawControlView",
            "circle": {
              "shapeOptions": {
                "color": "#3388ff"
              }
            },
            "circlemarker": {},
            "data": [],
            "edit": true,
            "marker": {
              "shapeOptions": {
                "color": "#3388ff"
              }
            },
            "options": [
              "position"
            ],
            "polygon": {
              "shapeOptions": {}
            },
            "polyline": {
              "shapeOptions": {}
            },
            "position": "topleft",
            "rectangle": {
              "shapeOptions": {
                "color": "#3388ff"
              }
            },
            "remove": true
          }
        },
        "a3e9fb0a4d724f67822a4383b08d7238": {
          "model_module": "jupyter-leaflet",
          "model_name": "LeafletWidgetControlModel",
          "model_module_version": "^0.17",
          "state": {
            "_model_module": "jupyter-leaflet",
            "_model_module_version": "^0.17",
            "_model_name": "LeafletWidgetControlModel",
            "_view_count": null,
            "_view_module": "jupyter-leaflet",
            "_view_module_version": "^0.17",
            "_view_name": "LeafletWidgetControlView",
            "max_height": null,
            "max_width": null,
            "min_height": null,
            "min_width": null,
            "options": [
              "position",
              "transparent_bg"
            ],
            "position": "topright",
            "transparent_bg": false,
            "widget": "IPY_MODEL_3be59c9979a54c78b16fcfe84611cc40"
          }
        },
        "1c40eb540c7c405888f0a7d8a45504e0": {
          "model_module": "jupyter-leaflet",
          "model_name": "LeafletMapStyleModel",
          "model_module_version": "^0.17",
          "state": {
            "_model_module": "jupyter-leaflet",
            "_model_module_version": "^0.17",
            "_model_name": "LeafletMapStyleModel",
            "_view_count": null,
            "_view_module": "@jupyter-widgets/base",
            "_view_module_version": "1.2.0",
            "_view_name": "StyleView",
            "cursor": "grab"
          }
        },
        "cfd743d906a34032bf0b51b048f71819": {
          "model_module": "jupyter-leaflet",
          "model_name": "LeafletMapStyleModel",
          "model_module_version": "^0.17",
          "state": {
            "_model_module": "jupyter-leaflet",
            "_model_module_version": "^0.17",
            "_model_name": "LeafletMapStyleModel",
            "_view_count": null,
            "_view_module": "@jupyter-widgets/base",
            "_view_module_version": "1.2.0",
            "_view_name": "StyleView",
            "cursor": "move"
          }
        },
        "d89fb1e22e3d449f8bab552a06883a47": {
          "model_module": "jupyter-leaflet",
          "model_name": "LeafletTileLayerModel",
          "model_module_version": "^0.17",
          "state": {
            "_model_module": "jupyter-leaflet",
            "_model_module_version": "^0.17",
            "_model_name": "LeafletTileLayerModel",
            "_view_count": null,
            "_view_module": "jupyter-leaflet",
            "_view_module_version": "^0.17",
            "_view_name": "LeafletTileLayerView",
            "attribution": "&copy; <a href=\"https://www.openstreetmap.org/copyright\">OpenStreetMap</a> contributors",
            "base": true,
            "bottom": true,
            "bounds": null,
            "detect_retina": false,
            "loading": false,
            "max_native_zoom": null,
            "max_zoom": 19,
            "min_native_zoom": null,
            "min_zoom": 1,
            "name": "OpenStreetMap.Mapnik",
            "no_wrap": false,
            "opacity": 1,
            "options": [
              "attribution",
              "bounds",
              "detect_retina",
              "max_native_zoom",
              "max_zoom",
              "min_native_zoom",
              "min_zoom",
              "no_wrap",
              "tile_size",
              "tms",
              "zoom_offset"
            ],
            "pane": "",
            "popup": null,
            "popup_max_height": null,
            "popup_max_width": 300,
            "popup_min_width": 50,
            "show_loading": false,
            "subitems": [],
            "tile_size": 256,
            "tms": false,
            "url": "https://tile.openstreetmap.org/{z}/{x}/{y}.png",
            "visible": true,
            "zoom_offset": 0
          }
        },
        "9c5732982f8d464c83279518549f0f41": {
          "model_module": "jupyter-leaflet",
          "model_name": "LeafletTileLayerModel",
          "model_module_version": "^0.17",
          "state": {
            "_model_module": "jupyter-leaflet",
            "_model_module_version": "^0.17",
            "_model_name": "LeafletTileLayerModel",
            "_view_count": null,
            "_view_module": "jupyter-leaflet",
            "_view_module_version": "^0.17",
            "_view_name": "LeafletTileLayerView",
            "attribution": "Google",
            "base": false,
            "bottom": true,
            "bounds": null,
            "detect_retina": false,
            "loading": false,
            "max_native_zoom": null,
            "max_zoom": 22,
            "min_native_zoom": null,
            "min_zoom": 0,
            "name": "Google Maps",
            "no_wrap": false,
            "opacity": 1,
            "options": [
              "attribution",
              "bounds",
              "detect_retina",
              "max_native_zoom",
              "max_zoom",
              "min_native_zoom",
              "min_zoom",
              "no_wrap",
              "tile_size",
              "tms",
              "zoom_offset"
            ],
            "pane": "",
            "popup": null,
            "popup_max_height": null,
            "popup_max_width": 300,
            "popup_min_width": 50,
            "show_loading": false,
            "subitems": [],
            "tile_size": 256,
            "tms": false,
            "url": "https://mt1.google.com/vt/lyrs=m&x={x}&y={y}&z={z}",
            "visible": true,
            "zoom_offset": 0
          }
        },
        "69eaa59cb4ed451f975ac12d72b9ffcb": {
          "model_module": "jupyter-leaflet",
          "model_name": "LeafletTileLayerModel",
          "model_module_version": "^0.17",
          "state": {
            "_model_module": "jupyter-leaflet",
            "_model_module_version": "^0.17",
            "_model_name": "LeafletTileLayerModel",
            "_view_count": null,
            "_view_module": "jupyter-leaflet",
            "_view_module_version": "^0.17",
            "_view_name": "LeafletTileLayerView",
            "attribution": "Google Earth Engine",
            "base": false,
            "bottom": true,
            "bounds": null,
            "detect_retina": false,
            "loading": false,
            "max_native_zoom": null,
            "max_zoom": 24,
            "min_native_zoom": null,
            "min_zoom": 0,
            "name": "image",
            "no_wrap": false,
            "opacity": 1,
            "options": [
              "attribution",
              "bounds",
              "detect_retina",
              "max_native_zoom",
              "max_zoom",
              "min_native_zoom",
              "min_zoom",
              "no_wrap",
              "tile_size",
              "tms",
              "zoom_offset"
            ],
            "pane": "",
            "popup": null,
            "popup_max_height": null,
            "popup_max_width": 300,
            "popup_min_width": 50,
            "show_loading": false,
            "subitems": [],
            "tile_size": 256,
            "tms": false,
            "url": "https://earthengine.googleapis.com/v1alpha/projects/earthengine-legacy/maps/49f52b093d562de450f2d803b65b919c-d744069431e52e8539e978b680d69a72/tiles/{z}/{x}/{y}",
            "visible": true,
            "zoom_offset": 0
          }
        },
        "62a35feafb4140ad8ce6a19e11fcd97a": {
          "model_module": "jupyter-leaflet",
          "model_name": "LeafletTileLayerModel",
          "model_module_version": "^0.17",
          "state": {
            "_model_module": "jupyter-leaflet",
            "_model_module_version": "^0.17",
            "_model_name": "LeafletTileLayerModel",
            "_view_count": null,
            "_view_module": "jupyter-leaflet",
            "_view_module_version": "^0.17",
            "_view_name": "LeafletTileLayerView",
            "attribution": "Google Earth Engine",
            "base": false,
            "bottom": true,
            "bounds": null,
            "detect_retina": false,
            "loading": false,
            "max_native_zoom": null,
            "max_zoom": 24,
            "min_native_zoom": null,
            "min_zoom": 0,
            "name": "Open builidings",
            "no_wrap": false,
            "opacity": 1,
            "options": [
              "attribution",
              "bounds",
              "detect_retina",
              "max_native_zoom",
              "max_zoom",
              "min_native_zoom",
              "min_zoom",
              "no_wrap",
              "tile_size",
              "tms",
              "zoom_offset"
            ],
            "pane": "",
            "popup": null,
            "popup_max_height": null,
            "popup_max_width": 300,
            "popup_min_width": 50,
            "show_loading": false,
            "subitems": [],
            "tile_size": 256,
            "tms": false,
            "url": "https://earthengine.googleapis.com/v1alpha/projects/earthengine-legacy/maps/f46e1b3daccf7cd9269866562e9bfb7e-e2fe69c041ca436faec621c15d0e5987/tiles/{z}/{x}/{y}",
            "visible": true,
            "zoom_offset": 0
          }
        },
        "04143804af18474391e652bfc07ce11a": {
          "model_module": "@jupyter-widgets/base",
          "model_name": "LayoutModel",
          "model_module_version": "1.2.0",
          "state": {
            "_model_module": "@jupyter-widgets/base",
            "_model_module_version": "1.2.0",
            "_model_name": "LayoutModel",
            "_view_count": null,
            "_view_module": "@jupyter-widgets/base",
            "_view_module_version": "1.2.0",
            "_view_name": "LayoutView",
            "align_content": null,
            "align_items": null,
            "align_self": null,
            "border": null,
            "bottom": null,
            "display": null,
            "flex": null,
            "flex_flow": null,
            "grid_area": null,
            "grid_auto_columns": null,
            "grid_auto_flow": null,
            "grid_auto_rows": null,
            "grid_column": null,
            "grid_gap": null,
            "grid_row": null,
            "grid_template_areas": null,
            "grid_template_columns": null,
            "grid_template_rows": null,
            "height": "600px",
            "justify_content": null,
            "justify_items": null,
            "left": null,
            "margin": null,
            "max_height": null,
            "max_width": null,
            "min_height": null,
            "min_width": null,
            "object_fit": null,
            "object_position": null,
            "order": null,
            "overflow": null,
            "overflow_x": null,
            "overflow_y": null,
            "padding": null,
            "right": null,
            "top": null,
            "visibility": null,
            "width": null
          }
        },
        "bf7379a8f1904b1cb7c242b254aa2d3a": {
          "model_module": "jupyter-leaflet",
          "model_name": "LeafletMapStyleModel",
          "model_module_version": "^0.17",
          "state": {
            "_model_module": "jupyter-leaflet",
            "_model_module_version": "^0.17",
            "_model_name": "LeafletMapStyleModel",
            "_view_count": null,
            "_view_module": "@jupyter-widgets/base",
            "_view_module_version": "1.2.0",
            "_view_name": "StyleView",
            "cursor": "grab"
          }
        },
        "c3116de2ef91460c870ca29e0b785244": {
          "model_module": "@jupyter-widgets/controls",
          "model_name": "HBoxModel",
          "model_module_version": "1.5.0",
          "state": {
            "_dom_classes": [],
            "_model_module": "@jupyter-widgets/controls",
            "_model_module_version": "1.5.0",
            "_model_name": "HBoxModel",
            "_view_count": null,
            "_view_module": "@jupyter-widgets/controls",
            "_view_module_version": "1.5.0",
            "_view_name": "HBoxView",
            "box_style": "",
            "children": [
              "IPY_MODEL_6ccd5e4fd4b743c88cf3b17e4c582ed6"
            ],
            "layout": "IPY_MODEL_0efe8c9bc12b4ad2a2ce7175e3d00f4f"
          }
        },
        "3be59c9979a54c78b16fcfe84611cc40": {
          "model_module": "@jupyter-widgets/controls",
          "model_name": "VBoxModel",
          "model_module_version": "1.5.0",
          "state": {
            "_dom_classes": [],
            "_model_module": "@jupyter-widgets/controls",
            "_model_module_version": "1.5.0",
            "_model_name": "VBoxModel",
            "_view_count": null,
            "_view_module": "@jupyter-widgets/controls",
            "_view_module_version": "1.5.0",
            "_view_name": "VBoxView",
            "box_style": "",
            "children": [
              "IPY_MODEL_39f5b3832dd64ec88161307b3da6e25a",
              "IPY_MODEL_75ff3f11971f401ebfa7756f69e33acc"
            ],
            "layout": "IPY_MODEL_d504ab71fd4a45698b3f26e53b41a3a3"
          }
        },
        "6ccd5e4fd4b743c88cf3b17e4c582ed6": {
          "model_module": "@jupyter-widgets/controls",
          "model_name": "ToggleButtonModel",
          "model_module_version": "1.5.0",
          "state": {
            "_dom_classes": [],
            "_model_module": "@jupyter-widgets/controls",
            "_model_module_version": "1.5.0",
            "_model_name": "ToggleButtonModel",
            "_view_count": null,
            "_view_module": "@jupyter-widgets/controls",
            "_view_module_version": "1.5.0",
            "_view_name": "ToggleButtonView",
            "button_style": "",
            "description": "",
            "description_tooltip": null,
            "disabled": false,
            "icon": "globe",
            "layout": "IPY_MODEL_179ede2430dc4caf9d11cfd893122db8",
            "style": "IPY_MODEL_13ed5b3a61664fbdb02ed44a14181737",
            "tooltip": "Search location/data",
            "value": false
          }
        },
        "0efe8c9bc12b4ad2a2ce7175e3d00f4f": {
          "model_module": "@jupyter-widgets/base",
          "model_name": "LayoutModel",
          "model_module_version": "1.2.0",
          "state": {
            "_model_module": "@jupyter-widgets/base",
            "_model_module_version": "1.2.0",
            "_model_name": "LayoutModel",
            "_view_count": null,
            "_view_module": "@jupyter-widgets/base",
            "_view_module_version": "1.2.0",
            "_view_name": "LayoutView",
            "align_content": null,
            "align_items": null,
            "align_self": null,
            "border": null,
            "bottom": null,
            "display": null,
            "flex": null,
            "flex_flow": null,
            "grid_area": null,
            "grid_auto_columns": null,
            "grid_auto_flow": null,
            "grid_auto_rows": null,
            "grid_column": null,
            "grid_gap": null,
            "grid_row": null,
            "grid_template_areas": null,
            "grid_template_columns": null,
            "grid_template_rows": null,
            "height": null,
            "justify_content": null,
            "justify_items": null,
            "left": null,
            "margin": null,
            "max_height": null,
            "max_width": null,
            "min_height": null,
            "min_width": null,
            "object_fit": null,
            "object_position": null,
            "order": null,
            "overflow": null,
            "overflow_x": null,
            "overflow_y": null,
            "padding": null,
            "right": null,
            "top": null,
            "visibility": null,
            "width": null
          }
        },
        "8796c515809b420597495a06edfaf230": {
          "model_module": "@jupyter-widgets/controls",
          "model_name": "ToggleButtonModel",
          "model_module_version": "1.5.0",
          "state": {
            "_dom_classes": [],
            "_model_module": "@jupyter-widgets/controls",
            "_model_module_version": "1.5.0",
            "_model_name": "ToggleButtonModel",
            "_view_count": null,
            "_view_module": "@jupyter-widgets/controls",
            "_view_module_version": "1.5.0",
            "_view_name": "ToggleButtonView",
            "button_style": "",
            "description": "",
            "description_tooltip": null,
            "disabled": false,
            "icon": "wrench",
            "layout": "IPY_MODEL_adf9b3dfae134e69a353296feb650e2f",
            "style": "IPY_MODEL_244d94239b9a414c8ed46dafbfd65885",
            "tooltip": "Toolbar",
            "value": false
          }
        },
        "d504ab71fd4a45698b3f26e53b41a3a3": {
          "model_module": "@jupyter-widgets/base",
          "model_name": "LayoutModel",
          "model_module_version": "1.2.0",
          "state": {
            "_model_module": "@jupyter-widgets/base",
            "_model_module_version": "1.2.0",
            "_model_name": "LayoutModel",
            "_view_count": null,
            "_view_module": "@jupyter-widgets/base",
            "_view_module_version": "1.2.0",
            "_view_name": "LayoutView",
            "align_content": null,
            "align_items": null,
            "align_self": null,
            "border": null,
            "bottom": null,
            "display": null,
            "flex": null,
            "flex_flow": null,
            "grid_area": null,
            "grid_auto_columns": null,
            "grid_auto_flow": null,
            "grid_auto_rows": null,
            "grid_column": null,
            "grid_gap": null,
            "grid_row": null,
            "grid_template_areas": null,
            "grid_template_columns": null,
            "grid_template_rows": null,
            "height": null,
            "justify_content": null,
            "justify_items": null,
            "left": null,
            "margin": null,
            "max_height": null,
            "max_width": null,
            "min_height": null,
            "min_width": null,
            "object_fit": null,
            "object_position": null,
            "order": null,
            "overflow": null,
            "overflow_x": null,
            "overflow_y": null,
            "padding": null,
            "right": null,
            "top": null,
            "visibility": null,
            "width": null
          }
        },
        "179ede2430dc4caf9d11cfd893122db8": {
          "model_module": "@jupyter-widgets/base",
          "model_name": "LayoutModel",
          "model_module_version": "1.2.0",
          "state": {
            "_model_module": "@jupyter-widgets/base",
            "_model_module_version": "1.2.0",
            "_model_name": "LayoutModel",
            "_view_count": null,
            "_view_module": "@jupyter-widgets/base",
            "_view_module_version": "1.2.0",
            "_view_name": "LayoutView",
            "align_content": null,
            "align_items": null,
            "align_self": null,
            "border": null,
            "bottom": null,
            "display": null,
            "flex": null,
            "flex_flow": null,
            "grid_area": null,
            "grid_auto_columns": null,
            "grid_auto_flow": null,
            "grid_auto_rows": null,
            "grid_column": null,
            "grid_gap": null,
            "grid_row": null,
            "grid_template_areas": null,
            "grid_template_columns": null,
            "grid_template_rows": null,
            "height": "28px",
            "justify_content": null,
            "justify_items": null,
            "left": null,
            "margin": null,
            "max_height": null,
            "max_width": null,
            "min_height": null,
            "min_width": null,
            "object_fit": null,
            "object_position": null,
            "order": null,
            "overflow": null,
            "overflow_x": null,
            "overflow_y": null,
            "padding": "0px 0px 0px 4px",
            "right": null,
            "top": null,
            "visibility": null,
            "width": "28px"
          }
        },
        "13ed5b3a61664fbdb02ed44a14181737": {
          "model_module": "@jupyter-widgets/controls",
          "model_name": "DescriptionStyleModel",
          "model_module_version": "1.5.0",
          "state": {
            "_model_module": "@jupyter-widgets/controls",
            "_model_module_version": "1.5.0",
            "_model_name": "DescriptionStyleModel",
            "_view_count": null,
            "_view_module": "@jupyter-widgets/base",
            "_view_module_version": "1.2.0",
            "_view_name": "StyleView",
            "description_width": ""
          }
        },
        "adf9b3dfae134e69a353296feb650e2f": {
          "model_module": "@jupyter-widgets/base",
          "model_name": "LayoutModel",
          "model_module_version": "1.2.0",
          "state": {
            "_model_module": "@jupyter-widgets/base",
            "_model_module_version": "1.2.0",
            "_model_name": "LayoutModel",
            "_view_count": null,
            "_view_module": "@jupyter-widgets/base",
            "_view_module_version": "1.2.0",
            "_view_name": "LayoutView",
            "align_content": null,
            "align_items": null,
            "align_self": null,
            "border": null,
            "bottom": null,
            "display": null,
            "flex": null,
            "flex_flow": null,
            "grid_area": null,
            "grid_auto_columns": null,
            "grid_auto_flow": null,
            "grid_auto_rows": null,
            "grid_column": null,
            "grid_gap": null,
            "grid_row": null,
            "grid_template_areas": null,
            "grid_template_columns": null,
            "grid_template_rows": null,
            "height": "28px",
            "justify_content": null,
            "justify_items": null,
            "left": null,
            "margin": null,
            "max_height": null,
            "max_width": null,
            "min_height": null,
            "min_width": null,
            "object_fit": null,
            "object_position": null,
            "order": null,
            "overflow": null,
            "overflow_x": null,
            "overflow_y": null,
            "padding": "0px 0px 0px 4px",
            "right": null,
            "top": null,
            "visibility": null,
            "width": "28px"
          }
        },
        "244d94239b9a414c8ed46dafbfd65885": {
          "model_module": "@jupyter-widgets/controls",
          "model_name": "DescriptionStyleModel",
          "model_module_version": "1.5.0",
          "state": {
            "_model_module": "@jupyter-widgets/controls",
            "_model_module_version": "1.5.0",
            "_model_name": "DescriptionStyleModel",
            "_view_count": null,
            "_view_module": "@jupyter-widgets/base",
            "_view_module_version": "1.2.0",
            "_view_name": "StyleView",
            "description_width": ""
          }
        },
        "39f5b3832dd64ec88161307b3da6e25a": {
          "model_module": "@jupyter-widgets/controls",
          "model_name": "HBoxModel",
          "model_module_version": "1.5.0",
          "state": {
            "_dom_classes": [],
            "_model_module": "@jupyter-widgets/controls",
            "_model_module_version": "1.5.0",
            "_model_name": "HBoxModel",
            "_view_count": null,
            "_view_module": "@jupyter-widgets/controls",
            "_view_module_version": "1.5.0",
            "_view_name": "HBoxView",
            "box_style": "",
            "children": [
              "IPY_MODEL_b6fef34c0e2a40329991572bf3372324",
              "IPY_MODEL_8796c515809b420597495a06edfaf230"
            ],
            "layout": "IPY_MODEL_fc92d06ae04548248f1e4f846a7486db"
          }
        },
        "75ff3f11971f401ebfa7756f69e33acc": {
          "model_module": "@jupyter-widgets/controls",
          "model_name": "VBoxModel",
          "model_module_version": "1.5.0",
          "state": {
            "_dom_classes": [],
            "_model_module": "@jupyter-widgets/controls",
            "_model_module_version": "1.5.0",
            "_model_name": "VBoxModel",
            "_view_count": null,
            "_view_module": "@jupyter-widgets/controls",
            "_view_module_version": "1.5.0",
            "_view_name": "VBoxView",
            "box_style": "",
            "children": [
              "IPY_MODEL_76024c0fe1fa43a1978053c8b292e78e",
              "IPY_MODEL_279628bca5d34120b341ccdfb101b611",
              "IPY_MODEL_9c393985cb3145208ad9c24142d6e5ab",
              "IPY_MODEL_abeffe14e5bf40b0ae73466cf6d8bf33"
            ],
            "layout": "IPY_MODEL_b1c85bcb42a44aeaaa1b5917497ce694"
          }
        },
        "b6fef34c0e2a40329991572bf3372324": {
          "model_module": "@jupyter-widgets/controls",
          "model_name": "ToggleButtonModel",
          "model_module_version": "1.5.0",
          "state": {
            "_dom_classes": [],
            "_model_module": "@jupyter-widgets/controls",
            "_model_module_version": "1.5.0",
            "_model_name": "ToggleButtonModel",
            "_view_count": null,
            "_view_module": "@jupyter-widgets/controls",
            "_view_module_version": "1.5.0",
            "_view_name": "ToggleButtonView",
            "button_style": "",
            "description": "",
            "description_tooltip": null,
            "disabled": false,
            "icon": "server",
            "layout": "IPY_MODEL_1ed29a57fe894e5bb928e86c42f6a176",
            "style": "IPY_MODEL_956303556a9c4d32a662506c45db8c47",
            "tooltip": "Layers",
            "value": true
          }
        },
        "fc92d06ae04548248f1e4f846a7486db": {
          "model_module": "@jupyter-widgets/base",
          "model_name": "LayoutModel",
          "model_module_version": "1.2.0",
          "state": {
            "_model_module": "@jupyter-widgets/base",
            "_model_module_version": "1.2.0",
            "_model_name": "LayoutModel",
            "_view_count": null,
            "_view_module": "@jupyter-widgets/base",
            "_view_module_version": "1.2.0",
            "_view_name": "LayoutView",
            "align_content": null,
            "align_items": null,
            "align_self": null,
            "border": null,
            "bottom": null,
            "display": null,
            "flex": null,
            "flex_flow": null,
            "grid_area": null,
            "grid_auto_columns": null,
            "grid_auto_flow": null,
            "grid_auto_rows": null,
            "grid_column": null,
            "grid_gap": null,
            "grid_row": null,
            "grid_template_areas": null,
            "grid_template_columns": null,
            "grid_template_rows": null,
            "height": null,
            "justify_content": null,
            "justify_items": null,
            "left": null,
            "margin": null,
            "max_height": null,
            "max_width": null,
            "min_height": null,
            "min_width": null,
            "object_fit": null,
            "object_position": null,
            "order": null,
            "overflow": null,
            "overflow_x": null,
            "overflow_y": null,
            "padding": null,
            "right": null,
            "top": null,
            "visibility": null,
            "width": null
          }
        },
        "e0ffda788ad74ae787447653c5366039": {
          "model_module": "@jupyter-widgets/controls",
          "model_name": "GridBoxModel",
          "model_module_version": "1.5.0",
          "state": {
            "_dom_classes": [],
            "_model_module": "@jupyter-widgets/controls",
            "_model_module_version": "1.5.0",
            "_model_name": "GridBoxModel",
            "_view_count": null,
            "_view_module": "@jupyter-widgets/controls",
            "_view_module_version": "1.5.0",
            "_view_name": "GridBoxView",
            "box_style": "",
            "children": [
              "IPY_MODEL_1849b6b20e7e4910943f7a807c147c93",
              "IPY_MODEL_6261054b5e9042bcb92dc68699483e4f",
              "IPY_MODEL_195577272d774afbb54e114b70048651",
              "IPY_MODEL_7ce19d7775a44ee3962c803ba2ad49bd",
              "IPY_MODEL_f9dded7546ef4c6f8e08c15dff6e2605",
              "IPY_MODEL_33e21aa39cf6448ca492b6709edb0ec0",
              "IPY_MODEL_6914c694278f47229a90f86e7d528000",
              "IPY_MODEL_c1407a544b57440499765dd1a927697c",
              "IPY_MODEL_805d9f163f0e4a888104cc7d78534d97",
              "IPY_MODEL_96c9a4ca10e54015a75bdeb904d1c8ca",
              "IPY_MODEL_0861720e4b06466597004267a09c2ee8",
              "IPY_MODEL_1baeacf0ae6a434eaa4f8d3c9be5563e",
              "IPY_MODEL_03cd419813d341d6816f5f53166ff222",
              "IPY_MODEL_9cec711f9d31402088b94e784b0c2cb8",
              "IPY_MODEL_96ac78e1d22b448192e3a7473b3d869c",
              "IPY_MODEL_dac9a83fa0df4fb6b085d6b0f96c6111",
              "IPY_MODEL_d3b661f8ec214de2983c9075036ab20a",
              "IPY_MODEL_77408cfced2e46e29ad9747467017377"
            ],
            "layout": "IPY_MODEL_ad9df06754304bf2afb5d5e9cfb4649e"
          }
        },
        "b1c85bcb42a44aeaaa1b5917497ce694": {
          "model_module": "@jupyter-widgets/base",
          "model_name": "LayoutModel",
          "model_module_version": "1.2.0",
          "state": {
            "_model_module": "@jupyter-widgets/base",
            "_model_module_version": "1.2.0",
            "_model_name": "LayoutModel",
            "_view_count": null,
            "_view_module": "@jupyter-widgets/base",
            "_view_module_version": "1.2.0",
            "_view_name": "LayoutView",
            "align_content": null,
            "align_items": null,
            "align_self": null,
            "border": null,
            "bottom": null,
            "display": null,
            "flex": null,
            "flex_flow": null,
            "grid_area": null,
            "grid_auto_columns": null,
            "grid_auto_flow": null,
            "grid_auto_rows": null,
            "grid_column": null,
            "grid_gap": null,
            "grid_row": null,
            "grid_template_areas": null,
            "grid_template_columns": null,
            "grid_template_rows": null,
            "height": null,
            "justify_content": null,
            "justify_items": null,
            "left": null,
            "margin": null,
            "max_height": null,
            "max_width": null,
            "min_height": null,
            "min_width": null,
            "object_fit": null,
            "object_position": null,
            "order": null,
            "overflow": null,
            "overflow_x": null,
            "overflow_y": null,
            "padding": null,
            "right": null,
            "top": null,
            "visibility": null,
            "width": null
          }
        },
        "1ed29a57fe894e5bb928e86c42f6a176": {
          "model_module": "@jupyter-widgets/base",
          "model_name": "LayoutModel",
          "model_module_version": "1.2.0",
          "state": {
            "_model_module": "@jupyter-widgets/base",
            "_model_module_version": "1.2.0",
            "_model_name": "LayoutModel",
            "_view_count": null,
            "_view_module": "@jupyter-widgets/base",
            "_view_module_version": "1.2.0",
            "_view_name": "LayoutView",
            "align_content": null,
            "align_items": null,
            "align_self": null,
            "border": null,
            "bottom": null,
            "display": null,
            "flex": null,
            "flex_flow": null,
            "grid_area": null,
            "grid_auto_columns": null,
            "grid_auto_flow": null,
            "grid_auto_rows": null,
            "grid_column": null,
            "grid_gap": null,
            "grid_row": null,
            "grid_template_areas": null,
            "grid_template_columns": null,
            "grid_template_rows": null,
            "height": "28px",
            "justify_content": null,
            "justify_items": null,
            "left": null,
            "margin": null,
            "max_height": null,
            "max_width": null,
            "min_height": null,
            "min_width": null,
            "object_fit": null,
            "object_position": null,
            "order": null,
            "overflow": null,
            "overflow_x": null,
            "overflow_y": null,
            "padding": null,
            "right": null,
            "top": null,
            "visibility": null,
            "width": "72px"
          }
        },
        "956303556a9c4d32a662506c45db8c47": {
          "model_module": "@jupyter-widgets/controls",
          "model_name": "DescriptionStyleModel",
          "model_module_version": "1.5.0",
          "state": {
            "_model_module": "@jupyter-widgets/controls",
            "_model_module_version": "1.5.0",
            "_model_name": "DescriptionStyleModel",
            "_view_count": null,
            "_view_module": "@jupyter-widgets/base",
            "_view_module_version": "1.2.0",
            "_view_name": "StyleView",
            "description_width": ""
          }
        },
        "1849b6b20e7e4910943f7a807c147c93": {
          "model_module": "@jupyter-widgets/controls",
          "model_name": "ToggleButtonModel",
          "model_module_version": "1.5.0",
          "state": {
            "_dom_classes": [],
            "_model_module": "@jupyter-widgets/controls",
            "_model_module_version": "1.5.0",
            "_model_name": "ToggleButtonModel",
            "_view_count": null,
            "_view_module": "@jupyter-widgets/controls",
            "_view_module_version": "1.5.0",
            "_view_name": "ToggleButtonView",
            "button_style": "primary",
            "description": "",
            "description_tooltip": null,
            "disabled": false,
            "icon": "info",
            "layout": "IPY_MODEL_aecf555a2b564ca3a8c10b92861719bc",
            "style": "IPY_MODEL_c1c2a7fa833648e39ad963ca4a2f7636",
            "tooltip": "Inspector",
            "value": false
          }
        },
        "6261054b5e9042bcb92dc68699483e4f": {
          "model_module": "@jupyter-widgets/controls",
          "model_name": "ToggleButtonModel",
          "model_module_version": "1.5.0",
          "state": {
            "_dom_classes": [],
            "_model_module": "@jupyter-widgets/controls",
            "_model_module_version": "1.5.0",
            "_model_name": "ToggleButtonModel",
            "_view_count": null,
            "_view_module": "@jupyter-widgets/controls",
            "_view_module_version": "1.5.0",
            "_view_name": "ToggleButtonView",
            "button_style": "primary",
            "description": "",
            "description_tooltip": null,
            "disabled": false,
            "icon": "bar-chart",
            "layout": "IPY_MODEL_957aecd5385e4c068681c6d61be18bc8",
            "style": "IPY_MODEL_fb45d9e7b057480ba35279301f107eba",
            "tooltip": "Plotting",
            "value": false
          }
        },
        "195577272d774afbb54e114b70048651": {
          "model_module": "@jupyter-widgets/controls",
          "model_name": "ToggleButtonModel",
          "model_module_version": "1.5.0",
          "state": {
            "_dom_classes": [],
            "_model_module": "@jupyter-widgets/controls",
            "_model_module_version": "1.5.0",
            "_model_name": "ToggleButtonModel",
            "_view_count": null,
            "_view_module": "@jupyter-widgets/controls",
            "_view_module_version": "1.5.0",
            "_view_name": "ToggleButtonView",
            "button_style": "primary",
            "description": "",
            "description_tooltip": null,
            "disabled": false,
            "icon": "camera",
            "layout": "IPY_MODEL_e0161dffd47b4d94b110ac3c46660287",
            "style": "IPY_MODEL_d6a99e763eae466e98701b4ace426962",
            "tooltip": "Save map as HTML or image",
            "value": false
          }
        },
        "7ce19d7775a44ee3962c803ba2ad49bd": {
          "model_module": "@jupyter-widgets/controls",
          "model_name": "ToggleButtonModel",
          "model_module_version": "1.5.0",
          "state": {
            "_dom_classes": [],
            "_model_module": "@jupyter-widgets/controls",
            "_model_module_version": "1.5.0",
            "_model_name": "ToggleButtonModel",
            "_view_count": null,
            "_view_module": "@jupyter-widgets/controls",
            "_view_module_version": "1.5.0",
            "_view_name": "ToggleButtonView",
            "button_style": "primary",
            "description": "",
            "description_tooltip": null,
            "disabled": false,
            "icon": "eraser",
            "layout": "IPY_MODEL_b18d2495590747ecbb6772137f6bb480",
            "style": "IPY_MODEL_167f41f083484664bf8559b41a08439c",
            "tooltip": "Remove all drawn features",
            "value": false
          }
        },
        "f9dded7546ef4c6f8e08c15dff6e2605": {
          "model_module": "@jupyter-widgets/controls",
          "model_name": "ToggleButtonModel",
          "model_module_version": "1.5.0",
          "state": {
            "_dom_classes": [],
            "_model_module": "@jupyter-widgets/controls",
            "_model_module_version": "1.5.0",
            "_model_name": "ToggleButtonModel",
            "_view_count": null,
            "_view_module": "@jupyter-widgets/controls",
            "_view_module_version": "1.5.0",
            "_view_name": "ToggleButtonView",
            "button_style": "primary",
            "description": "",
            "description_tooltip": null,
            "disabled": false,
            "icon": "folder-open",
            "layout": "IPY_MODEL_2eb51657b4e0493a97264f8098175d15",
            "style": "IPY_MODEL_016adacb94264723b95c061f7c577307",
            "tooltip": "Open local vector/raster data",
            "value": false
          }
        },
        "33e21aa39cf6448ca492b6709edb0ec0": {
          "model_module": "@jupyter-widgets/controls",
          "model_name": "ToggleButtonModel",
          "model_module_version": "1.5.0",
          "state": {
            "_dom_classes": [],
            "_model_module": "@jupyter-widgets/controls",
            "_model_module_version": "1.5.0",
            "_model_name": "ToggleButtonModel",
            "_view_count": null,
            "_view_module": "@jupyter-widgets/controls",
            "_view_module_version": "1.5.0",
            "_view_name": "ToggleButtonView",
            "button_style": "primary",
            "description": "",
            "description_tooltip": null,
            "disabled": false,
            "icon": "retweet",
            "layout": "IPY_MODEL_187f7b606265489198e536a732b3de6d",
            "style": "IPY_MODEL_eb13ffade77a4b5093f777cfa1ba4931",
            "tooltip": "Convert Earth Engine JavaScript to Python",
            "value": false
          }
        },
        "6914c694278f47229a90f86e7d528000": {
          "model_module": "@jupyter-widgets/controls",
          "model_name": "ToggleButtonModel",
          "model_module_version": "1.5.0",
          "state": {
            "_dom_classes": [],
            "_model_module": "@jupyter-widgets/controls",
            "_model_module_version": "1.5.0",
            "_model_name": "ToggleButtonModel",
            "_view_count": null,
            "_view_module": "@jupyter-widgets/controls",
            "_view_module_version": "1.5.0",
            "_view_name": "ToggleButtonView",
            "button_style": "primary",
            "description": "",
            "description_tooltip": null,
            "disabled": false,
            "icon": "gears",
            "layout": "IPY_MODEL_ff15f7b75ab94e76a517df9232f3999e",
            "style": "IPY_MODEL_3a4e605ac3354169b86ab3bbe9dd17d1",
            "tooltip": "WhiteboxTools for local geoprocessing",
            "value": false
          }
        },
        "c1407a544b57440499765dd1a927697c": {
          "model_module": "@jupyter-widgets/controls",
          "model_name": "ToggleButtonModel",
          "model_module_version": "1.5.0",
          "state": {
            "_dom_classes": [],
            "_model_module": "@jupyter-widgets/controls",
            "_model_module_version": "1.5.0",
            "_model_name": "ToggleButtonModel",
            "_view_count": null,
            "_view_module": "@jupyter-widgets/controls",
            "_view_module_version": "1.5.0",
            "_view_name": "ToggleButtonView",
            "button_style": "primary",
            "description": "",
            "description_tooltip": null,
            "disabled": false,
            "icon": "google",
            "layout": "IPY_MODEL_4415446d0a494bbea0ca6b394550e597",
            "style": "IPY_MODEL_c71837950a00414db8a1f50e8c600981",
            "tooltip": "GEE Toolbox for cloud computing",
            "value": false
          }
        },
        "805d9f163f0e4a888104cc7d78534d97": {
          "model_module": "@jupyter-widgets/controls",
          "model_name": "ToggleButtonModel",
          "model_module_version": "1.5.0",
          "state": {
            "_dom_classes": [],
            "_model_module": "@jupyter-widgets/controls",
            "_model_module_version": "1.5.0",
            "_model_name": "ToggleButtonModel",
            "_view_count": null,
            "_view_module": "@jupyter-widgets/controls",
            "_view_module_version": "1.5.0",
            "_view_name": "ToggleButtonView",
            "button_style": "primary",
            "description": "",
            "description_tooltip": null,
            "disabled": false,
            "icon": "map",
            "layout": "IPY_MODEL_4521c1d74e704879b57d44cf7f019f66",
            "style": "IPY_MODEL_50ca39771bf04b9abda93b28b8d24b71",
            "tooltip": "Change basemap",
            "value": false
          }
        },
        "96c9a4ca10e54015a75bdeb904d1c8ca": {
          "model_module": "@jupyter-widgets/controls",
          "model_name": "ToggleButtonModel",
          "model_module_version": "1.5.0",
          "state": {
            "_dom_classes": [],
            "_model_module": "@jupyter-widgets/controls",
            "_model_module_version": "1.5.0",
            "_model_name": "ToggleButtonModel",
            "_view_count": null,
            "_view_module": "@jupyter-widgets/controls",
            "_view_module_version": "1.5.0",
            "_view_name": "ToggleButtonView",
            "button_style": "primary",
            "description": "",
            "description_tooltip": null,
            "disabled": false,
            "icon": "globe",
            "layout": "IPY_MODEL_26f5bc72156e451dbaa5848e50eab35e",
            "style": "IPY_MODEL_a7b569332a16489aae4e8b2b2d222662",
            "tooltip": "Create timelapse",
            "value": false
          }
        },
        "0861720e4b06466597004267a09c2ee8": {
          "model_module": "@jupyter-widgets/controls",
          "model_name": "ToggleButtonModel",
          "model_module_version": "1.5.0",
          "state": {
            "_dom_classes": [],
            "_model_module": "@jupyter-widgets/controls",
            "_model_module_version": "1.5.0",
            "_model_name": "ToggleButtonModel",
            "_view_count": null,
            "_view_module": "@jupyter-widgets/controls",
            "_view_module_version": "1.5.0",
            "_view_name": "ToggleButtonView",
            "button_style": "primary",
            "description": "",
            "description_tooltip": null,
            "disabled": false,
            "icon": "fast-forward",
            "layout": "IPY_MODEL_60a0ae8f3e9347599fbf00fb0f077555",
            "style": "IPY_MODEL_edd1dd4e65e14d0e8039b28857e0c511",
            "tooltip": "Activate timeslider",
            "value": false
          }
        },
        "1baeacf0ae6a434eaa4f8d3c9be5563e": {
          "model_module": "@jupyter-widgets/controls",
          "model_name": "ToggleButtonModel",
          "model_module_version": "1.5.0",
          "state": {
            "_dom_classes": [],
            "_model_module": "@jupyter-widgets/controls",
            "_model_module_version": "1.5.0",
            "_model_name": "ToggleButtonModel",
            "_view_count": null,
            "_view_module": "@jupyter-widgets/controls",
            "_view_module_version": "1.5.0",
            "_view_name": "ToggleButtonView",
            "button_style": "primary",
            "description": "",
            "description_tooltip": null,
            "disabled": false,
            "icon": "hand-o-up",
            "layout": "IPY_MODEL_29168a0dc7d04812ad7c1d65d84c0caa",
            "style": "IPY_MODEL_9a8ee0da23b242a197f564f57c5dbf08",
            "tooltip": "Collect training samples",
            "value": false
          }
        },
        "03cd419813d341d6816f5f53166ff222": {
          "model_module": "@jupyter-widgets/controls",
          "model_name": "ToggleButtonModel",
          "model_module_version": "1.5.0",
          "state": {
            "_dom_classes": [],
            "_model_module": "@jupyter-widgets/controls",
            "_model_module_version": "1.5.0",
            "_model_name": "ToggleButtonModel",
            "_view_count": null,
            "_view_module": "@jupyter-widgets/controls",
            "_view_module_version": "1.5.0",
            "_view_name": "ToggleButtonView",
            "button_style": "primary",
            "description": "",
            "description_tooltip": null,
            "disabled": false,
            "icon": "line-chart",
            "layout": "IPY_MODEL_36ddc7ce839e47128c78a9e1f280bdad",
            "style": "IPY_MODEL_27188cbb1d15460f9abaaad266c393a7",
            "tooltip": "Creating and plotting transects",
            "value": false
          }
        },
        "9cec711f9d31402088b94e784b0c2cb8": {
          "model_module": "@jupyter-widgets/controls",
          "model_name": "ToggleButtonModel",
          "model_module_version": "1.5.0",
          "state": {
            "_dom_classes": [],
            "_model_module": "@jupyter-widgets/controls",
            "_model_module_version": "1.5.0",
            "_model_name": "ToggleButtonModel",
            "_view_count": null,
            "_view_module": "@jupyter-widgets/controls",
            "_view_module_version": "1.5.0",
            "_view_name": "ToggleButtonView",
            "button_style": "primary",
            "description": "",
            "description_tooltip": null,
            "disabled": false,
            "icon": "random",
            "layout": "IPY_MODEL_74355b81287f4e4d808dd5ed307ef573",
            "style": "IPY_MODEL_28ecaf92ca60407c9f89ad84315bae1d",
            "tooltip": "Sankey plots",
            "value": false
          }
        },
        "96ac78e1d22b448192e3a7473b3d869c": {
          "model_module": "@jupyter-widgets/controls",
          "model_name": "ToggleButtonModel",
          "model_module_version": "1.5.0",
          "state": {
            "_dom_classes": [],
            "_model_module": "@jupyter-widgets/controls",
            "_model_module_version": "1.5.0",
            "_model_name": "ToggleButtonModel",
            "_view_count": null,
            "_view_module": "@jupyter-widgets/controls",
            "_view_module_version": "1.5.0",
            "_view_name": "ToggleButtonView",
            "button_style": "primary",
            "description": "",
            "description_tooltip": null,
            "disabled": false,
            "icon": "adjust",
            "layout": "IPY_MODEL_b8e15bb3447f4274901233c8a5cb309b",
            "style": "IPY_MODEL_02f22d618cc54de58762efee37fb03f1",
            "tooltip": "Planet imagery",
            "value": false
          }
        },
        "dac9a83fa0df4fb6b085d6b0f96c6111": {
          "model_module": "@jupyter-widgets/controls",
          "model_name": "ToggleButtonModel",
          "model_module_version": "1.5.0",
          "state": {
            "_dom_classes": [],
            "_model_module": "@jupyter-widgets/controls",
            "_model_module_version": "1.5.0",
            "_model_name": "ToggleButtonModel",
            "_view_count": null,
            "_view_module": "@jupyter-widgets/controls",
            "_view_module_version": "1.5.0",
            "_view_name": "ToggleButtonView",
            "button_style": "primary",
            "description": "",
            "description_tooltip": null,
            "disabled": false,
            "icon": "info-circle",
            "layout": "IPY_MODEL_68f158a7d5eb433fbd2b93770f4bb459",
            "style": "IPY_MODEL_a105f2920f9a408f8f71f8bec6726490",
            "tooltip": "Get COG/STAC pixel value",
            "value": false
          }
        },
        "d3b661f8ec214de2983c9075036ab20a": {
          "model_module": "@jupyter-widgets/controls",
          "model_name": "ToggleButtonModel",
          "model_module_version": "1.5.0",
          "state": {
            "_dom_classes": [],
            "_model_module": "@jupyter-widgets/controls",
            "_model_module_version": "1.5.0",
            "_model_name": "ToggleButtonModel",
            "_view_count": null,
            "_view_module": "@jupyter-widgets/controls",
            "_view_module_version": "1.5.0",
            "_view_name": "ToggleButtonView",
            "button_style": "primary",
            "description": "",
            "description_tooltip": null,
            "disabled": false,
            "icon": "spinner",
            "layout": "IPY_MODEL_ede89e6e93a346e39d6445bb45bb7d42",
            "style": "IPY_MODEL_ccbc94fe0acc4a64bb7c1929946ae78a",
            "tooltip": "This is a placehold",
            "value": false
          }
        },
        "77408cfced2e46e29ad9747467017377": {
          "model_module": "@jupyter-widgets/controls",
          "model_name": "ToggleButtonModel",
          "model_module_version": "1.5.0",
          "state": {
            "_dom_classes": [],
            "_model_module": "@jupyter-widgets/controls",
            "_model_module_version": "1.5.0",
            "_model_name": "ToggleButtonModel",
            "_view_count": null,
            "_view_module": "@jupyter-widgets/controls",
            "_view_module_version": "1.5.0",
            "_view_name": "ToggleButtonView",
            "button_style": "primary",
            "description": "",
            "description_tooltip": null,
            "disabled": false,
            "icon": "question",
            "layout": "IPY_MODEL_941aca07629a4fcc87e5aa28fc2b9ab3",
            "style": "IPY_MODEL_d90b344049fa442f8c1dceb02f67a4b1",
            "tooltip": "Get help",
            "value": false
          }
        },
        "ad9df06754304bf2afb5d5e9cfb4649e": {
          "model_module": "@jupyter-widgets/base",
          "model_name": "LayoutModel",
          "model_module_version": "1.2.0",
          "state": {
            "_model_module": "@jupyter-widgets/base",
            "_model_module_version": "1.2.0",
            "_model_name": "LayoutModel",
            "_view_count": null,
            "_view_module": "@jupyter-widgets/base",
            "_view_module_version": "1.2.0",
            "_view_name": "LayoutView",
            "align_content": null,
            "align_items": null,
            "align_self": null,
            "border": null,
            "bottom": null,
            "display": null,
            "flex": null,
            "flex_flow": null,
            "grid_area": null,
            "grid_auto_columns": null,
            "grid_auto_flow": null,
            "grid_auto_rows": null,
            "grid_column": null,
            "grid_gap": "1px 1px",
            "grid_row": null,
            "grid_template_areas": null,
            "grid_template_columns": "32px 32px 32px ",
            "grid_template_rows": "32px 32px 32px 32px 32px 32px ",
            "height": null,
            "justify_content": null,
            "justify_items": null,
            "left": null,
            "margin": null,
            "max_height": null,
            "max_width": null,
            "min_height": null,
            "min_width": null,
            "object_fit": null,
            "object_position": null,
            "order": null,
            "overflow": null,
            "overflow_x": null,
            "overflow_y": null,
            "padding": "5px",
            "right": null,
            "top": null,
            "visibility": null,
            "width": "109px"
          }
        },
        "aecf555a2b564ca3a8c10b92861719bc": {
          "model_module": "@jupyter-widgets/base",
          "model_name": "LayoutModel",
          "model_module_version": "1.2.0",
          "state": {
            "_model_module": "@jupyter-widgets/base",
            "_model_module_version": "1.2.0",
            "_model_name": "LayoutModel",
            "_view_count": null,
            "_view_module": "@jupyter-widgets/base",
            "_view_module_version": "1.2.0",
            "_view_name": "LayoutView",
            "align_content": null,
            "align_items": null,
            "align_self": null,
            "border": null,
            "bottom": null,
            "display": null,
            "flex": null,
            "flex_flow": null,
            "grid_area": null,
            "grid_auto_columns": null,
            "grid_auto_flow": null,
            "grid_auto_rows": null,
            "grid_column": null,
            "grid_gap": null,
            "grid_row": null,
            "grid_template_areas": null,
            "grid_template_columns": null,
            "grid_template_rows": null,
            "height": "auto",
            "justify_content": null,
            "justify_items": null,
            "left": null,
            "margin": null,
            "max_height": null,
            "max_width": null,
            "min_height": null,
            "min_width": null,
            "object_fit": null,
            "object_position": null,
            "order": null,
            "overflow": null,
            "overflow_x": null,
            "overflow_y": null,
            "padding": "0px 0px 0px 4px",
            "right": null,
            "top": null,
            "visibility": null,
            "width": "auto"
          }
        },
        "c1c2a7fa833648e39ad963ca4a2f7636": {
          "model_module": "@jupyter-widgets/controls",
          "model_name": "DescriptionStyleModel",
          "model_module_version": "1.5.0",
          "state": {
            "_model_module": "@jupyter-widgets/controls",
            "_model_module_version": "1.5.0",
            "_model_name": "DescriptionStyleModel",
            "_view_count": null,
            "_view_module": "@jupyter-widgets/base",
            "_view_module_version": "1.2.0",
            "_view_name": "StyleView",
            "description_width": ""
          }
        },
        "957aecd5385e4c068681c6d61be18bc8": {
          "model_module": "@jupyter-widgets/base",
          "model_name": "LayoutModel",
          "model_module_version": "1.2.0",
          "state": {
            "_model_module": "@jupyter-widgets/base",
            "_model_module_version": "1.2.0",
            "_model_name": "LayoutModel",
            "_view_count": null,
            "_view_module": "@jupyter-widgets/base",
            "_view_module_version": "1.2.0",
            "_view_name": "LayoutView",
            "align_content": null,
            "align_items": null,
            "align_self": null,
            "border": null,
            "bottom": null,
            "display": null,
            "flex": null,
            "flex_flow": null,
            "grid_area": null,
            "grid_auto_columns": null,
            "grid_auto_flow": null,
            "grid_auto_rows": null,
            "grid_column": null,
            "grid_gap": null,
            "grid_row": null,
            "grid_template_areas": null,
            "grid_template_columns": null,
            "grid_template_rows": null,
            "height": "auto",
            "justify_content": null,
            "justify_items": null,
            "left": null,
            "margin": null,
            "max_height": null,
            "max_width": null,
            "min_height": null,
            "min_width": null,
            "object_fit": null,
            "object_position": null,
            "order": null,
            "overflow": null,
            "overflow_x": null,
            "overflow_y": null,
            "padding": "0px 0px 0px 4px",
            "right": null,
            "top": null,
            "visibility": null,
            "width": "auto"
          }
        },
        "fb45d9e7b057480ba35279301f107eba": {
          "model_module": "@jupyter-widgets/controls",
          "model_name": "DescriptionStyleModel",
          "model_module_version": "1.5.0",
          "state": {
            "_model_module": "@jupyter-widgets/controls",
            "_model_module_version": "1.5.0",
            "_model_name": "DescriptionStyleModel",
            "_view_count": null,
            "_view_module": "@jupyter-widgets/base",
            "_view_module_version": "1.2.0",
            "_view_name": "StyleView",
            "description_width": ""
          }
        },
        "e0161dffd47b4d94b110ac3c46660287": {
          "model_module": "@jupyter-widgets/base",
          "model_name": "LayoutModel",
          "model_module_version": "1.2.0",
          "state": {
            "_model_module": "@jupyter-widgets/base",
            "_model_module_version": "1.2.0",
            "_model_name": "LayoutModel",
            "_view_count": null,
            "_view_module": "@jupyter-widgets/base",
            "_view_module_version": "1.2.0",
            "_view_name": "LayoutView",
            "align_content": null,
            "align_items": null,
            "align_self": null,
            "border": null,
            "bottom": null,
            "display": null,
            "flex": null,
            "flex_flow": null,
            "grid_area": null,
            "grid_auto_columns": null,
            "grid_auto_flow": null,
            "grid_auto_rows": null,
            "grid_column": null,
            "grid_gap": null,
            "grid_row": null,
            "grid_template_areas": null,
            "grid_template_columns": null,
            "grid_template_rows": null,
            "height": "auto",
            "justify_content": null,
            "justify_items": null,
            "left": null,
            "margin": null,
            "max_height": null,
            "max_width": null,
            "min_height": null,
            "min_width": null,
            "object_fit": null,
            "object_position": null,
            "order": null,
            "overflow": null,
            "overflow_x": null,
            "overflow_y": null,
            "padding": "0px 0px 0px 4px",
            "right": null,
            "top": null,
            "visibility": null,
            "width": "auto"
          }
        },
        "d6a99e763eae466e98701b4ace426962": {
          "model_module": "@jupyter-widgets/controls",
          "model_name": "DescriptionStyleModel",
          "model_module_version": "1.5.0",
          "state": {
            "_model_module": "@jupyter-widgets/controls",
            "_model_module_version": "1.5.0",
            "_model_name": "DescriptionStyleModel",
            "_view_count": null,
            "_view_module": "@jupyter-widgets/base",
            "_view_module_version": "1.2.0",
            "_view_name": "StyleView",
            "description_width": ""
          }
        },
        "b18d2495590747ecbb6772137f6bb480": {
          "model_module": "@jupyter-widgets/base",
          "model_name": "LayoutModel",
          "model_module_version": "1.2.0",
          "state": {
            "_model_module": "@jupyter-widgets/base",
            "_model_module_version": "1.2.0",
            "_model_name": "LayoutModel",
            "_view_count": null,
            "_view_module": "@jupyter-widgets/base",
            "_view_module_version": "1.2.0",
            "_view_name": "LayoutView",
            "align_content": null,
            "align_items": null,
            "align_self": null,
            "border": null,
            "bottom": null,
            "display": null,
            "flex": null,
            "flex_flow": null,
            "grid_area": null,
            "grid_auto_columns": null,
            "grid_auto_flow": null,
            "grid_auto_rows": null,
            "grid_column": null,
            "grid_gap": null,
            "grid_row": null,
            "grid_template_areas": null,
            "grid_template_columns": null,
            "grid_template_rows": null,
            "height": "auto",
            "justify_content": null,
            "justify_items": null,
            "left": null,
            "margin": null,
            "max_height": null,
            "max_width": null,
            "min_height": null,
            "min_width": null,
            "object_fit": null,
            "object_position": null,
            "order": null,
            "overflow": null,
            "overflow_x": null,
            "overflow_y": null,
            "padding": "0px 0px 0px 4px",
            "right": null,
            "top": null,
            "visibility": null,
            "width": "auto"
          }
        },
        "167f41f083484664bf8559b41a08439c": {
          "model_module": "@jupyter-widgets/controls",
          "model_name": "DescriptionStyleModel",
          "model_module_version": "1.5.0",
          "state": {
            "_model_module": "@jupyter-widgets/controls",
            "_model_module_version": "1.5.0",
            "_model_name": "DescriptionStyleModel",
            "_view_count": null,
            "_view_module": "@jupyter-widgets/base",
            "_view_module_version": "1.2.0",
            "_view_name": "StyleView",
            "description_width": ""
          }
        },
        "2eb51657b4e0493a97264f8098175d15": {
          "model_module": "@jupyter-widgets/base",
          "model_name": "LayoutModel",
          "model_module_version": "1.2.0",
          "state": {
            "_model_module": "@jupyter-widgets/base",
            "_model_module_version": "1.2.0",
            "_model_name": "LayoutModel",
            "_view_count": null,
            "_view_module": "@jupyter-widgets/base",
            "_view_module_version": "1.2.0",
            "_view_name": "LayoutView",
            "align_content": null,
            "align_items": null,
            "align_self": null,
            "border": null,
            "bottom": null,
            "display": null,
            "flex": null,
            "flex_flow": null,
            "grid_area": null,
            "grid_auto_columns": null,
            "grid_auto_flow": null,
            "grid_auto_rows": null,
            "grid_column": null,
            "grid_gap": null,
            "grid_row": null,
            "grid_template_areas": null,
            "grid_template_columns": null,
            "grid_template_rows": null,
            "height": "auto",
            "justify_content": null,
            "justify_items": null,
            "left": null,
            "margin": null,
            "max_height": null,
            "max_width": null,
            "min_height": null,
            "min_width": null,
            "object_fit": null,
            "object_position": null,
            "order": null,
            "overflow": null,
            "overflow_x": null,
            "overflow_y": null,
            "padding": "0px 0px 0px 4px",
            "right": null,
            "top": null,
            "visibility": null,
            "width": "auto"
          }
        },
        "016adacb94264723b95c061f7c577307": {
          "model_module": "@jupyter-widgets/controls",
          "model_name": "DescriptionStyleModel",
          "model_module_version": "1.5.0",
          "state": {
            "_model_module": "@jupyter-widgets/controls",
            "_model_module_version": "1.5.0",
            "_model_name": "DescriptionStyleModel",
            "_view_count": null,
            "_view_module": "@jupyter-widgets/base",
            "_view_module_version": "1.2.0",
            "_view_name": "StyleView",
            "description_width": ""
          }
        },
        "187f7b606265489198e536a732b3de6d": {
          "model_module": "@jupyter-widgets/base",
          "model_name": "LayoutModel",
          "model_module_version": "1.2.0",
          "state": {
            "_model_module": "@jupyter-widgets/base",
            "_model_module_version": "1.2.0",
            "_model_name": "LayoutModel",
            "_view_count": null,
            "_view_module": "@jupyter-widgets/base",
            "_view_module_version": "1.2.0",
            "_view_name": "LayoutView",
            "align_content": null,
            "align_items": null,
            "align_self": null,
            "border": null,
            "bottom": null,
            "display": null,
            "flex": null,
            "flex_flow": null,
            "grid_area": null,
            "grid_auto_columns": null,
            "grid_auto_flow": null,
            "grid_auto_rows": null,
            "grid_column": null,
            "grid_gap": null,
            "grid_row": null,
            "grid_template_areas": null,
            "grid_template_columns": null,
            "grid_template_rows": null,
            "height": "auto",
            "justify_content": null,
            "justify_items": null,
            "left": null,
            "margin": null,
            "max_height": null,
            "max_width": null,
            "min_height": null,
            "min_width": null,
            "object_fit": null,
            "object_position": null,
            "order": null,
            "overflow": null,
            "overflow_x": null,
            "overflow_y": null,
            "padding": "0px 0px 0px 4px",
            "right": null,
            "top": null,
            "visibility": null,
            "width": "auto"
          }
        },
        "eb13ffade77a4b5093f777cfa1ba4931": {
          "model_module": "@jupyter-widgets/controls",
          "model_name": "DescriptionStyleModel",
          "model_module_version": "1.5.0",
          "state": {
            "_model_module": "@jupyter-widgets/controls",
            "_model_module_version": "1.5.0",
            "_model_name": "DescriptionStyleModel",
            "_view_count": null,
            "_view_module": "@jupyter-widgets/base",
            "_view_module_version": "1.2.0",
            "_view_name": "StyleView",
            "description_width": ""
          }
        },
        "ff15f7b75ab94e76a517df9232f3999e": {
          "model_module": "@jupyter-widgets/base",
          "model_name": "LayoutModel",
          "model_module_version": "1.2.0",
          "state": {
            "_model_module": "@jupyter-widgets/base",
            "_model_module_version": "1.2.0",
            "_model_name": "LayoutModel",
            "_view_count": null,
            "_view_module": "@jupyter-widgets/base",
            "_view_module_version": "1.2.0",
            "_view_name": "LayoutView",
            "align_content": null,
            "align_items": null,
            "align_self": null,
            "border": null,
            "bottom": null,
            "display": null,
            "flex": null,
            "flex_flow": null,
            "grid_area": null,
            "grid_auto_columns": null,
            "grid_auto_flow": null,
            "grid_auto_rows": null,
            "grid_column": null,
            "grid_gap": null,
            "grid_row": null,
            "grid_template_areas": null,
            "grid_template_columns": null,
            "grid_template_rows": null,
            "height": "auto",
            "justify_content": null,
            "justify_items": null,
            "left": null,
            "margin": null,
            "max_height": null,
            "max_width": null,
            "min_height": null,
            "min_width": null,
            "object_fit": null,
            "object_position": null,
            "order": null,
            "overflow": null,
            "overflow_x": null,
            "overflow_y": null,
            "padding": "0px 0px 0px 4px",
            "right": null,
            "top": null,
            "visibility": null,
            "width": "auto"
          }
        },
        "3a4e605ac3354169b86ab3bbe9dd17d1": {
          "model_module": "@jupyter-widgets/controls",
          "model_name": "DescriptionStyleModel",
          "model_module_version": "1.5.0",
          "state": {
            "_model_module": "@jupyter-widgets/controls",
            "_model_module_version": "1.5.0",
            "_model_name": "DescriptionStyleModel",
            "_view_count": null,
            "_view_module": "@jupyter-widgets/base",
            "_view_module_version": "1.2.0",
            "_view_name": "StyleView",
            "description_width": ""
          }
        },
        "4415446d0a494bbea0ca6b394550e597": {
          "model_module": "@jupyter-widgets/base",
          "model_name": "LayoutModel",
          "model_module_version": "1.2.0",
          "state": {
            "_model_module": "@jupyter-widgets/base",
            "_model_module_version": "1.2.0",
            "_model_name": "LayoutModel",
            "_view_count": null,
            "_view_module": "@jupyter-widgets/base",
            "_view_module_version": "1.2.0",
            "_view_name": "LayoutView",
            "align_content": null,
            "align_items": null,
            "align_self": null,
            "border": null,
            "bottom": null,
            "display": null,
            "flex": null,
            "flex_flow": null,
            "grid_area": null,
            "grid_auto_columns": null,
            "grid_auto_flow": null,
            "grid_auto_rows": null,
            "grid_column": null,
            "grid_gap": null,
            "grid_row": null,
            "grid_template_areas": null,
            "grid_template_columns": null,
            "grid_template_rows": null,
            "height": "auto",
            "justify_content": null,
            "justify_items": null,
            "left": null,
            "margin": null,
            "max_height": null,
            "max_width": null,
            "min_height": null,
            "min_width": null,
            "object_fit": null,
            "object_position": null,
            "order": null,
            "overflow": null,
            "overflow_x": null,
            "overflow_y": null,
            "padding": "0px 0px 0px 4px",
            "right": null,
            "top": null,
            "visibility": null,
            "width": "auto"
          }
        },
        "c71837950a00414db8a1f50e8c600981": {
          "model_module": "@jupyter-widgets/controls",
          "model_name": "DescriptionStyleModel",
          "model_module_version": "1.5.0",
          "state": {
            "_model_module": "@jupyter-widgets/controls",
            "_model_module_version": "1.5.0",
            "_model_name": "DescriptionStyleModel",
            "_view_count": null,
            "_view_module": "@jupyter-widgets/base",
            "_view_module_version": "1.2.0",
            "_view_name": "StyleView",
            "description_width": ""
          }
        },
        "4521c1d74e704879b57d44cf7f019f66": {
          "model_module": "@jupyter-widgets/base",
          "model_name": "LayoutModel",
          "model_module_version": "1.2.0",
          "state": {
            "_model_module": "@jupyter-widgets/base",
            "_model_module_version": "1.2.0",
            "_model_name": "LayoutModel",
            "_view_count": null,
            "_view_module": "@jupyter-widgets/base",
            "_view_module_version": "1.2.0",
            "_view_name": "LayoutView",
            "align_content": null,
            "align_items": null,
            "align_self": null,
            "border": null,
            "bottom": null,
            "display": null,
            "flex": null,
            "flex_flow": null,
            "grid_area": null,
            "grid_auto_columns": null,
            "grid_auto_flow": null,
            "grid_auto_rows": null,
            "grid_column": null,
            "grid_gap": null,
            "grid_row": null,
            "grid_template_areas": null,
            "grid_template_columns": null,
            "grid_template_rows": null,
            "height": "auto",
            "justify_content": null,
            "justify_items": null,
            "left": null,
            "margin": null,
            "max_height": null,
            "max_width": null,
            "min_height": null,
            "min_width": null,
            "object_fit": null,
            "object_position": null,
            "order": null,
            "overflow": null,
            "overflow_x": null,
            "overflow_y": null,
            "padding": "0px 0px 0px 4px",
            "right": null,
            "top": null,
            "visibility": null,
            "width": "auto"
          }
        },
        "50ca39771bf04b9abda93b28b8d24b71": {
          "model_module": "@jupyter-widgets/controls",
          "model_name": "DescriptionStyleModel",
          "model_module_version": "1.5.0",
          "state": {
            "_model_module": "@jupyter-widgets/controls",
            "_model_module_version": "1.5.0",
            "_model_name": "DescriptionStyleModel",
            "_view_count": null,
            "_view_module": "@jupyter-widgets/base",
            "_view_module_version": "1.2.0",
            "_view_name": "StyleView",
            "description_width": ""
          }
        },
        "26f5bc72156e451dbaa5848e50eab35e": {
          "model_module": "@jupyter-widgets/base",
          "model_name": "LayoutModel",
          "model_module_version": "1.2.0",
          "state": {
            "_model_module": "@jupyter-widgets/base",
            "_model_module_version": "1.2.0",
            "_model_name": "LayoutModel",
            "_view_count": null,
            "_view_module": "@jupyter-widgets/base",
            "_view_module_version": "1.2.0",
            "_view_name": "LayoutView",
            "align_content": null,
            "align_items": null,
            "align_self": null,
            "border": null,
            "bottom": null,
            "display": null,
            "flex": null,
            "flex_flow": null,
            "grid_area": null,
            "grid_auto_columns": null,
            "grid_auto_flow": null,
            "grid_auto_rows": null,
            "grid_column": null,
            "grid_gap": null,
            "grid_row": null,
            "grid_template_areas": null,
            "grid_template_columns": null,
            "grid_template_rows": null,
            "height": "auto",
            "justify_content": null,
            "justify_items": null,
            "left": null,
            "margin": null,
            "max_height": null,
            "max_width": null,
            "min_height": null,
            "min_width": null,
            "object_fit": null,
            "object_position": null,
            "order": null,
            "overflow": null,
            "overflow_x": null,
            "overflow_y": null,
            "padding": "0px 0px 0px 4px",
            "right": null,
            "top": null,
            "visibility": null,
            "width": "auto"
          }
        },
        "a7b569332a16489aae4e8b2b2d222662": {
          "model_module": "@jupyter-widgets/controls",
          "model_name": "DescriptionStyleModel",
          "model_module_version": "1.5.0",
          "state": {
            "_model_module": "@jupyter-widgets/controls",
            "_model_module_version": "1.5.0",
            "_model_name": "DescriptionStyleModel",
            "_view_count": null,
            "_view_module": "@jupyter-widgets/base",
            "_view_module_version": "1.2.0",
            "_view_name": "StyleView",
            "description_width": ""
          }
        },
        "60a0ae8f3e9347599fbf00fb0f077555": {
          "model_module": "@jupyter-widgets/base",
          "model_name": "LayoutModel",
          "model_module_version": "1.2.0",
          "state": {
            "_model_module": "@jupyter-widgets/base",
            "_model_module_version": "1.2.0",
            "_model_name": "LayoutModel",
            "_view_count": null,
            "_view_module": "@jupyter-widgets/base",
            "_view_module_version": "1.2.0",
            "_view_name": "LayoutView",
            "align_content": null,
            "align_items": null,
            "align_self": null,
            "border": null,
            "bottom": null,
            "display": null,
            "flex": null,
            "flex_flow": null,
            "grid_area": null,
            "grid_auto_columns": null,
            "grid_auto_flow": null,
            "grid_auto_rows": null,
            "grid_column": null,
            "grid_gap": null,
            "grid_row": null,
            "grid_template_areas": null,
            "grid_template_columns": null,
            "grid_template_rows": null,
            "height": "auto",
            "justify_content": null,
            "justify_items": null,
            "left": null,
            "margin": null,
            "max_height": null,
            "max_width": null,
            "min_height": null,
            "min_width": null,
            "object_fit": null,
            "object_position": null,
            "order": null,
            "overflow": null,
            "overflow_x": null,
            "overflow_y": null,
            "padding": "0px 0px 0px 4px",
            "right": null,
            "top": null,
            "visibility": null,
            "width": "auto"
          }
        },
        "edd1dd4e65e14d0e8039b28857e0c511": {
          "model_module": "@jupyter-widgets/controls",
          "model_name": "DescriptionStyleModel",
          "model_module_version": "1.5.0",
          "state": {
            "_model_module": "@jupyter-widgets/controls",
            "_model_module_version": "1.5.0",
            "_model_name": "DescriptionStyleModel",
            "_view_count": null,
            "_view_module": "@jupyter-widgets/base",
            "_view_module_version": "1.2.0",
            "_view_name": "StyleView",
            "description_width": ""
          }
        },
        "29168a0dc7d04812ad7c1d65d84c0caa": {
          "model_module": "@jupyter-widgets/base",
          "model_name": "LayoutModel",
          "model_module_version": "1.2.0",
          "state": {
            "_model_module": "@jupyter-widgets/base",
            "_model_module_version": "1.2.0",
            "_model_name": "LayoutModel",
            "_view_count": null,
            "_view_module": "@jupyter-widgets/base",
            "_view_module_version": "1.2.0",
            "_view_name": "LayoutView",
            "align_content": null,
            "align_items": null,
            "align_self": null,
            "border": null,
            "bottom": null,
            "display": null,
            "flex": null,
            "flex_flow": null,
            "grid_area": null,
            "grid_auto_columns": null,
            "grid_auto_flow": null,
            "grid_auto_rows": null,
            "grid_column": null,
            "grid_gap": null,
            "grid_row": null,
            "grid_template_areas": null,
            "grid_template_columns": null,
            "grid_template_rows": null,
            "height": "auto",
            "justify_content": null,
            "justify_items": null,
            "left": null,
            "margin": null,
            "max_height": null,
            "max_width": null,
            "min_height": null,
            "min_width": null,
            "object_fit": null,
            "object_position": null,
            "order": null,
            "overflow": null,
            "overflow_x": null,
            "overflow_y": null,
            "padding": "0px 0px 0px 4px",
            "right": null,
            "top": null,
            "visibility": null,
            "width": "auto"
          }
        },
        "9a8ee0da23b242a197f564f57c5dbf08": {
          "model_module": "@jupyter-widgets/controls",
          "model_name": "DescriptionStyleModel",
          "model_module_version": "1.5.0",
          "state": {
            "_model_module": "@jupyter-widgets/controls",
            "_model_module_version": "1.5.0",
            "_model_name": "DescriptionStyleModel",
            "_view_count": null,
            "_view_module": "@jupyter-widgets/base",
            "_view_module_version": "1.2.0",
            "_view_name": "StyleView",
            "description_width": ""
          }
        },
        "36ddc7ce839e47128c78a9e1f280bdad": {
          "model_module": "@jupyter-widgets/base",
          "model_name": "LayoutModel",
          "model_module_version": "1.2.0",
          "state": {
            "_model_module": "@jupyter-widgets/base",
            "_model_module_version": "1.2.0",
            "_model_name": "LayoutModel",
            "_view_count": null,
            "_view_module": "@jupyter-widgets/base",
            "_view_module_version": "1.2.0",
            "_view_name": "LayoutView",
            "align_content": null,
            "align_items": null,
            "align_self": null,
            "border": null,
            "bottom": null,
            "display": null,
            "flex": null,
            "flex_flow": null,
            "grid_area": null,
            "grid_auto_columns": null,
            "grid_auto_flow": null,
            "grid_auto_rows": null,
            "grid_column": null,
            "grid_gap": null,
            "grid_row": null,
            "grid_template_areas": null,
            "grid_template_columns": null,
            "grid_template_rows": null,
            "height": "auto",
            "justify_content": null,
            "justify_items": null,
            "left": null,
            "margin": null,
            "max_height": null,
            "max_width": null,
            "min_height": null,
            "min_width": null,
            "object_fit": null,
            "object_position": null,
            "order": null,
            "overflow": null,
            "overflow_x": null,
            "overflow_y": null,
            "padding": "0px 0px 0px 4px",
            "right": null,
            "top": null,
            "visibility": null,
            "width": "auto"
          }
        },
        "27188cbb1d15460f9abaaad266c393a7": {
          "model_module": "@jupyter-widgets/controls",
          "model_name": "DescriptionStyleModel",
          "model_module_version": "1.5.0",
          "state": {
            "_model_module": "@jupyter-widgets/controls",
            "_model_module_version": "1.5.0",
            "_model_name": "DescriptionStyleModel",
            "_view_count": null,
            "_view_module": "@jupyter-widgets/base",
            "_view_module_version": "1.2.0",
            "_view_name": "StyleView",
            "description_width": ""
          }
        },
        "74355b81287f4e4d808dd5ed307ef573": {
          "model_module": "@jupyter-widgets/base",
          "model_name": "LayoutModel",
          "model_module_version": "1.2.0",
          "state": {
            "_model_module": "@jupyter-widgets/base",
            "_model_module_version": "1.2.0",
            "_model_name": "LayoutModel",
            "_view_count": null,
            "_view_module": "@jupyter-widgets/base",
            "_view_module_version": "1.2.0",
            "_view_name": "LayoutView",
            "align_content": null,
            "align_items": null,
            "align_self": null,
            "border": null,
            "bottom": null,
            "display": null,
            "flex": null,
            "flex_flow": null,
            "grid_area": null,
            "grid_auto_columns": null,
            "grid_auto_flow": null,
            "grid_auto_rows": null,
            "grid_column": null,
            "grid_gap": null,
            "grid_row": null,
            "grid_template_areas": null,
            "grid_template_columns": null,
            "grid_template_rows": null,
            "height": "auto",
            "justify_content": null,
            "justify_items": null,
            "left": null,
            "margin": null,
            "max_height": null,
            "max_width": null,
            "min_height": null,
            "min_width": null,
            "object_fit": null,
            "object_position": null,
            "order": null,
            "overflow": null,
            "overflow_x": null,
            "overflow_y": null,
            "padding": "0px 0px 0px 4px",
            "right": null,
            "top": null,
            "visibility": null,
            "width": "auto"
          }
        },
        "28ecaf92ca60407c9f89ad84315bae1d": {
          "model_module": "@jupyter-widgets/controls",
          "model_name": "DescriptionStyleModel",
          "model_module_version": "1.5.0",
          "state": {
            "_model_module": "@jupyter-widgets/controls",
            "_model_module_version": "1.5.0",
            "_model_name": "DescriptionStyleModel",
            "_view_count": null,
            "_view_module": "@jupyter-widgets/base",
            "_view_module_version": "1.2.0",
            "_view_name": "StyleView",
            "description_width": ""
          }
        },
        "b8e15bb3447f4274901233c8a5cb309b": {
          "model_module": "@jupyter-widgets/base",
          "model_name": "LayoutModel",
          "model_module_version": "1.2.0",
          "state": {
            "_model_module": "@jupyter-widgets/base",
            "_model_module_version": "1.2.0",
            "_model_name": "LayoutModel",
            "_view_count": null,
            "_view_module": "@jupyter-widgets/base",
            "_view_module_version": "1.2.0",
            "_view_name": "LayoutView",
            "align_content": null,
            "align_items": null,
            "align_self": null,
            "border": null,
            "bottom": null,
            "display": null,
            "flex": null,
            "flex_flow": null,
            "grid_area": null,
            "grid_auto_columns": null,
            "grid_auto_flow": null,
            "grid_auto_rows": null,
            "grid_column": null,
            "grid_gap": null,
            "grid_row": null,
            "grid_template_areas": null,
            "grid_template_columns": null,
            "grid_template_rows": null,
            "height": "auto",
            "justify_content": null,
            "justify_items": null,
            "left": null,
            "margin": null,
            "max_height": null,
            "max_width": null,
            "min_height": null,
            "min_width": null,
            "object_fit": null,
            "object_position": null,
            "order": null,
            "overflow": null,
            "overflow_x": null,
            "overflow_y": null,
            "padding": "0px 0px 0px 4px",
            "right": null,
            "top": null,
            "visibility": null,
            "width": "auto"
          }
        },
        "02f22d618cc54de58762efee37fb03f1": {
          "model_module": "@jupyter-widgets/controls",
          "model_name": "DescriptionStyleModel",
          "model_module_version": "1.5.0",
          "state": {
            "_model_module": "@jupyter-widgets/controls",
            "_model_module_version": "1.5.0",
            "_model_name": "DescriptionStyleModel",
            "_view_count": null,
            "_view_module": "@jupyter-widgets/base",
            "_view_module_version": "1.2.0",
            "_view_name": "StyleView",
            "description_width": ""
          }
        },
        "68f158a7d5eb433fbd2b93770f4bb459": {
          "model_module": "@jupyter-widgets/base",
          "model_name": "LayoutModel",
          "model_module_version": "1.2.0",
          "state": {
            "_model_module": "@jupyter-widgets/base",
            "_model_module_version": "1.2.0",
            "_model_name": "LayoutModel",
            "_view_count": null,
            "_view_module": "@jupyter-widgets/base",
            "_view_module_version": "1.2.0",
            "_view_name": "LayoutView",
            "align_content": null,
            "align_items": null,
            "align_self": null,
            "border": null,
            "bottom": null,
            "display": null,
            "flex": null,
            "flex_flow": null,
            "grid_area": null,
            "grid_auto_columns": null,
            "grid_auto_flow": null,
            "grid_auto_rows": null,
            "grid_column": null,
            "grid_gap": null,
            "grid_row": null,
            "grid_template_areas": null,
            "grid_template_columns": null,
            "grid_template_rows": null,
            "height": "auto",
            "justify_content": null,
            "justify_items": null,
            "left": null,
            "margin": null,
            "max_height": null,
            "max_width": null,
            "min_height": null,
            "min_width": null,
            "object_fit": null,
            "object_position": null,
            "order": null,
            "overflow": null,
            "overflow_x": null,
            "overflow_y": null,
            "padding": "0px 0px 0px 4px",
            "right": null,
            "top": null,
            "visibility": null,
            "width": "auto"
          }
        },
        "a105f2920f9a408f8f71f8bec6726490": {
          "model_module": "@jupyter-widgets/controls",
          "model_name": "DescriptionStyleModel",
          "model_module_version": "1.5.0",
          "state": {
            "_model_module": "@jupyter-widgets/controls",
            "_model_module_version": "1.5.0",
            "_model_name": "DescriptionStyleModel",
            "_view_count": null,
            "_view_module": "@jupyter-widgets/base",
            "_view_module_version": "1.2.0",
            "_view_name": "StyleView",
            "description_width": ""
          }
        },
        "ede89e6e93a346e39d6445bb45bb7d42": {
          "model_module": "@jupyter-widgets/base",
          "model_name": "LayoutModel",
          "model_module_version": "1.2.0",
          "state": {
            "_model_module": "@jupyter-widgets/base",
            "_model_module_version": "1.2.0",
            "_model_name": "LayoutModel",
            "_view_count": null,
            "_view_module": "@jupyter-widgets/base",
            "_view_module_version": "1.2.0",
            "_view_name": "LayoutView",
            "align_content": null,
            "align_items": null,
            "align_self": null,
            "border": null,
            "bottom": null,
            "display": null,
            "flex": null,
            "flex_flow": null,
            "grid_area": null,
            "grid_auto_columns": null,
            "grid_auto_flow": null,
            "grid_auto_rows": null,
            "grid_column": null,
            "grid_gap": null,
            "grid_row": null,
            "grid_template_areas": null,
            "grid_template_columns": null,
            "grid_template_rows": null,
            "height": "auto",
            "justify_content": null,
            "justify_items": null,
            "left": null,
            "margin": null,
            "max_height": null,
            "max_width": null,
            "min_height": null,
            "min_width": null,
            "object_fit": null,
            "object_position": null,
            "order": null,
            "overflow": null,
            "overflow_x": null,
            "overflow_y": null,
            "padding": "0px 0px 0px 4px",
            "right": null,
            "top": null,
            "visibility": null,
            "width": "auto"
          }
        },
        "ccbc94fe0acc4a64bb7c1929946ae78a": {
          "model_module": "@jupyter-widgets/controls",
          "model_name": "DescriptionStyleModel",
          "model_module_version": "1.5.0",
          "state": {
            "_model_module": "@jupyter-widgets/controls",
            "_model_module_version": "1.5.0",
            "_model_name": "DescriptionStyleModel",
            "_view_count": null,
            "_view_module": "@jupyter-widgets/base",
            "_view_module_version": "1.2.0",
            "_view_name": "StyleView",
            "description_width": ""
          }
        },
        "941aca07629a4fcc87e5aa28fc2b9ab3": {
          "model_module": "@jupyter-widgets/base",
          "model_name": "LayoutModel",
          "model_module_version": "1.2.0",
          "state": {
            "_model_module": "@jupyter-widgets/base",
            "_model_module_version": "1.2.0",
            "_model_name": "LayoutModel",
            "_view_count": null,
            "_view_module": "@jupyter-widgets/base",
            "_view_module_version": "1.2.0",
            "_view_name": "LayoutView",
            "align_content": null,
            "align_items": null,
            "align_self": null,
            "border": null,
            "bottom": null,
            "display": null,
            "flex": null,
            "flex_flow": null,
            "grid_area": null,
            "grid_auto_columns": null,
            "grid_auto_flow": null,
            "grid_auto_rows": null,
            "grid_column": null,
            "grid_gap": null,
            "grid_row": null,
            "grid_template_areas": null,
            "grid_template_columns": null,
            "grid_template_rows": null,
            "height": "auto",
            "justify_content": null,
            "justify_items": null,
            "left": null,
            "margin": null,
            "max_height": null,
            "max_width": null,
            "min_height": null,
            "min_width": null,
            "object_fit": null,
            "object_position": null,
            "order": null,
            "overflow": null,
            "overflow_x": null,
            "overflow_y": null,
            "padding": "0px 0px 0px 4px",
            "right": null,
            "top": null,
            "visibility": null,
            "width": "auto"
          }
        },
        "d90b344049fa442f8c1dceb02f67a4b1": {
          "model_module": "@jupyter-widgets/controls",
          "model_name": "DescriptionStyleModel",
          "model_module_version": "1.5.0",
          "state": {
            "_model_module": "@jupyter-widgets/controls",
            "_model_module_version": "1.5.0",
            "_model_name": "DescriptionStyleModel",
            "_view_count": null,
            "_view_module": "@jupyter-widgets/base",
            "_view_module_version": "1.2.0",
            "_view_name": "StyleView",
            "description_width": ""
          }
        },
        "580958f83d674dd6b07421c7a3878158": {
          "model_module": "@jupyter-widgets/base",
          "model_name": "LayoutModel",
          "model_module_version": "1.2.0",
          "state": {
            "_model_module": "@jupyter-widgets/base",
            "_model_module_version": "1.2.0",
            "_model_name": "LayoutModel",
            "_view_count": null,
            "_view_module": "@jupyter-widgets/base",
            "_view_module_version": "1.2.0",
            "_view_name": "LayoutView",
            "align_content": null,
            "align_items": null,
            "align_self": null,
            "border": null,
            "bottom": null,
            "display": null,
            "flex": null,
            "flex_flow": null,
            "grid_area": null,
            "grid_auto_columns": null,
            "grid_auto_flow": null,
            "grid_auto_rows": null,
            "grid_column": null,
            "grid_gap": null,
            "grid_row": null,
            "grid_template_areas": null,
            "grid_template_columns": null,
            "grid_template_rows": null,
            "height": "18px",
            "justify_content": null,
            "justify_items": null,
            "left": null,
            "margin": null,
            "max_height": null,
            "max_width": null,
            "min_height": null,
            "min_width": null,
            "object_fit": null,
            "object_position": null,
            "order": null,
            "overflow": null,
            "overflow_x": null,
            "overflow_y": null,
            "padding": "0px 8px 25px 8px",
            "right": null,
            "top": null,
            "visibility": null,
            "width": "30ex"
          }
        },
        "008860b6969448afbb9395a7096ee934": {
          "model_module": "@jupyter-widgets/controls",
          "model_name": "DescriptionStyleModel",
          "model_module_version": "1.5.0",
          "state": {
            "_model_module": "@jupyter-widgets/controls",
            "_model_module_version": "1.5.0",
            "_model_name": "DescriptionStyleModel",
            "_view_count": null,
            "_view_module": "@jupyter-widgets/base",
            "_view_module_version": "1.2.0",
            "_view_name": "StyleView",
            "description_width": ""
          }
        },
        "a3eb44c84f3e43ee9069a324cf373f40": {
          "model_module": "@jupyter-widgets/base",
          "model_name": "LayoutModel",
          "model_module_version": "1.2.0",
          "state": {
            "_model_module": "@jupyter-widgets/base",
            "_model_module_version": "1.2.0",
            "_model_name": "LayoutModel",
            "_view_count": null,
            "_view_module": "@jupyter-widgets/base",
            "_view_module_version": "1.2.0",
            "_view_name": "LayoutView",
            "align_content": null,
            "align_items": null,
            "align_self": null,
            "border": null,
            "bottom": null,
            "display": null,
            "flex": null,
            "flex_flow": null,
            "grid_area": null,
            "grid_auto_columns": null,
            "grid_auto_flow": null,
            "grid_auto_rows": null,
            "grid_column": null,
            "grid_gap": null,
            "grid_row": null,
            "grid_template_areas": null,
            "grid_template_columns": null,
            "grid_template_rows": null,
            "height": "18px",
            "justify_content": null,
            "justify_items": null,
            "left": null,
            "margin": null,
            "max_height": null,
            "max_width": null,
            "min_height": null,
            "min_width": null,
            "object_fit": null,
            "object_position": null,
            "order": null,
            "overflow": null,
            "overflow_x": null,
            "overflow_y": null,
            "padding": null,
            "right": null,
            "top": null,
            "visibility": null,
            "width": "25ex"
          }
        },
        "018a47f3157a46a5b7ddf6b6049eba0a": {
          "model_module": "@jupyter-widgets/controls",
          "model_name": "DescriptionStyleModel",
          "model_module_version": "1.5.0",
          "state": {
            "_model_module": "@jupyter-widgets/controls",
            "_model_module_version": "1.5.0",
            "_model_name": "DescriptionStyleModel",
            "_view_count": null,
            "_view_module": "@jupyter-widgets/base",
            "_view_module_version": "1.2.0",
            "_view_name": "StyleView",
            "description_width": ""
          }
        },
        "fbec2d05596c4b67a9a4c0e6bb10820d": {
          "model_module": "@jupyter-widgets/base",
          "model_name": "LayoutModel",
          "model_module_version": "1.2.0",
          "state": {
            "_model_module": "@jupyter-widgets/base",
            "_model_module_version": "1.2.0",
            "_model_name": "LayoutModel",
            "_view_count": null,
            "_view_module": "@jupyter-widgets/base",
            "_view_module_version": "1.2.0",
            "_view_name": "LayoutView",
            "align_content": null,
            "align_items": null,
            "align_self": null,
            "border": null,
            "bottom": null,
            "display": null,
            "flex": null,
            "flex_flow": null,
            "grid_area": null,
            "grid_auto_columns": null,
            "grid_auto_flow": null,
            "grid_auto_rows": null,
            "grid_column": null,
            "grid_gap": null,
            "grid_row": null,
            "grid_template_areas": null,
            "grid_template_columns": null,
            "grid_template_rows": null,
            "height": null,
            "justify_content": null,
            "justify_items": null,
            "left": null,
            "margin": null,
            "max_height": null,
            "max_width": null,
            "min_height": null,
            "min_width": null,
            "object_fit": null,
            "object_position": null,
            "order": null,
            "overflow": null,
            "overflow_x": null,
            "overflow_y": null,
            "padding": null,
            "right": null,
            "top": null,
            "visibility": null,
            "width": "80px"
          }
        },
        "b1b6a6f4f67f47fea88b0e1b0514f4db": {
          "model_module": "@jupyter-widgets/controls",
          "model_name": "SliderStyleModel",
          "model_module_version": "1.5.0",
          "state": {
            "_model_module": "@jupyter-widgets/controls",
            "_model_module_version": "1.5.0",
            "_model_name": "SliderStyleModel",
            "_view_count": null,
            "_view_module": "@jupyter-widgets/base",
            "_view_module_version": "1.2.0",
            "_view_name": "StyleView",
            "description_width": "",
            "handle_color": null
          }
        },
        "6fcd5623e335461499b34476711078bb": {
          "model_module": "@jupyter-widgets/base",
          "model_name": "LayoutModel",
          "model_module_version": "1.2.0",
          "state": {
            "_model_module": "@jupyter-widgets/base",
            "_model_module_version": "1.2.0",
            "_model_name": "LayoutModel",
            "_view_count": null,
            "_view_module": "@jupyter-widgets/base",
            "_view_module_version": "1.2.0",
            "_view_name": "LayoutView",
            "align_content": null,
            "align_items": null,
            "align_self": null,
            "border": null,
            "bottom": null,
            "display": null,
            "flex": null,
            "flex_flow": null,
            "grid_area": null,
            "grid_auto_columns": null,
            "grid_auto_flow": null,
            "grid_auto_rows": null,
            "grid_column": null,
            "grid_gap": null,
            "grid_row": null,
            "grid_template_areas": null,
            "grid_template_columns": null,
            "grid_template_rows": null,
            "height": "25px",
            "justify_content": null,
            "justify_items": null,
            "left": null,
            "margin": null,
            "max_height": null,
            "max_width": null,
            "min_height": null,
            "min_width": null,
            "object_fit": null,
            "object_position": null,
            "order": null,
            "overflow": null,
            "overflow_x": null,
            "overflow_y": null,
            "padding": "0px 0px 0px 5px",
            "right": null,
            "top": null,
            "visibility": null,
            "width": "25px"
          }
        },
        "609d32cdf8af41d89cf93cc5c7ab57fb": {
          "model_module": "@jupyter-widgets/controls",
          "model_name": "DescriptionStyleModel",
          "model_module_version": "1.5.0",
          "state": {
            "_model_module": "@jupyter-widgets/controls",
            "_model_module_version": "1.5.0",
            "_model_name": "DescriptionStyleModel",
            "_view_count": null,
            "_view_module": "@jupyter-widgets/base",
            "_view_module_version": "1.2.0",
            "_view_name": "StyleView",
            "description_width": ""
          }
        },
        "b11cf6a63ecf4a09aa473d187738be42": {
          "model_module": "@jupyter-widgets/controls",
          "model_name": "CheckboxModel",
          "model_module_version": "1.5.0",
          "state": {
            "_dom_classes": [],
            "_model_module": "@jupyter-widgets/controls",
            "_model_module_version": "1.5.0",
            "_model_name": "CheckboxModel",
            "_view_count": null,
            "_view_module": "@jupyter-widgets/controls",
            "_view_module_version": "1.5.0",
            "_view_name": "CheckboxView",
            "description": "Google Maps",
            "description_tooltip": null,
            "disabled": false,
            "indent": false,
            "layout": "IPY_MODEL_a3eb44c84f3e43ee9069a324cf373f40",
            "style": "IPY_MODEL_018a47f3157a46a5b7ddf6b6049eba0a",
            "value": true
          }
        },
        "09ff171949e343398cf3879b67eeb7cb": {
          "model_module": "@jupyter-widgets/controls",
          "model_name": "FloatSliderModel",
          "model_module_version": "1.5.0",
          "state": {
            "_dom_classes": [],
            "_model_module": "@jupyter-widgets/controls",
            "_model_module_version": "1.5.0",
            "_model_name": "FloatSliderModel",
            "_view_count": null,
            "_view_module": "@jupyter-widgets/controls",
            "_view_module_version": "1.5.0",
            "_view_name": "FloatSliderView",
            "continuous_update": true,
            "description": "",
            "description_tooltip": null,
            "disabled": false,
            "layout": "IPY_MODEL_fbec2d05596c4b67a9a4c0e6bb10820d",
            "max": 1,
            "min": 0,
            "orientation": "horizontal",
            "readout": false,
            "readout_format": ".2f",
            "step": 0.01,
            "style": "IPY_MODEL_b1b6a6f4f67f47fea88b0e1b0514f4db",
            "value": 1
          }
        },
        "81fa8cf4f39b409796bb61570ca12302": {
          "model_module": "@jupyter-widgets/controls",
          "model_name": "ToggleButtonModel",
          "model_module_version": "1.5.0",
          "state": {
            "_dom_classes": [],
            "_model_module": "@jupyter-widgets/controls",
            "_model_module_version": "1.5.0",
            "_model_name": "ToggleButtonModel",
            "_view_count": null,
            "_view_module": "@jupyter-widgets/controls",
            "_view_module_version": "1.5.0",
            "_view_name": "ToggleButtonView",
            "button_style": "",
            "description": "",
            "description_tooltip": null,
            "disabled": false,
            "icon": "gear",
            "layout": "IPY_MODEL_6fcd5623e335461499b34476711078bb",
            "style": "IPY_MODEL_609d32cdf8af41d89cf93cc5c7ab57fb",
            "tooltip": "Google Maps",
            "value": false
          }
        },
        "affe853d2a9a41f298943d17193927b6": {
          "model_module": "@jupyter-widgets/base",
          "model_name": "LayoutModel",
          "model_module_version": "1.2.0",
          "state": {
            "_model_module": "@jupyter-widgets/base",
            "_model_module_version": "1.2.0",
            "_model_name": "LayoutModel",
            "_view_count": null,
            "_view_module": "@jupyter-widgets/base",
            "_view_module_version": "1.2.0",
            "_view_name": "LayoutView",
            "align_content": null,
            "align_items": null,
            "align_self": null,
            "border": null,
            "bottom": null,
            "display": null,
            "flex": null,
            "flex_flow": null,
            "grid_area": null,
            "grid_auto_columns": null,
            "grid_auto_flow": null,
            "grid_auto_rows": null,
            "grid_column": null,
            "grid_gap": null,
            "grid_row": null,
            "grid_template_areas": null,
            "grid_template_columns": null,
            "grid_template_rows": null,
            "height": null,
            "justify_content": null,
            "justify_items": null,
            "left": null,
            "margin": null,
            "max_height": null,
            "max_width": null,
            "min_height": null,
            "min_width": null,
            "object_fit": null,
            "object_position": null,
            "order": null,
            "overflow": null,
            "overflow_x": null,
            "overflow_y": null,
            "padding": "0px 8px 0px 8px",
            "right": null,
            "top": null,
            "visibility": null,
            "width": null
          }
        },
        "c2d75838614e434bad0e4dde6ce94ca1": {
          "model_module": "@jupyter-widgets/base",
          "model_name": "LayoutModel",
          "model_module_version": "1.2.0",
          "state": {
            "_model_module": "@jupyter-widgets/base",
            "_model_module_version": "1.2.0",
            "_model_name": "LayoutModel",
            "_view_count": null,
            "_view_module": "@jupyter-widgets/base",
            "_view_module_version": "1.2.0",
            "_view_name": "LayoutView",
            "align_content": null,
            "align_items": null,
            "align_self": null,
            "border": null,
            "bottom": null,
            "display": null,
            "flex": null,
            "flex_flow": null,
            "grid_area": null,
            "grid_auto_columns": null,
            "grid_auto_flow": null,
            "grid_auto_rows": null,
            "grid_column": null,
            "grid_gap": null,
            "grid_row": null,
            "grid_template_areas": null,
            "grid_template_columns": null,
            "grid_template_rows": null,
            "height": "18px",
            "justify_content": null,
            "justify_items": null,
            "left": null,
            "margin": null,
            "max_height": null,
            "max_width": null,
            "min_height": null,
            "min_width": null,
            "object_fit": null,
            "object_position": null,
            "order": null,
            "overflow": null,
            "overflow_x": null,
            "overflow_y": null,
            "padding": null,
            "right": null,
            "top": null,
            "visibility": null,
            "width": "25ex"
          }
        },
        "edc9d376d517483589c577d55f98da9c": {
          "model_module": "@jupyter-widgets/controls",
          "model_name": "DescriptionStyleModel",
          "model_module_version": "1.5.0",
          "state": {
            "_model_module": "@jupyter-widgets/controls",
            "_model_module_version": "1.5.0",
            "_model_name": "DescriptionStyleModel",
            "_view_count": null,
            "_view_module": "@jupyter-widgets/base",
            "_view_module_version": "1.2.0",
            "_view_name": "StyleView",
            "description_width": ""
          }
        },
        "550bcd9f705342c0a6e071913a5aab61": {
          "model_module": "@jupyter-widgets/base",
          "model_name": "LayoutModel",
          "model_module_version": "1.2.0",
          "state": {
            "_model_module": "@jupyter-widgets/base",
            "_model_module_version": "1.2.0",
            "_model_name": "LayoutModel",
            "_view_count": null,
            "_view_module": "@jupyter-widgets/base",
            "_view_module_version": "1.2.0",
            "_view_name": "LayoutView",
            "align_content": null,
            "align_items": null,
            "align_self": null,
            "border": null,
            "bottom": null,
            "display": null,
            "flex": null,
            "flex_flow": null,
            "grid_area": null,
            "grid_auto_columns": null,
            "grid_auto_flow": null,
            "grid_auto_rows": null,
            "grid_column": null,
            "grid_gap": null,
            "grid_row": null,
            "grid_template_areas": null,
            "grid_template_columns": null,
            "grid_template_rows": null,
            "height": null,
            "justify_content": null,
            "justify_items": null,
            "left": null,
            "margin": null,
            "max_height": null,
            "max_width": null,
            "min_height": null,
            "min_width": null,
            "object_fit": null,
            "object_position": null,
            "order": null,
            "overflow": null,
            "overflow_x": null,
            "overflow_y": null,
            "padding": null,
            "right": null,
            "top": null,
            "visibility": null,
            "width": "80px"
          }
        },
        "3ef8c4762b10492b906ad9cdc6227a76": {
          "model_module": "@jupyter-widgets/controls",
          "model_name": "SliderStyleModel",
          "model_module_version": "1.5.0",
          "state": {
            "_model_module": "@jupyter-widgets/controls",
            "_model_module_version": "1.5.0",
            "_model_name": "SliderStyleModel",
            "_view_count": null,
            "_view_module": "@jupyter-widgets/base",
            "_view_module_version": "1.2.0",
            "_view_name": "StyleView",
            "description_width": "",
            "handle_color": null
          }
        },
        "ab847fdd30e646f5931097f93d638d1f": {
          "model_module": "@jupyter-widgets/base",
          "model_name": "LayoutModel",
          "model_module_version": "1.2.0",
          "state": {
            "_model_module": "@jupyter-widgets/base",
            "_model_module_version": "1.2.0",
            "_model_name": "LayoutModel",
            "_view_count": null,
            "_view_module": "@jupyter-widgets/base",
            "_view_module_version": "1.2.0",
            "_view_name": "LayoutView",
            "align_content": null,
            "align_items": null,
            "align_self": null,
            "border": null,
            "bottom": null,
            "display": null,
            "flex": null,
            "flex_flow": null,
            "grid_area": null,
            "grid_auto_columns": null,
            "grid_auto_flow": null,
            "grid_auto_rows": null,
            "grid_column": null,
            "grid_gap": null,
            "grid_row": null,
            "grid_template_areas": null,
            "grid_template_columns": null,
            "grid_template_rows": null,
            "height": "25px",
            "justify_content": null,
            "justify_items": null,
            "left": null,
            "margin": null,
            "max_height": null,
            "max_width": null,
            "min_height": null,
            "min_width": null,
            "object_fit": null,
            "object_position": null,
            "order": null,
            "overflow": null,
            "overflow_x": null,
            "overflow_y": null,
            "padding": "0px 0px 0px 5px",
            "right": null,
            "top": null,
            "visibility": null,
            "width": "25px"
          }
        },
        "b54ca773b4d044eeb765b7a2dd2e9fa3": {
          "model_module": "@jupyter-widgets/controls",
          "model_name": "DescriptionStyleModel",
          "model_module_version": "1.5.0",
          "state": {
            "_model_module": "@jupyter-widgets/controls",
            "_model_module_version": "1.5.0",
            "_model_name": "DescriptionStyleModel",
            "_view_count": null,
            "_view_module": "@jupyter-widgets/base",
            "_view_module_version": "1.2.0",
            "_view_name": "StyleView",
            "description_width": ""
          }
        },
        "a8bcc41af03e48baa3dc16a2ce8d47ca": {
          "model_module": "@jupyter-widgets/controls",
          "model_name": "CheckboxModel",
          "model_module_version": "1.5.0",
          "state": {
            "_dom_classes": [],
            "_model_module": "@jupyter-widgets/controls",
            "_model_module_version": "1.5.0",
            "_model_name": "CheckboxModel",
            "_view_count": null,
            "_view_module": "@jupyter-widgets/controls",
            "_view_module_version": "1.5.0",
            "_view_name": "CheckboxView",
            "description": "image",
            "description_tooltip": null,
            "disabled": false,
            "indent": false,
            "layout": "IPY_MODEL_c2d75838614e434bad0e4dde6ce94ca1",
            "style": "IPY_MODEL_edc9d376d517483589c577d55f98da9c",
            "value": true
          }
        },
        "103b7cb406344a618d0b253485ce0119": {
          "model_module": "@jupyter-widgets/controls",
          "model_name": "FloatSliderModel",
          "model_module_version": "1.5.0",
          "state": {
            "_dom_classes": [],
            "_model_module": "@jupyter-widgets/controls",
            "_model_module_version": "1.5.0",
            "_model_name": "FloatSliderModel",
            "_view_count": null,
            "_view_module": "@jupyter-widgets/controls",
            "_view_module_version": "1.5.0",
            "_view_name": "FloatSliderView",
            "continuous_update": true,
            "description": "",
            "description_tooltip": null,
            "disabled": false,
            "layout": "IPY_MODEL_550bcd9f705342c0a6e071913a5aab61",
            "max": 1,
            "min": 0,
            "orientation": "horizontal",
            "readout": false,
            "readout_format": ".2f",
            "step": 0.01,
            "style": "IPY_MODEL_3ef8c4762b10492b906ad9cdc6227a76",
            "value": 1
          }
        },
        "20d291d6283f412cbd3a47fc94102bd0": {
          "model_module": "@jupyter-widgets/controls",
          "model_name": "ToggleButtonModel",
          "model_module_version": "1.5.0",
          "state": {
            "_dom_classes": [],
            "_model_module": "@jupyter-widgets/controls",
            "_model_module_version": "1.5.0",
            "_model_name": "ToggleButtonModel",
            "_view_count": null,
            "_view_module": "@jupyter-widgets/controls",
            "_view_module_version": "1.5.0",
            "_view_name": "ToggleButtonView",
            "button_style": "",
            "description": "",
            "description_tooltip": null,
            "disabled": false,
            "icon": "gear",
            "layout": "IPY_MODEL_ab847fdd30e646f5931097f93d638d1f",
            "style": "IPY_MODEL_b54ca773b4d044eeb765b7a2dd2e9fa3",
            "tooltip": "image",
            "value": false
          }
        },
        "b2a6a8ce0f1d4af2ad486717a7bc91d4": {
          "model_module": "@jupyter-widgets/base",
          "model_name": "LayoutModel",
          "model_module_version": "1.2.0",
          "state": {
            "_model_module": "@jupyter-widgets/base",
            "_model_module_version": "1.2.0",
            "_model_name": "LayoutModel",
            "_view_count": null,
            "_view_module": "@jupyter-widgets/base",
            "_view_module_version": "1.2.0",
            "_view_name": "LayoutView",
            "align_content": null,
            "align_items": null,
            "align_self": null,
            "border": null,
            "bottom": null,
            "display": null,
            "flex": null,
            "flex_flow": null,
            "grid_area": null,
            "grid_auto_columns": null,
            "grid_auto_flow": null,
            "grid_auto_rows": null,
            "grid_column": null,
            "grid_gap": null,
            "grid_row": null,
            "grid_template_areas": null,
            "grid_template_columns": null,
            "grid_template_rows": null,
            "height": null,
            "justify_content": null,
            "justify_items": null,
            "left": null,
            "margin": null,
            "max_height": null,
            "max_width": null,
            "min_height": null,
            "min_width": null,
            "object_fit": null,
            "object_position": null,
            "order": null,
            "overflow": null,
            "overflow_x": null,
            "overflow_y": null,
            "padding": "0px 8px 0px 8px",
            "right": null,
            "top": null,
            "visibility": null,
            "width": null
          }
        },
        "833f74abd43645db8be167224913c646": {
          "model_module": "@jupyter-widgets/base",
          "model_name": "LayoutModel",
          "model_module_version": "1.2.0",
          "state": {
            "_model_module": "@jupyter-widgets/base",
            "_model_module_version": "1.2.0",
            "_model_name": "LayoutModel",
            "_view_count": null,
            "_view_module": "@jupyter-widgets/base",
            "_view_module_version": "1.2.0",
            "_view_name": "LayoutView",
            "align_content": null,
            "align_items": null,
            "align_self": null,
            "border": null,
            "bottom": null,
            "display": null,
            "flex": null,
            "flex_flow": null,
            "grid_area": null,
            "grid_auto_columns": null,
            "grid_auto_flow": null,
            "grid_auto_rows": null,
            "grid_column": null,
            "grid_gap": null,
            "grid_row": null,
            "grid_template_areas": null,
            "grid_template_columns": null,
            "grid_template_rows": null,
            "height": "18px",
            "justify_content": null,
            "justify_items": null,
            "left": null,
            "margin": null,
            "max_height": null,
            "max_width": null,
            "min_height": null,
            "min_width": null,
            "object_fit": null,
            "object_position": null,
            "order": null,
            "overflow": null,
            "overflow_x": null,
            "overflow_y": null,
            "padding": null,
            "right": null,
            "top": null,
            "visibility": null,
            "width": "25ex"
          }
        },
        "de3f3d645b144b56a1a4e155c01cb729": {
          "model_module": "@jupyter-widgets/controls",
          "model_name": "DescriptionStyleModel",
          "model_module_version": "1.5.0",
          "state": {
            "_model_module": "@jupyter-widgets/controls",
            "_model_module_version": "1.5.0",
            "_model_name": "DescriptionStyleModel",
            "_view_count": null,
            "_view_module": "@jupyter-widgets/base",
            "_view_module_version": "1.2.0",
            "_view_name": "StyleView",
            "description_width": ""
          }
        },
        "89779bddb5da42f7956f6de59da44b61": {
          "model_module": "@jupyter-widgets/base",
          "model_name": "LayoutModel",
          "model_module_version": "1.2.0",
          "state": {
            "_model_module": "@jupyter-widgets/base",
            "_model_module_version": "1.2.0",
            "_model_name": "LayoutModel",
            "_view_count": null,
            "_view_module": "@jupyter-widgets/base",
            "_view_module_version": "1.2.0",
            "_view_name": "LayoutView",
            "align_content": null,
            "align_items": null,
            "align_self": null,
            "border": null,
            "bottom": null,
            "display": null,
            "flex": null,
            "flex_flow": null,
            "grid_area": null,
            "grid_auto_columns": null,
            "grid_auto_flow": null,
            "grid_auto_rows": null,
            "grid_column": null,
            "grid_gap": null,
            "grid_row": null,
            "grid_template_areas": null,
            "grid_template_columns": null,
            "grid_template_rows": null,
            "height": null,
            "justify_content": null,
            "justify_items": null,
            "left": null,
            "margin": null,
            "max_height": null,
            "max_width": null,
            "min_height": null,
            "min_width": null,
            "object_fit": null,
            "object_position": null,
            "order": null,
            "overflow": null,
            "overflow_x": null,
            "overflow_y": null,
            "padding": null,
            "right": null,
            "top": null,
            "visibility": null,
            "width": "80px"
          }
        },
        "9cd20057d9f441f192cc18b7b2403d04": {
          "model_module": "@jupyter-widgets/controls",
          "model_name": "SliderStyleModel",
          "model_module_version": "1.5.0",
          "state": {
            "_model_module": "@jupyter-widgets/controls",
            "_model_module_version": "1.5.0",
            "_model_name": "SliderStyleModel",
            "_view_count": null,
            "_view_module": "@jupyter-widgets/base",
            "_view_module_version": "1.2.0",
            "_view_name": "StyleView",
            "description_width": "",
            "handle_color": null
          }
        },
        "7d439d5610514a84821079111281152c": {
          "model_module": "@jupyter-widgets/base",
          "model_name": "LayoutModel",
          "model_module_version": "1.2.0",
          "state": {
            "_model_module": "@jupyter-widgets/base",
            "_model_module_version": "1.2.0",
            "_model_name": "LayoutModel",
            "_view_count": null,
            "_view_module": "@jupyter-widgets/base",
            "_view_module_version": "1.2.0",
            "_view_name": "LayoutView",
            "align_content": null,
            "align_items": null,
            "align_self": null,
            "border": null,
            "bottom": null,
            "display": null,
            "flex": null,
            "flex_flow": null,
            "grid_area": null,
            "grid_auto_columns": null,
            "grid_auto_flow": null,
            "grid_auto_rows": null,
            "grid_column": null,
            "grid_gap": null,
            "grid_row": null,
            "grid_template_areas": null,
            "grid_template_columns": null,
            "grid_template_rows": null,
            "height": "25px",
            "justify_content": null,
            "justify_items": null,
            "left": null,
            "margin": null,
            "max_height": null,
            "max_width": null,
            "min_height": null,
            "min_width": null,
            "object_fit": null,
            "object_position": null,
            "order": null,
            "overflow": null,
            "overflow_x": null,
            "overflow_y": null,
            "padding": "0px 0px 0px 5px",
            "right": null,
            "top": null,
            "visibility": null,
            "width": "25px"
          }
        },
        "9f1796a61cd94172a29e94010d28dbf1": {
          "model_module": "@jupyter-widgets/controls",
          "model_name": "DescriptionStyleModel",
          "model_module_version": "1.5.0",
          "state": {
            "_model_module": "@jupyter-widgets/controls",
            "_model_module_version": "1.5.0",
            "_model_name": "DescriptionStyleModel",
            "_view_count": null,
            "_view_module": "@jupyter-widgets/base",
            "_view_module_version": "1.2.0",
            "_view_name": "StyleView",
            "description_width": ""
          }
        },
        "24baa74430c04039a71336e9424d6939": {
          "model_module": "@jupyter-widgets/controls",
          "model_name": "CheckboxModel",
          "model_module_version": "1.5.0",
          "state": {
            "_dom_classes": [],
            "_model_module": "@jupyter-widgets/controls",
            "_model_module_version": "1.5.0",
            "_model_name": "CheckboxModel",
            "_view_count": null,
            "_view_module": "@jupyter-widgets/controls",
            "_view_module_version": "1.5.0",
            "_view_name": "CheckboxView",
            "description": "Open builidings",
            "description_tooltip": null,
            "disabled": false,
            "indent": false,
            "layout": "IPY_MODEL_833f74abd43645db8be167224913c646",
            "style": "IPY_MODEL_de3f3d645b144b56a1a4e155c01cb729",
            "value": true
          }
        },
        "bbd3ff034236414082a04ea4885b31dc": {
          "model_module": "@jupyter-widgets/controls",
          "model_name": "FloatSliderModel",
          "model_module_version": "1.5.0",
          "state": {
            "_dom_classes": [],
            "_model_module": "@jupyter-widgets/controls",
            "_model_module_version": "1.5.0",
            "_model_name": "FloatSliderModel",
            "_view_count": null,
            "_view_module": "@jupyter-widgets/controls",
            "_view_module_version": "1.5.0",
            "_view_name": "FloatSliderView",
            "continuous_update": true,
            "description": "",
            "description_tooltip": null,
            "disabled": false,
            "layout": "IPY_MODEL_89779bddb5da42f7956f6de59da44b61",
            "max": 1,
            "min": 0,
            "orientation": "horizontal",
            "readout": false,
            "readout_format": ".2f",
            "step": 0.01,
            "style": "IPY_MODEL_9cd20057d9f441f192cc18b7b2403d04",
            "value": 1
          }
        },
        "20a4af8a317a4273b4bf6848d8000e2b": {
          "model_module": "@jupyter-widgets/controls",
          "model_name": "ToggleButtonModel",
          "model_module_version": "1.5.0",
          "state": {
            "_dom_classes": [],
            "_model_module": "@jupyter-widgets/controls",
            "_model_module_version": "1.5.0",
            "_model_name": "ToggleButtonModel",
            "_view_count": null,
            "_view_module": "@jupyter-widgets/controls",
            "_view_module_version": "1.5.0",
            "_view_name": "ToggleButtonView",
            "button_style": "",
            "description": "",
            "description_tooltip": null,
            "disabled": false,
            "icon": "gear",
            "layout": "IPY_MODEL_7d439d5610514a84821079111281152c",
            "style": "IPY_MODEL_9f1796a61cd94172a29e94010d28dbf1",
            "tooltip": "Open builidings",
            "value": false
          }
        },
        "601fa4278c4d4e20a5539e0701f62ed1": {
          "model_module": "@jupyter-widgets/base",
          "model_name": "LayoutModel",
          "model_module_version": "1.2.0",
          "state": {
            "_model_module": "@jupyter-widgets/base",
            "_model_module_version": "1.2.0",
            "_model_name": "LayoutModel",
            "_view_count": null,
            "_view_module": "@jupyter-widgets/base",
            "_view_module_version": "1.2.0",
            "_view_name": "LayoutView",
            "align_content": null,
            "align_items": null,
            "align_self": null,
            "border": null,
            "bottom": null,
            "display": null,
            "flex": null,
            "flex_flow": null,
            "grid_area": null,
            "grid_auto_columns": null,
            "grid_auto_flow": null,
            "grid_auto_rows": null,
            "grid_column": null,
            "grid_gap": null,
            "grid_row": null,
            "grid_template_areas": null,
            "grid_template_columns": null,
            "grid_template_rows": null,
            "height": null,
            "justify_content": null,
            "justify_items": null,
            "left": null,
            "margin": null,
            "max_height": null,
            "max_width": null,
            "min_height": null,
            "min_width": null,
            "object_fit": null,
            "object_position": null,
            "order": null,
            "overflow": null,
            "overflow_x": null,
            "overflow_y": null,
            "padding": "0px 8px 0px 8px",
            "right": null,
            "top": null,
            "visibility": null,
            "width": null
          }
        },
        "76024c0fe1fa43a1978053c8b292e78e": {
          "model_module": "@jupyter-widgets/controls",
          "model_name": "CheckboxModel",
          "model_module_version": "1.5.0",
          "state": {
            "_dom_classes": [],
            "_model_module": "@jupyter-widgets/controls",
            "_model_module_version": "1.5.0",
            "_model_name": "CheckboxModel",
            "_view_count": null,
            "_view_module": "@jupyter-widgets/controls",
            "_view_module_version": "1.5.0",
            "_view_name": "CheckboxView",
            "description": "All layers on/off",
            "description_tooltip": null,
            "disabled": false,
            "indent": false,
            "layout": "IPY_MODEL_580958f83d674dd6b07421c7a3878158",
            "style": "IPY_MODEL_008860b6969448afbb9395a7096ee934",
            "value": false
          }
        },
        "279628bca5d34120b341ccdfb101b611": {
          "model_module": "@jupyter-widgets/controls",
          "model_name": "HBoxModel",
          "model_module_version": "1.5.0",
          "state": {
            "_dom_classes": [],
            "_model_module": "@jupyter-widgets/controls",
            "_model_module_version": "1.5.0",
            "_model_name": "HBoxModel",
            "_view_count": null,
            "_view_module": "@jupyter-widgets/controls",
            "_view_module_version": "1.5.0",
            "_view_name": "HBoxView",
            "box_style": "",
            "children": [
              "IPY_MODEL_b11cf6a63ecf4a09aa473d187738be42",
              "IPY_MODEL_81fa8cf4f39b409796bb61570ca12302",
              "IPY_MODEL_09ff171949e343398cf3879b67eeb7cb"
            ],
            "layout": "IPY_MODEL_affe853d2a9a41f298943d17193927b6"
          }
        },
        "9c393985cb3145208ad9c24142d6e5ab": {
          "model_module": "@jupyter-widgets/controls",
          "model_name": "HBoxModel",
          "model_module_version": "1.5.0",
          "state": {
            "_dom_classes": [],
            "_model_module": "@jupyter-widgets/controls",
            "_model_module_version": "1.5.0",
            "_model_name": "HBoxModel",
            "_view_count": null,
            "_view_module": "@jupyter-widgets/controls",
            "_view_module_version": "1.5.0",
            "_view_name": "HBoxView",
            "box_style": "",
            "children": [
              "IPY_MODEL_a8bcc41af03e48baa3dc16a2ce8d47ca",
              "IPY_MODEL_20d291d6283f412cbd3a47fc94102bd0",
              "IPY_MODEL_103b7cb406344a618d0b253485ce0119"
            ],
            "layout": "IPY_MODEL_b2a6a8ce0f1d4af2ad486717a7bc91d4"
          }
        },
        "abeffe14e5bf40b0ae73466cf6d8bf33": {
          "model_module": "@jupyter-widgets/controls",
          "model_name": "HBoxModel",
          "model_module_version": "1.5.0",
          "state": {
            "_dom_classes": [],
            "_model_module": "@jupyter-widgets/controls",
            "_model_module_version": "1.5.0",
            "_model_name": "HBoxModel",
            "_view_count": null,
            "_view_module": "@jupyter-widgets/controls",
            "_view_module_version": "1.5.0",
            "_view_name": "HBoxView",
            "box_style": "",
            "children": [
              "IPY_MODEL_24baa74430c04039a71336e9424d6939",
              "IPY_MODEL_20a4af8a317a4273b4bf6848d8000e2b",
              "IPY_MODEL_bbd3ff034236414082a04ea4885b31dc"
            ],
            "layout": "IPY_MODEL_601fa4278c4d4e20a5539e0701f62ed1"
          }
        }
      }
    }
  },
  "cells": [
    {
      "cell_type": "markdown",
      "metadata": {
        "id": "view-in-github",
        "colab_type": "text"
      },
      "source": [
        "<a href=\"https://colab.research.google.com/github/andrewwells991/wb_dime_application/blob/main/world_bank_dime_application.ipynb\" target=\"_parent\"><img src=\"https://colab.research.google.com/assets/colab-badge.svg\" alt=\"Open In Colab\"/></a>"
      ]
    },
    {
      "cell_type": "markdown",
      "source": [
        "The Python code featured below is part of that which is being used for a thesis for a master's degree in Data Science for Public Policy from the Hertie School. The thesis is titled, \"Utilization of machine learning on satellite images to predict the economic development of previous World Bank project sites\".\n",
        "\n",
        "For this research, I am using geocoded data on World Bank projects available from AidData. This data features the project details and locations of World Bank projects from 1995 - 2014. I filtered this data for only projects in Malawi that should have a local impact, such as infrastructure projects. I then created a 4 sqaure kilometer region of interest (ROI) around the project points and extracted the building data from Google's Open Buildings project. Open Buildings mapped (most) buildings in Africa with their polygon coordinates through a deep learning model.\n",
        "\n",
        "Through Google Earth Engine's API, I extracted the Sentinel-2 pixel data (band values and coordinates) from each region of interest for 2021. Two points of note: images from 2021 were chosen as this was the year that data for the Open Buildings project was taken; and band values are the way in which satellites extract data. I joined the pixels with the buildings with Geopandas based on if the pixel coordinate (point) fit inside of a building (polygon). This created a labelled dataset with pixels labelled building = 1 for that that were part of a building and building = 0 for those not part of a building.\n",
        "\n",
        "The code below demonstrates how the labelled dataset was initially analyzed, then trained using various machine learning models. The models were then applied to satellite images from previous years (2015 - 2020) to estimate the growth in buildings at the project sites bewteen 2015 and 2020.\n"
      ],
      "metadata": {
        "id": "dz5bnYW5LdkE"
      }
    },
    {
      "cell_type": "markdown",
      "source": [
        "##Load libraries and data"
      ],
      "metadata": {
        "id": "dHYtRd_SPTSs"
      }
    },
    {
      "cell_type": "code",
      "execution_count": null,
      "metadata": {
        "id": "429LDUZEA0G2"
      },
      "outputs": [],
      "source": [
        "#Loading GeoPandas\n",
        "!pip install geopandas"
      ]
    },
    {
      "cell_type": "code",
      "source": [
        "!pip install geemap"
      ],
      "metadata": {
        "id": "eA_ptLoASKhF"
      },
      "execution_count": null,
      "outputs": []
    },
    {
      "cell_type": "code",
      "source": [
        "#Mount to Google Drive\n",
        "from google.colab import drive\n",
        "drive.mount('/content/gdrive')"
      ],
      "metadata": {
        "id": "meC1fP4xA_US",
        "colab": {
          "base_uri": "https://localhost:8080/"
        },
        "outputId": "3313074b-2cc3-45a3-de1c-69b195e984c9"
      },
      "execution_count": 2,
      "outputs": [
        {
          "output_type": "stream",
          "name": "stdout",
          "text": [
            "Mounted at /content/gdrive\n"
          ]
        }
      ]
    },
    {
      "cell_type": "code",
      "source": [
        "# Data Processing\n",
        "import pandas as pd\n",
        "import numpy as np\n",
        "import geopandas as gpd\n",
        "\n",
        "#Visualization\n",
        "import seaborn as sns\n",
        "import matplotlib.pyplot as plt\n",
        "\n",
        "from shapely.geometry import Point, Polygon"
      ],
      "metadata": {
        "id": "9dPBbXdcBBgG"
      },
      "execution_count": 3,
      "outputs": []
    },
    {
      "cell_type": "code",
      "source": [
        "#Labeled dataset (stored in Google Drive)\n",
        "df = pd.read_csv('/content/gdrive/MyDrive/mds_thesis/5_labelled_data/proj_all.csv')"
      ],
      "metadata": {
        "id": "uiBhW4mABJLK",
        "colab": {
          "base_uri": "https://localhost:8080/"
        },
        "outputId": "a2719908-f470-4dcf-86a8-c17b65312be6"
      },
      "execution_count": 4,
      "outputs": [
        {
          "output_type": "stream",
          "name": "stderr",
          "text": [
            "<ipython-input-4-fe6bd77d517b>:2: DtypeWarning: Columns (10,16) have mixed types. Specify dtype option on import or set low_memory=False.\n",
            "  df = pd.read_csv('/content/gdrive/MyDrive/mds_thesis/5_labelled_data/proj_all.csv')\n"
          ]
        }
      ]
    },
    {
      "cell_type": "code",
      "source": [
        "df.columns"
      ],
      "metadata": {
        "id": "ofmzBOu9BMeh",
        "colab": {
          "base_uri": "https://localhost:8080/"
        },
        "outputId": "3becc52e-16f7-44d5-d121-e1bfaa02f41d"
      },
      "execution_count": 5,
      "outputs": [
        {
          "output_type": "execute_result",
          "data": {
            "text/plain": [
              "Index(['Unnamed: 0.2', 'Unnamed: 0.1', 'Unnamed: 0', 'B2', 'B3', 'B4', 'B8',\n",
              "       'B11', 'B12', 'row', 'geometry', 'index_right', 'latitude', 'longitude',\n",
              "       'area_in_meters', 'confidence', 'full_plus_code', 'building', 'project',\n",
              "       'building_sum', 'urban_rural', 'proj_name', 'start_date', 'end_dat',\n",
              "       'total_commitment', 'total_disbursement', 'sectors', 'ieg_outcome',\n",
              "       'place_name'],\n",
              "      dtype='object')"
            ]
          },
          "metadata": {},
          "execution_count": 5
        }
      ]
    },
    {
      "cell_type": "code",
      "source": [
        "#Drop unnecessary variable\n",
        "df = df.drop(['Unnamed: 0.1', 'Unnamed: 0.2', 'Unnamed: 0'], axis=1)"
      ],
      "metadata": {
        "id": "6mpZj9aOBNm6"
      },
      "execution_count": 6,
      "outputs": []
    },
    {
      "cell_type": "code",
      "source": [
        "#Examining size of dataset\n",
        "df.shape"
      ],
      "metadata": {
        "id": "ITkquhICLVS7",
        "colab": {
          "base_uri": "https://localhost:8080/"
        },
        "outputId": "20a75307-91ba-4c93-bf75-27c48cfff065"
      },
      "execution_count": 8,
      "outputs": [
        {
          "output_type": "execute_result",
          "data": {
            "text/plain": [
              "(2271428, 26)"
            ]
          },
          "metadata": {},
          "execution_count": 8
        }
      ]
    },
    {
      "cell_type": "markdown",
      "source": [
        "##Visualizing pixels for project site (2021)"
      ],
      "metadata": {
        "id": "LEvN9bHXBbZz"
      }
    },
    {
      "cell_type": "markdown",
      "source": [
        "Project sites can be viewed based on entering the project code ('project') (example: proj_2_20) or the location ('place_name') (example: Mangochi). The pixels are demonstrated in black for those labelled as building = 1 and white for building = 0. "
      ],
      "metadata": {
        "id": "PqZ51oDiQCSI"
      }
    },
    {
      "cell_type": "code",
      "source": [
        "#Select project and site\n",
        "proj = df[(df['project'] == 'proj_2_20')]\n",
        "#proj = df[(df['place_name'] == 'Nkhata Bay')]\n",
        "\n",
        "#View number of pixels in ROI classified as building and urban/rural classification\n",
        "print(proj['proj_name'].values[:1])\n",
        "print(proj['building_sum'].values[:1])\n",
        "print(proj['urban_rural'].values[:1])\n",
        "print(proj['place_name'].values[:1])\n",
        "\n",
        "#Cleaning data\n",
        "df_vis = proj.drop(['geometry', 'B2', 'B3', 'B4', 'B8', 'B11', 'B12', 'row', 'index_right', 'area_in_meters', 'confidence', 'full_plus_code'], axis=1)\n",
        "\n",
        "#Making GeoPandas\n",
        "points = df_vis.apply(lambda row: Point(row.longitude, row.latitude), axis = 1)\n",
        "gdf = gpd.GeoDataFrame(df, geometry=points)\n",
        "gdf.crs = {'init': 'epsg:4326'}\n",
        "\n",
        "# Create a new column to represent color based on Building value\n",
        "gdf['color'] = ['black' if x == 1 else 'white' for x in gdf['building']]\n",
        "\n",
        "# Plot the data\n",
        "fig, ax = plt.subplots(figsize=(10, 10))\n",
        "gdf.plot(ax = ax, markersize=10, color = gdf['color'])"
      ],
      "metadata": {
        "id": "_whtAZRSBOEF",
        "colab": {
          "base_uri": "https://localhost:8080/",
          "height": 741
        },
        "outputId": "6f09c0ad-62a7-41e9-fd6b-2d8a5d5b1f26"
      },
      "execution_count": 10,
      "outputs": [
        {
          "output_type": "stream",
          "name": "stdout",
          "text": [
            "['Road Maintenance and Rehabilitation Project']\n",
            "[1786]\n",
            "['urban']\n",
            "['Nkhata Bay']\n"
          ]
        },
        {
          "output_type": "stream",
          "name": "stderr",
          "text": [
            "/usr/local/lib/python3.9/dist-packages/pyproj/crs/crs.py:141: FutureWarning: '+init=<authority>:<code>' syntax is deprecated. '<authority>:<code>' is the preferred initialization method. When making the change, be mindful of axis order changes: https://pyproj4.github.io/pyproj/stable/gotchas.html#axis-order-changes-in-proj-6\n",
            "  in_crs_string = _prepare_from_proj_string(in_crs_string)\n"
          ]
        },
        {
          "output_type": "execute_result",
          "data": {
            "text/plain": [
              "<Axes: >"
            ]
          },
          "metadata": {},
          "execution_count": 10
        },
        {
          "output_type": "display_data",
          "data": {
            "text/plain": [
              "<Figure size 720x720 with 1 Axes>"
            ],
            "image/png": "[encoded data removed]"
          },
          "metadata": {
            "needs_background": "light"
          }
        }
      ]
    },
    {
      "cell_type": "markdown",
      "source": [
        "The satellite images along with the Open Buildings polygons overlay can be viewed to compare through the Google Earth Engine API."
      ],
      "metadata": {
        "id": "UXTRBGVFRmk_"
      }
    },
    {
      "cell_type": "code",
      "source": [
        "#Earth Enging Initialization\n",
        "import ee\n",
        "import geemap\n",
        "geemap.ee_initialize()"
      ],
      "metadata": {
        "colab": {
          "base_uri": "https://localhost:8080/",
          "height": 185
        },
        "id": "BnQDtltNR_tC",
        "outputId": "c669bfa3-ad7d-48a3-b1b3-1d07257d58ec"
      },
      "execution_count": 13,
      "outputs": [
        {
          "output_type": "stream",
          "name": "stdout",
          "text": [
            "To authorize access needed by Earth Engine, open the following URL in a web browser and follow the instructions. If the web browser does not start automatically, please manually browse the URL below.\n",
            "\n",
            "    https://code.earthengine.google.com/client-auth?scopes=https%3A//www.googleapis.com/auth/earthengine%20https%3A//www.googleapis.com/auth/devstorage.full_control&request_id=WUPH6OJGLzYoLp1EvhqYDax9jPcjJu3TDtigWrKK3sk&tc=kPhwcwwzSOLmrUnfpIV8t83NNu8fBT27J4aeywtSgig&cc=B1nwjbfz7Ai1-a3V6qCx9c8WgukmTd-wpjiTWe8NVdo\n",
            "\n",
            "The authorization workflow will generate a code, which you should paste in the box below.\n",
            "Enter verification code: 4/1AVHEtk5wRy6knkdQMNAqnFgui77e8RTOEdsIPVqkZzG9BkioZNZJ0mSmMbY\n",
            "\n",
            "Successfully saved authorization token.\n"
          ]
        }
      ]
    },
    {
      "cell_type": "code",
      "source": [
        "#Load satellite (Sentinel-2)\n",
        "s2 = ee.ImageCollection('COPERNICUS/S2')\n",
        "\n",
        "#Set ROI\n",
        "#Must change based on location - Here for Nkhata Bay, same as above\n",
        "roi = ee.Geometry.Polygon([\n",
        "[[34.2815593682328, -11.59759], [34.2999006317672, -11.59759], [34.2999006317672, -11.61559], [34.2815593682328, -11.61559]]\n",
        "])\n",
        "\n",
        "#Image parameters\n",
        "image = s2 \\\n",
        "  .filter(ee.Filter.date('2021-08-01', '2021-08-30')) \\\n",
        "  .sort(\"CLOUD_COVERAGE_ASSESSMENT\") \\\n",
        "  .filter(ee.Filter.bounds(roi)) \\\n",
        "  .first() \\\n",
        "  .clip(roi)\n",
        "\n",
        "#Incorporate Open Buildings into image\n",
        "t = ee.FeatureCollection('GOOGLE/Research/open-buildings/v2/polygons')\n",
        "t_building = t.filter('confidence >= 0.60')\n",
        "\n",
        "Map = geemap.Map(center=(-11.60659, 34.29073), zoom = 15) #Change based on location\n",
        "Map.addLayer(\n",
        "    image,\n",
        "    {\"bands\": ['B4', 'B3', 'B2'], \"min\": 0, \"max\": 3000},\n",
        "    'image',\n",
        ")\n",
        "\n",
        "Map.addLayer(t_building, {'color': '000000'}, 'Open builidings')\n",
        "\n",
        "Map #Note: the layers can be removed from view by clicking on the tool on the top right of the map, then the \"layers\" button, which appears to the left of the tool"
      ],
      "metadata": {
        "colab": {
          "base_uri": "https://localhost:8080/",
          "height": 621,
          "referenced_widgets": [
            "a16e3e3e2cde4a2996106a976bcf8842",
            "59a88569f2094fc88c3e78f5ae490e3e",
            "a6ac74e46d8845ae811065b806ca43f9",
            "ecb58ae854ab4ec0a85b8c8c4a702d16",
            "2aa7055b895c4bc283d1610bb04f45fc",
            "a973ed94d3594decabfa4062b2b060a6",
            "7f5736a8daa4412481fb9686cebeb95d",
            "1fbacff7aadd47c3bd3c540b606e41db",
            "a3e9fb0a4d724f67822a4383b08d7238",
            "1c40eb540c7c405888f0a7d8a45504e0",
            "cfd743d906a34032bf0b51b048f71819",
            "d89fb1e22e3d449f8bab552a06883a47",
            "9c5732982f8d464c83279518549f0f41",
            "69eaa59cb4ed451f975ac12d72b9ffcb",
            "62a35feafb4140ad8ce6a19e11fcd97a",
            "04143804af18474391e652bfc07ce11a",
            "bf7379a8f1904b1cb7c242b254aa2d3a",
            "c3116de2ef91460c870ca29e0b785244",
            "3be59c9979a54c78b16fcfe84611cc40",
            "6ccd5e4fd4b743c88cf3b17e4c582ed6",
            "0efe8c9bc12b4ad2a2ce7175e3d00f4f",
            "8796c515809b420597495a06edfaf230",
            "d504ab71fd4a45698b3f26e53b41a3a3",
            "179ede2430dc4caf9d11cfd893122db8",
            "13ed5b3a61664fbdb02ed44a14181737",
            "adf9b3dfae134e69a353296feb650e2f",
            "244d94239b9a414c8ed46dafbfd65885",
            "39f5b3832dd64ec88161307b3da6e25a",
            "75ff3f11971f401ebfa7756f69e33acc",
            "b6fef34c0e2a40329991572bf3372324",
            "fc92d06ae04548248f1e4f846a7486db",
            "e0ffda788ad74ae787447653c5366039",
            "b1c85bcb42a44aeaaa1b5917497ce694",
            "1ed29a57fe894e5bb928e86c42f6a176",
            "956303556a9c4d32a662506c45db8c47",
            "1849b6b20e7e4910943f7a807c147c93",
            "6261054b5e9042bcb92dc68699483e4f",
            "195577272d774afbb54e114b70048651",
            "7ce19d7775a44ee3962c803ba2ad49bd",
            "f9dded7546ef4c6f8e08c15dff6e2605",
            "33e21aa39cf6448ca492b6709edb0ec0",
            "6914c694278f47229a90f86e7d528000",
            "c1407a544b57440499765dd1a927697c",
            "805d9f163f0e4a888104cc7d78534d97",
            "96c9a4ca10e54015a75bdeb904d1c8ca",
            "0861720e4b06466597004267a09c2ee8",
            "1baeacf0ae6a434eaa4f8d3c9be5563e",
            "03cd419813d341d6816f5f53166ff222",
            "9cec711f9d31402088b94e784b0c2cb8",
            "96ac78e1d22b448192e3a7473b3d869c",
            "dac9a83fa0df4fb6b085d6b0f96c6111",
            "d3b661f8ec214de2983c9075036ab20a",
            "77408cfced2e46e29ad9747467017377",
            "ad9df06754304bf2afb5d5e9cfb4649e",
            "aecf555a2b564ca3a8c10b92861719bc",
            "c1c2a7fa833648e39ad963ca4a2f7636",
            "957aecd5385e4c068681c6d61be18bc8",
            "fb45d9e7b057480ba35279301f107eba",
            "e0161dffd47b4d94b110ac3c46660287",
            "d6a99e763eae466e98701b4ace426962",
            "b18d2495590747ecbb6772137f6bb480",
            "167f41f083484664bf8559b41a08439c",
            "2eb51657b4e0493a97264f8098175d15",
            "016adacb94264723b95c061f7c577307",
            "187f7b606265489198e536a732b3de6d",
            "eb13ffade77a4b5093f777cfa1ba4931",
            "ff15f7b75ab94e76a517df9232f3999e",
            "3a4e605ac3354169b86ab3bbe9dd17d1",
            "4415446d0a494bbea0ca6b394550e597",
            "c71837950a00414db8a1f50e8c600981",
            "4521c1d74e704879b57d44cf7f019f66",
            "50ca39771bf04b9abda93b28b8d24b71",
            "26f5bc72156e451dbaa5848e50eab35e",
            "a7b569332a16489aae4e8b2b2d222662",
            "60a0ae8f3e9347599fbf00fb0f077555",
            "edd1dd4e65e14d0e8039b28857e0c511",
            "29168a0dc7d04812ad7c1d65d84c0caa",
            "9a8ee0da23b242a197f564f57c5dbf08",
            "36ddc7ce839e47128c78a9e1f280bdad",
            "27188cbb1d15460f9abaaad266c393a7",
            "74355b81287f4e4d808dd5ed307ef573",
            "28ecaf92ca60407c9f89ad84315bae1d",
            "b8e15bb3447f4274901233c8a5cb309b",
            "02f22d618cc54de58762efee37fb03f1",
            "68f158a7d5eb433fbd2b93770f4bb459",
            "a105f2920f9a408f8f71f8bec6726490",
            "ede89e6e93a346e39d6445bb45bb7d42",
            "ccbc94fe0acc4a64bb7c1929946ae78a",
            "941aca07629a4fcc87e5aa28fc2b9ab3",
            "d90b344049fa442f8c1dceb02f67a4b1",
            "580958f83d674dd6b07421c7a3878158",
            "008860b6969448afbb9395a7096ee934",
            "a3eb44c84f3e43ee9069a324cf373f40",
            "018a47f3157a46a5b7ddf6b6049eba0a",
            "fbec2d05596c4b67a9a4c0e6bb10820d",
            "b1b6a6f4f67f47fea88b0e1b0514f4db",
            "6fcd5623e335461499b34476711078bb",
            "609d32cdf8af41d89cf93cc5c7ab57fb",
            "b11cf6a63ecf4a09aa473d187738be42",
            "09ff171949e343398cf3879b67eeb7cb",
            "81fa8cf4f39b409796bb61570ca12302",
            "affe853d2a9a41f298943d17193927b6",
            "c2d75838614e434bad0e4dde6ce94ca1",
            "edc9d376d517483589c577d55f98da9c",
            "550bcd9f705342c0a6e071913a5aab61",
            "3ef8c4762b10492b906ad9cdc6227a76",
            "ab847fdd30e646f5931097f93d638d1f",
            "b54ca773b4d044eeb765b7a2dd2e9fa3",
            "a8bcc41af03e48baa3dc16a2ce8d47ca",
            "103b7cb406344a618d0b253485ce0119",
            "20d291d6283f412cbd3a47fc94102bd0",
            "b2a6a8ce0f1d4af2ad486717a7bc91d4",
            "833f74abd43645db8be167224913c646",
            "de3f3d645b144b56a1a4e155c01cb729",
            "89779bddb5da42f7956f6de59da44b61",
            "9cd20057d9f441f192cc18b7b2403d04",
            "7d439d5610514a84821079111281152c",
            "9f1796a61cd94172a29e94010d28dbf1",
            "24baa74430c04039a71336e9424d6939",
            "bbd3ff034236414082a04ea4885b31dc",
            "20a4af8a317a4273b4bf6848d8000e2b",
            "601fa4278c4d4e20a5539e0701f62ed1",
            "76024c0fe1fa43a1978053c8b292e78e",
            "279628bca5d34120b341ccdfb101b611",
            "9c393985cb3145208ad9c24142d6e5ab",
            "abeffe14e5bf40b0ae73466cf6d8bf33"
          ]
        },
        "id": "kiN-nsNcS0mL",
        "outputId": "e64abbc5-580e-427c-9fb5-fcef33657758"
      },
      "execution_count": 15,
      "outputs": [
        {
          "output_type": "display_data",
          "data": {
            "text/plain": [
              "Map(center=[-11.60659, 34.29073], controls=(WidgetControl(options=['position', 'transparent_bg'], widget=HBox(…"
            ],
            "application/vnd.jupyter.widget-view+json": {
              "version_major": 2,
              "version_minor": 0,
              "model_id": "a16e3e3e2cde4a2996106a976bcf8842"
            }
          },
          "metadata": {
            "application/vnd.jupyter.widget-view+json": {
              "colab": {
                "custom_widget_manager": {
                  "url": "https://ssl.gstatic.com/colaboratory-static/widgets/colab-cdn-widget-manager/b3e629b1971e1542/manager.min.js"
                }
              }
            }
          }
        }
      ]
    },
    {
      "cell_type": "markdown",
      "source": [
        "##Examination of number and proportion of building pixels"
      ],
      "metadata": {
        "id": "gmNNmnHYBkXi"
      }
    },
    {
      "cell_type": "code",
      "source": [
        "#Number of pixels part of building\n",
        "sum(df['building'])"
      ],
      "metadata": {
        "id": "Iv190KbYBhYi",
        "colab": {
          "base_uri": "https://localhost:8080/"
        },
        "outputId": "86d303e0-ab16-4eaa-bef3-ce79317f026b"
      },
      "execution_count": null,
      "outputs": [
        {
          "output_type": "execute_result",
          "data": {
            "text/plain": [
              "80757"
            ]
          },
          "metadata": {},
          "execution_count": 20
        }
      ]
    },
    {
      "cell_type": "code",
      "source": [
        "#Proportion of pixels which are buildings\n",
        "sum(df['building'])/(len(df.index))"
      ],
      "metadata": {
        "id": "y-4_bgkaBncP",
        "colab": {
          "base_uri": "https://localhost:8080/"
        },
        "outputId": "8fa535f6-dcd6-401a-fe43-fb988b9a6684"
      },
      "execution_count": null,
      "outputs": [
        {
          "output_type": "execute_result",
          "data": {
            "text/plain": [
              "0.03555340517066797"
            ]
          },
          "metadata": {},
          "execution_count": 21
        }
      ]
    },
    {
      "cell_type": "code",
      "source": [
        "#Graphical examination of class imbalance\n",
        "value_counts = df['building'].value_counts(normalize = True)\n",
        "\n",
        "# plot the result using a bar plot\n",
        "value_counts.plot(kind='bar', title='Proportion pixels (building = 0 / 1)')\n",
        "plt.xlabel('Building')\n",
        "plt.xticks(rotation=45)\n",
        "plt.ylabel('Proportion')"
      ],
      "metadata": {
        "id": "9HeWWFpSBpxT",
        "colab": {
          "base_uri": "https://localhost:8080/",
          "height": 315
        },
        "outputId": "af3e4344-671a-424f-98d2-91832ac89d15"
      },
      "execution_count": null,
      "outputs": [
        {
          "output_type": "execute_result",
          "data": {
            "text/plain": [
              "Text(0, 0.5, 'Proportion')"
            ]
          },
          "metadata": {},
          "execution_count": 22
        },
        {
          "output_type": "display_data",
          "data": {
            "text/plain": [
              "<Figure size 432x288 with 1 Axes>"
            ],
            "image/png": "[encoded data removed]"
          },
          "metadata": {
            "needs_background": "light"
          }
        }
      ]
    },
    {
      "cell_type": "code",
      "source": [
        "#Graphical examination of urbanity\n",
        "value_counts = df['urban_rural'].value_counts(normalize=True)\n",
        "ordered_value_counts = value_counts.reindex(['rural', 'semi_urban', 'urban'])\n",
        "\n",
        "#Plot the result using a bar plot\n",
        "ordered_value_counts.plot(kind='bar', title='Proportion of sites by urbanity')\n",
        "plt.xlabel('')\n",
        "plt.xticks(rotation=45)\n",
        "plt.ylabel('')\n",
        "\n",
        "plt.gca().set_xticklabels(['Rural', 'Semi-Urban', 'Urban'])"
      ],
      "metadata": {
        "id": "QtvsWXtlBtn0",
        "colab": {
          "base_uri": "https://localhost:8080/",
          "height": 338
        },
        "outputId": "4c210664-1a9c-4d53-9f18-5ddb8cac9ac8"
      },
      "execution_count": null,
      "outputs": [
        {
          "output_type": "execute_result",
          "data": {
            "text/plain": [
              "[Text(0, 0, 'Rural'), Text(1, 0, 'Semi-Urban'), Text(2, 0, 'Urban')]"
            ]
          },
          "metadata": {},
          "execution_count": 23
        },
        {
          "output_type": "display_data",
          "data": {
            "text/plain": [
              "<Figure size 432x288 with 1 Axes>"
            ],
            "image/png": "[encoded data removed]"
          },
          "metadata": {
            "needs_background": "light"
          }
        }
      ]
    },
    {
      "cell_type": "code",
      "source": [
        "#Group the data by the \"project\" column and count the number of occurrences of each value in the \"building\" column for each group\n",
        "grouped_counts = df.groupby('urban_rural')['building'].value_counts(normalize=True)\n",
        "\n",
        "#Plot the result using a stacked bar plot\n",
        "grouped_counts.unstack().plot(kind='bar', title='Proportion of buildings by urbanity')\n",
        "plt.xlabel('')\n",
        "plt.xticks(rotation=45)\n",
        "plt.ylabel('Proportion')\n",
        "\n",
        "plt.gca().set_xticklabels(['Rural', 'Semi-Urban', 'Urban'])"
      ],
      "metadata": {
        "id": "HrQAiFhFBuHW",
        "colab": {
          "base_uri": "https://localhost:8080/",
          "height": 338
        },
        "outputId": "1f5dd9ec-95c2-4f03-9cf8-01e59ba5d6b8"
      },
      "execution_count": null,
      "outputs": [
        {
          "output_type": "execute_result",
          "data": {
            "text/plain": [
              "[Text(0, 0, 'Rural'), Text(1, 0, 'Semi-Urban'), Text(2, 0, 'Urban')]"
            ]
          },
          "metadata": {},
          "execution_count": 24
        },
        {
          "output_type": "display_data",
          "data": {
            "text/plain": [
              "<Figure size 432x288 with 1 Axes>"
            ],
            "image/png": "[encoded data removed]"
          },
          "metadata": {
            "needs_background": "light"
          }
        }
      ]
    },
    {
      "cell_type": "markdown",
      "source": [
        "Examining band values for buildings vs. not buildings"
      ],
      "metadata": {
        "id": "3pg_qe0mB1kZ"
      }
    },
    {
      "cell_type": "code",
      "source": [
        "df_bands = df[['B2', 'B3', 'B4', 'B8', 'B11', 'B12', 'building']]\n",
        "\n",
        "#Viewing band values grouped by building\n",
        "df_plt = df_bands.groupby(by=['building']).mean()\n",
        "\n",
        "df_plt = df_plt.T\n",
        "\n",
        "colors = {0: 'forestgreen', 1: 'sienna'}\n",
        "df_plt.plot(kind='bar', color=[colors[idx] for idx in df_plt.columns])\n",
        "plt.title('Average band values by building (0/1)')\n",
        "plt.ylabel('Average band values')\n",
        "plt.xticks(rotation=45)\n",
        "plt.show()"
      ],
      "metadata": {
        "id": "dwPQv4RxBy3U",
        "colab": {
          "base_uri": "https://localhost:8080/",
          "height": 292
        },
        "outputId": "17413620-e821-4a45-cca9-d2d13b327974"
      },
      "execution_count": null,
      "outputs": [
        {
          "output_type": "display_data",
          "data": {
            "text/plain": [
              "<Figure size 432x288 with 1 Axes>"
            ],
            "image/png": "[encoded data removed]"
          },
          "metadata": {
            "needs_background": "light"
          }
        }
      ]
    },
    {
      "cell_type": "markdown",
      "source": [
        "##Preparing data for machine leanrning"
      ],
      "metadata": {
        "id": "3yr1HLmrU1UL"
      }
    },
    {
      "cell_type": "markdown",
      "source": [
        "Splitting imbalanced data"
      ],
      "metadata": {
        "id": "jyFz25p-VNsN"
      }
    },
    {
      "cell_type": "code",
      "source": [
        "#Load library\n",
        "from sklearn.model_selection import train_test_split"
      ],
      "metadata": {
        "id": "0EwA4bNwU6DZ"
      },
      "execution_count": null,
      "outputs": []
    },
    {
      "cell_type": "code",
      "source": [
        "#Setting variables\n",
        "feature_names = ['B2', 'B3', 'B4', 'B8', 'B11', 'B12', 'longitude', 'latitude']\n",
        "label = \"building\"\n",
        "\n",
        "X = df[feature_names]\n",
        "y = df[label]"
      ],
      "metadata": {
        "id": "Bf3dueplU_bZ"
      },
      "execution_count": null,
      "outputs": []
    },
    {
      "cell_type": "code",
      "source": [
        "# Split the data into training and test sets\n",
        "X_train, X_test, y_train, y_test = train_test_split(X, y, test_size = 0.2, random_state = 42)"
      ],
      "metadata": {
        "id": "xlBmqWWgVDZV"
      },
      "execution_count": null,
      "outputs": []
    },
    {
      "cell_type": "code",
      "source": [
        "#Combine training data for saving in Drive\n",
        "df_train = pd.concat([X_train, y_train], axis=1)\n",
        "\n",
        "#Combine test data for saving in Drive\n",
        "df_test = pd.concat([X_test, y_test], axis=1)"
      ],
      "metadata": {
        "id": "leKyaUx3VGa7"
      },
      "execution_count": null,
      "outputs": []
    },
    {
      "cell_type": "markdown",
      "source": [
        "Over-sampling data and splitting"
      ],
      "metadata": {
        "id": "vP_QuyyPVRb-"
      }
    },
    {
      "cell_type": "code",
      "source": [
        "# class count\n",
        "class_count_0, class_count_1 = df['building'].value_counts()\n",
        "\n",
        "# Separate class\n",
        "class_0 = df[df['building'] == 0]\n",
        "class_1 = df[df['building'] == 1]# print the shape of the class\n",
        "\n",
        "#Random Over Sampling\n",
        "class_1_over = class_1.sample(class_count_0, replace=True)\n",
        "\n",
        "df_over = pd.concat([class_1_over, class_0], axis=0)\n",
        "\n",
        "print(\"total class of 1 and 0:\",df_over['building'].value_counts())\n",
        "\n",
        "#Count after under-sampeling\n",
        "df_over['building'].value_counts().plot(kind='bar', title='Count pixels (building = 0 / 1)')"
      ],
      "metadata": {
        "colab": {
          "base_uri": "https://localhost:8080/",
          "height": 352
        },
        "id": "rroyalGTVUFd",
        "outputId": "4d5a6f05-26d5-49b0-e557-54c686636145"
      },
      "execution_count": 16,
      "outputs": [
        {
          "output_type": "stream",
          "name": "stdout",
          "text": [
            "total class of 1 and 0: 1    2190671\n",
            "0    2190671\n",
            "Name: building, dtype: int64\n"
          ]
        },
        {
          "output_type": "execute_result",
          "data": {
            "text/plain": [
              "<Axes: title={'center': 'Count pixels (building = 0 / 1)'}>"
            ]
          },
          "metadata": {},
          "execution_count": 16
        },
        {
          "output_type": "display_data",
          "data": {
            "text/plain": [
              "<Figure size 432x288 with 1 Axes>"
            ],
            "image/png": "[encoded data removed]"
          },
          "metadata": {
            "needs_background": "light"
          }
        }
      ]
    },
    {
      "cell_type": "code",
      "source": [
        "X_over = df_over[feature_names]\n",
        "y_over = df_over[label]\n",
        "\n",
        "# Split the data into training and test sets\n",
        "X_train_over, X_test_over, y_train_over, y_test_over = train_test_split(X_over, y_over, test_size = 0.2, random_state = 42)"
      ],
      "metadata": {
        "id": "rIWEbYHGVkM5"
      },
      "execution_count": null,
      "outputs": []
    },
    {
      "cell_type": "code",
      "source": [
        "#Combine training data\n",
        "df_train_over = pd.concat([X_train_over, y_train_over], axis=1)\n",
        "\n",
        "#Combine test data\n",
        "df_test_over = pd.concat([X_test_over, y_test_over], axis=1)"
      ],
      "metadata": {
        "id": "GIGhBG0jVlxh"
      },
      "execution_count": null,
      "outputs": []
    },
    {
      "cell_type": "markdown",
      "source": [
        "Saving training and test sets to Drive"
      ],
      "metadata": {
        "id": "F8HY7zw7Vn91"
      }
    },
    {
      "cell_type": "code",
      "source": [
        "#Saving imbalanced training data to Drive\n",
        "path = '/content/gdrive/My Drive/mds_thesis/6_split_data/df_train.csv'\n",
        "with open(path, 'w', encoding = 'utf-8-sig') as f:  \n",
        "  df_train.to_csv(f)\n",
        "\n",
        "#Saving imbalanced test data to Drive\n",
        "path = '/content/gdrive/My Drive/mds_thesis/6_split_data/df_test.csv'\n",
        "with open(path, 'w', encoding = 'utf-8-sig') as f:  \n",
        "  df_test.to_csv(f)\n",
        "\n",
        "#Saving over-sampled training data to Drive\n",
        "path = '/content/gdrive/My Drive/mds_thesis/6_split_data/df_train_over.csv'\n",
        "with open(path, 'w', encoding = 'utf-8-sig') as f:  \n",
        "  df_train_over.to_csv(f)\n",
        "\n",
        "#Saving over-sampled test data to Drive\n",
        "path = '/content/gdrive/My Drive/mds_thesis/6_split_data/df_test_over.csv'\n",
        "with open(path, 'w', encoding = 'utf-8-sig') as f:  \n",
        "  df_test_over.to_csv(f)"
      ],
      "metadata": {
        "id": "ivvJygrtVvQD"
      },
      "execution_count": null,
      "outputs": []
    },
    {
      "cell_type": "markdown",
      "source": [
        "##Training ML models"
      ],
      "metadata": {
        "id": "xtXeRF9NWX4J"
      }
    },
    {
      "cell_type": "code",
      "source": [
        "#Loading libraries\n",
        "from xgboost import XGBClassifier\n",
        "from sklearn.neighbors import KNeighborsClassifier\n",
        "from sklearn import neighbors\n",
        "from sklearn.ensemble import RandomForestClassifier\n",
        "from sklearn.utils import class_weight\n",
        "from sklearn.metrics import accuracy_score, classification_report, confusion_matrix, precision_score, recall_score, ConfusionMatrixDisplay\n",
        "from sklearn.model_selection import RandomizedSearchCV, train_test_split, cross_validate, StratifiedKFold\n",
        "from scipy.stats import randint\n",
        "from pprint import pprint"
      ],
      "metadata": {
        "id": "cEnLe7ZeW4d5"
      },
      "execution_count": 17,
      "outputs": []
    },
    {
      "cell_type": "markdown",
      "source": [
        "Load data from Drive. Model were already trained and saved in Drive (through library pickle), so they are not run again - just here for code demonstration."
      ],
      "metadata": {
        "id": "9VGsM7_vWeof"
      }
    },
    {
      "cell_type": "code",
      "source": [
        "#Loaing imbalanced data from Drive\n",
        "df_train = pd.read_csv('/content/gdrive/MyDrive/mds_thesis/6_split_data/df_train.csv')\n",
        "df_test = pd.read_csv('/content/gdrive/MyDrive/mds_thesis/6_split_data/df_test.csv')\n",
        "\n",
        "df_train2 = df_train[['B2', 'B3', 'B4', 'B8', 'B11', 'B12', 'longitude', 'latitude', 'building']]\n",
        "df_test2 = df_test[['B2', 'B3', 'B4', 'B8', 'B11', 'B12', 'longitude', 'latitude', 'building']]\n",
        "\n",
        "#Convert from pandas to numpy array\n",
        "train_np = df_train2.to_numpy()\n",
        "X_train, y_train = train_np[:, :-1], train_np[:, -1]\n",
        "\n",
        "test_np = df_test2.to_numpy()\n",
        "X_test, y_test = test_np[:, :-1], test_np[:, -1]\n",
        "\n",
        "#Load over-sampled data from Drive\n",
        "df_train_over = pd.read_csv('/content/gdrive/MyDrive/mds_thesis/6_split_data/df_train_over.csv')\n",
        "df_test_over = pd.read_csv('/content/gdrive/MyDrive/mds_thesis/6_split_data/df_test_over.csv')\n",
        "\n",
        "df_train_over2 = df_train_over[['B2', 'B3', 'B4', 'B8', 'B11', 'B12', 'longitude', 'latitude', 'building']]\n",
        "df_test_over2 = df_test_over[['B2', 'B3', 'B4', 'B8', 'B11', 'B12', 'longitude', 'latitude', 'building']]\n",
        "\n",
        "#Convert from pandas to numpy arrays\n",
        "train_over_np = df_train_over2.to_numpy()\n",
        "X_train_over, y_train_over = train_over_np[:, :-1], train_over_np[:, -1]\n",
        "\n",
        "test_over_np = df_test_over2.to_numpy()\n",
        "X_test_over, y_test_over = test_over_np[:, :-1], test_over_np[:, -1]\n",
        "\n",
        "#Set X_train variables (used for graphing feature importance)\n",
        "X_train = ['B2', 'B3', 'B4', 'B8', 'B11', 'B12', 'longitude', 'latitude']"
      ],
      "metadata": {
        "id": "qOJbozkxXZvj"
      },
      "execution_count": 19,
      "outputs": []
    },
    {
      "cell_type": "code",
      "source": [
        "#Random forest (imbalanced data)\n",
        "rf_std = RandomForestClassifier(random_state = 42)\n",
        "rf_std.fit(X_train, y_train)\n",
        "\n",
        "#Random forest (imbalanced data - weighted)\n",
        "rf_wgt = RandomForestClassifier(class_weight = 'balanced', random_state = 42)\n",
        "rf_wgt.fit(X_train, y_train)\n",
        "\n",
        "#XGBoost (imbalanced data)\n",
        "xgb_std = XGBClassifier(random_state = 42)\n",
        "xgb_std.fit(X_train, y_train)\n",
        "\n",
        "#KNN (imbalanced data)\n",
        "knn_std = neighbors.KNeighborsClassifier()\n",
        "knn_std.fit(X_train, y_train)"
      ],
      "metadata": {
        "id": "c9s_hZ-YWatD"
      },
      "execution_count": null,
      "outputs": []
    },
    {
      "cell_type": "markdown",
      "source": [
        "###Save models to Drive"
      ],
      "metadata": {
        "id": "VbXtlrEaYE6P"
      }
    },
    {
      "cell_type": "code",
      "source": [
        "import pickle"
      ],
      "metadata": {
        "id": "HsqfrURXYHQi"
      },
      "execution_count": 23,
      "outputs": []
    },
    {
      "cell_type": "code",
      "source": [
        "#rf_std\n",
        "with open('rf_std', 'wb') as f:\n",
        "  pickle.dump(rf_std, f)\n",
        "\n",
        "#xgb_std\n",
        "with open('xgb_std', 'wb') as f:\n",
        "  pickle.dump(rf_std, f)\n",
        "\n",
        "#rf_wgt\n",
        "with open('rf_wgt', 'wb') as f:\n",
        "  pickle.dump(rf_wgt, f)\n",
        "\n",
        "#knn_std\n",
        "with open('knn_std', 'wb') as f:\n",
        "  pickle.dump(knn_std, f)\n",
        "\n",
        "#xgb_over\n",
        "with open('xgb_over', 'wb') as f:\n",
        "  pickle.dump(xgb_over, f)\n",
        "\n",
        "#rf_over\n",
        "with open('rf_over', 'wb') as f:\n",
        "  pickle.dump(rf_over, f)"
      ],
      "metadata": {
        "id": "8forXwwOYJWg"
      },
      "execution_count": null,
      "outputs": []
    },
    {
      "cell_type": "markdown",
      "source": [
        "##Model evaluations"
      ],
      "metadata": {
        "id": "hBJ7cVXEYVTv"
      }
    },
    {
      "cell_type": "code",
      "source": [
        "#Loading libraries\n",
        "from sklearn.metrics import accuracy_score, classification_report, confusion_matrix, precision_score, recall_score, ConfusionMatrixDisplay\n",
        "from sklearn.metrics import roc_curve, auc, roc_auc_score"
      ],
      "metadata": {
        "id": "HEu8vV7MYXt7"
      },
      "execution_count": 18,
      "outputs": []
    },
    {
      "cell_type": "code",
      "source": [
        "#Loading models, which were saved on Drive with pickle library\n",
        "rf_std = pickle.load(open('/content/gdrive/MyDrive/mds_thesis/8_saved_models/rf_std', 'rb'))\n",
        "rf_wgt = pickle.load(open('/content/gdrive/MyDrive/mds_thesis/8_saved_models/rf_wgt', 'rb'))\n",
        "xgb_std = pickle.load(open('/content/gdrive/MyDrive/mds_thesis/8_saved_models/xgb_std', 'rb'))\n",
        "knn_std = pickle.load(open('/content/gdrive/MyDrive/mds_thesis/8_saved_models/knn_std', 'rb'))\n",
        "rf_over = pickle.load(open('/content/gdrive/MyDrive/mds_thesis/8_saved_models/rf_over', 'rb'))\n",
        "xgb_over = pickle.load(open('/content/gdrive/MyDrive/mds_thesis/8_saved_models/xgb_over', 'rb'))"
      ],
      "metadata": {
        "id": "5gk00zPhYdXi"
      },
      "execution_count": 24,
      "outputs": []
    },
    {
      "cell_type": "code",
      "source": [
        "#Set testing data\n",
        "X_test = df_test.drop(['Unnamed: 0', 'building'], axis = 1)\n",
        "y_test = df_test['building']\n",
        "\n",
        "X_test_over = df_test_over.drop(['Unnamed: 0', 'building'], axis = 1)\n",
        "y_test_over = df_test_over['building']"
      ],
      "metadata": {
        "id": "ucYKyEfTYkDG"
      },
      "execution_count": 20,
      "outputs": []
    },
    {
      "cell_type": "markdown",
      "source": [
        "###Evaluation of imbalanced data models"
      ],
      "metadata": {
        "id": "NBvl_x--ZWHy"
      }
    },
    {
      "cell_type": "markdown",
      "source": [
        "Random forest evaluation"
      ],
      "metadata": {
        "id": "1clV7JkAZJYO"
      }
    },
    {
      "cell_type": "code",
      "source": [
        "#Evaluate\n",
        "y_pred_rf_std = rf_std.predict(X_test)\n",
        "print(classification_report(y_test, y_pred_rf_std))"
      ],
      "metadata": {
        "colab": {
          "base_uri": "https://localhost:8080/"
        },
        "id": "up93UUprZZfx",
        "outputId": "2bdc924a-0a51-472f-ea9e-dd6dabc8e56d"
      },
      "execution_count": 25,
      "outputs": [
        {
          "output_type": "stream",
          "name": "stdout",
          "text": [
            "              precision    recall  f1-score   support\n",
            "\n",
            "           0       0.98      1.00      0.99    438023\n",
            "           1       0.85      0.35      0.49     16263\n",
            "\n",
            "    accuracy                           0.97    454286\n",
            "   macro avg       0.91      0.67      0.74    454286\n",
            "weighted avg       0.97      0.97      0.97    454286\n",
            "\n"
          ]
        }
      ]
    },
    {
      "cell_type": "code",
      "source": [
        "#Confusion matrix\n",
        "cm = confusion_matrix(y_test, y_pred_rf_std)\n",
        "ConfusionMatrixDisplay(confusion_matrix = cm).plot()"
      ],
      "metadata": {
        "colab": {
          "base_uri": "https://localhost:8080/",
          "height": 297
        },
        "id": "4nfzahoEZZze",
        "outputId": "05a577f7-6f97-4abc-bd85-5bfbade1a722"
      },
      "execution_count": 27,
      "outputs": [
        {
          "output_type": "execute_result",
          "data": {
            "text/plain": [
              "<sklearn.metrics._plot.confusion_matrix.ConfusionMatrixDisplay at 0x7f267d866b50>"
            ]
          },
          "metadata": {},
          "execution_count": 27
        },
        {
          "output_type": "display_data",
          "data": {
            "text/plain": [
              "<Figure size 432x288 with 2 Axes>"
            ],
            "image/png": "[encoded data removed]"
          },
          "metadata": {
            "needs_background": "light"
          }
        }
      ]
    },
    {
      "cell_type": "code",
      "source": [
        "#Feature importances\n",
        "feature_importances = pd.Series(rf_std.feature_importances_, index = X_test.columns)\n",
        "feature_importances.sort_values(ascending=False).plot(kind='bar')\n",
        "plt.title('Feature Importances')\n",
        "plt.show()"
      ],
      "metadata": {
        "colab": {
          "base_uri": "https://localhost:8080/",
          "height": 319
        },
        "id": "N4hE73SHZ7Q6",
        "outputId": "3d885fe1-f4a3-4645-8479-78489c6f16ce"
      },
      "execution_count": 29,
      "outputs": [
        {
          "output_type": "display_data",
          "data": {
            "text/plain": [
              "<Figure size 432x288 with 1 Axes>"
            ],
            "image/png": "[encoded data removed]"
          },
          "metadata": {
            "needs_background": "light"
          }
        }
      ]
    },
    {
      "cell_type": "markdown",
      "source": [
        "Random forest (weighted) evaluation"
      ],
      "metadata": {
        "id": "audJJb_FZMW6"
      }
    },
    {
      "cell_type": "code",
      "source": [
        "#Evaluate\n",
        "y_pred_rf_wgt = rf_wgt.predict(X_test)\n",
        "print(classification_report(y_test, y_pred_rf_wgt))"
      ],
      "metadata": {
        "colab": {
          "base_uri": "https://localhost:8080/"
        },
        "id": "6Y6Wb_c2aEpC",
        "outputId": "0b57314b-fb47-4da1-d778-c533f431a16c"
      },
      "execution_count": 30,
      "outputs": [
        {
          "output_type": "stream",
          "name": "stdout",
          "text": [
            "              precision    recall  f1-score   support\n",
            "\n",
            "           0       0.98      1.00      0.99    438023\n",
            "           1       0.90      0.32      0.47     16263\n",
            "\n",
            "    accuracy                           0.97    454286\n",
            "   macro avg       0.94      0.66      0.73    454286\n",
            "weighted avg       0.97      0.97      0.97    454286\n",
            "\n"
          ]
        }
      ]
    },
    {
      "cell_type": "code",
      "source": [
        "#Confusion matrix\n",
        "cm = confusion_matrix(y_test, y_pred_rf_wgt)\n",
        "ConfusionMatrixDisplay(confusion_matrix = cm).plot()"
      ],
      "metadata": {
        "colab": {
          "base_uri": "https://localhost:8080/",
          "height": 279
        },
        "id": "PadoM0e4aEAa",
        "outputId": "66e48bb6-3e6e-45cf-cd2b-60cf302618cd"
      },
      "execution_count": 31,
      "outputs": [
        {
          "output_type": "display_data",
          "data": {
            "text/plain": [
              "<Figure size 432x288 with 2 Axes>"
            ],
            "image/png": "[encoded data removed]"
          },
          "metadata": {
            "needs_background": "light"
          }
        }
      ]
    },
    {
      "cell_type": "code",
      "source": [
        "#Feature importances\n",
        "feature_importances = pd.Series(rf_wgt.feature_importances_, index = X_test.columns)\n",
        "feature_importances.sort_values(ascending=False).plot(kind='bar')\n",
        "plt.title('Feature Importances')\n",
        "plt.show()"
      ],
      "metadata": {
        "colab": {
          "base_uri": "https://localhost:8080/",
          "height": 319
        },
        "id": "dGeQxtt5aD25",
        "outputId": "a6279371-6dc3-418b-9526-06a075216183"
      },
      "execution_count": 32,
      "outputs": [
        {
          "output_type": "display_data",
          "data": {
            "text/plain": [
              "<Figure size 432x288 with 1 Axes>"
            ],
            "image/png": "[encoded data removed]"
          },
          "metadata": {
            "needs_background": "light"
          }
        }
      ]
    },
    {
      "cell_type": "markdown",
      "source": [
        "XGBoost evaluation"
      ],
      "metadata": {
        "id": "jvbP8RfAZOUw"
      }
    },
    {
      "cell_type": "code",
      "source": [
        "#Evaluate\n",
        "y_pred_xgb_std = xgb_std.predict(X_test)\n",
        "print(classification_report(y_test, y_pred_xgb_std))"
      ],
      "metadata": {
        "colab": {
          "base_uri": "https://localhost:8080/"
        },
        "id": "6oKn9XXaaX9A",
        "outputId": "da270eae-5a39-4bc5-ed72-0ab79628ec9f"
      },
      "execution_count": 33,
      "outputs": [
        {
          "output_type": "stream",
          "name": "stdout",
          "text": [
            "              precision    recall  f1-score   support\n",
            "\n",
            "           0       0.98      1.00      0.99    438023\n",
            "           1       0.85      0.35      0.49     16263\n",
            "\n",
            "    accuracy                           0.97    454286\n",
            "   macro avg       0.91      0.67      0.74    454286\n",
            "weighted avg       0.97      0.97      0.97    454286\n",
            "\n"
          ]
        }
      ]
    },
    {
      "cell_type": "code",
      "source": [
        "#Confusion matrix\n",
        "cm = confusion_matrix(y_test, y_pred_xgb_std)\n",
        "ConfusionMatrixDisplay(confusion_matrix = cm).plot()"
      ],
      "metadata": {
        "colab": {
          "base_uri": "https://localhost:8080/",
          "height": 297
        },
        "id": "oMiXHYo6aX4a",
        "outputId": "2158811a-f474-4b5c-9b78-5c95a095dea3"
      },
      "execution_count": 34,
      "outputs": [
        {
          "output_type": "execute_result",
          "data": {
            "text/plain": [
              "<sklearn.metrics._plot.confusion_matrix.ConfusionMatrixDisplay at 0x7f267c0f4250>"
            ]
          },
          "metadata": {},
          "execution_count": 34
        },
        {
          "output_type": "display_data",
          "data": {
            "text/plain": [
              "<Figure size 432x288 with 2 Axes>"
            ],
            "image/png": "[encoded data removed]"
          },
          "metadata": {
            "needs_background": "light"
          }
        }
      ]
    },
    {
      "cell_type": "code",
      "source": [
        "#Feature importances\n",
        "feature_importances = pd.Series(xgb_std.feature_importances_, index = X_test.columns)\n",
        "feature_importances.sort_values(ascending=False).plot(kind='bar')\n",
        "plt.title('Feature Importances')\n",
        "plt.show()"
      ],
      "metadata": {
        "colab": {
          "base_uri": "https://localhost:8080/",
          "height": 319
        },
        "id": "__sX7itBaX1R",
        "outputId": "af56b7ac-f69e-4d06-92e2-a51ed8d05600"
      },
      "execution_count": 35,
      "outputs": [
        {
          "output_type": "display_data",
          "data": {
            "text/plain": [
              "<Figure size 432x288 with 1 Axes>"
            ],
            "image/png": "[encoded data removed]"
          },
          "metadata": {
            "needs_background": "light"
          }
        }
      ]
    },
    {
      "cell_type": "markdown",
      "source": [
        "KNN Evaluation"
      ],
      "metadata": {
        "id": "x4ZErGTUZSMw"
      }
    },
    {
      "cell_type": "code",
      "source": [
        "#Evaluate\n",
        "y_pred_knn_std = knn_std.predict(X_test)\n",
        "print(classification_report(y_test, y_pred_knn_std))"
      ],
      "metadata": {
        "colab": {
          "base_uri": "https://localhost:8080/"
        },
        "id": "6QoFSZWLZD8_",
        "outputId": "7dded8e2-beee-42ea-ca28-0f21e4878650"
      },
      "execution_count": 36,
      "outputs": [
        {
          "output_type": "stream",
          "name": "stdout",
          "text": [
            "              precision    recall  f1-score   support\n",
            "\n",
            "           0       0.97      0.99      0.98    438023\n",
            "           1       0.46      0.18      0.26     16263\n",
            "\n",
            "    accuracy                           0.96    454286\n",
            "   macro avg       0.72      0.59      0.62    454286\n",
            "weighted avg       0.95      0.96      0.96    454286\n",
            "\n"
          ]
        }
      ]
    },
    {
      "cell_type": "code",
      "source": [
        "#Confusion matrix\n",
        "cm = confusion_matrix(y_test, y_pred_knn_std)\n",
        "ConfusionMatrixDisplay(confusion_matrix = cm).plot()"
      ],
      "metadata": {
        "colab": {
          "base_uri": "https://localhost:8080/",
          "height": 297
        },
        "id": "x9yrR90Vaj9g",
        "outputId": "803dcc5a-9d86-4482-d223-be2d4bc903e8"
      },
      "execution_count": 37,
      "outputs": [
        {
          "output_type": "execute_result",
          "data": {
            "text/plain": [
              "<sklearn.metrics._plot.confusion_matrix.ConfusionMatrixDisplay at 0x7f267c297dc0>"
            ]
          },
          "metadata": {},
          "execution_count": 37
        },
        {
          "output_type": "display_data",
          "data": {
            "text/plain": [
              "<Figure size 432x288 with 2 Axes>"
            ],
            "image/png": "[encoded data removed]"
          },
          "metadata": {
            "needs_background": "light"
          }
        }
      ]
    },
    {
      "cell_type": "markdown",
      "source": [
        "###Evaluation of over-sampled data models"
      ],
      "metadata": {
        "id": "sIbK01_2apeo"
      }
    },
    {
      "cell_type": "markdown",
      "source": [
        "Random forest (over-sampled)"
      ],
      "metadata": {
        "id": "AlfqKPTyaxwr"
      }
    },
    {
      "cell_type": "code",
      "source": [
        "#Evaluate\n",
        "y_pred_rf_over = rf_over.predict(X_test_over)\n",
        "print(classification_report(y_test_over, y_pred_rf_over))"
      ],
      "metadata": {
        "colab": {
          "base_uri": "https://localhost:8080/"
        },
        "id": "Gn_qeejXa86V",
        "outputId": "21aec83e-ac80-475b-ff72-c57999e20127"
      },
      "execution_count": 38,
      "outputs": [
        {
          "output_type": "stream",
          "name": "stdout",
          "text": [
            "              precision    recall  f1-score   support\n",
            "\n",
            "           0       1.00      0.99      1.00    438751\n",
            "           1       0.99      1.00      1.00    437518\n",
            "\n",
            "    accuracy                           1.00    876269\n",
            "   macro avg       1.00      1.00      1.00    876269\n",
            "weighted avg       1.00      1.00      1.00    876269\n",
            "\n"
          ]
        }
      ]
    },
    {
      "cell_type": "code",
      "source": [
        "#Confusion matrix\n",
        "cm = confusion_matrix(y_test_over, y_pred_rf_over)\n",
        "ConfusionMatrixDisplay(confusion_matrix = cm).plot()"
      ],
      "metadata": {
        "colab": {
          "base_uri": "https://localhost:8080/",
          "height": 297
        },
        "id": "_8i1YnWka8yH",
        "outputId": "1c7a86d6-8f7d-4bdb-bf89-fd019b1cfa39"
      },
      "execution_count": 39,
      "outputs": [
        {
          "output_type": "execute_result",
          "data": {
            "text/plain": [
              "<sklearn.metrics._plot.confusion_matrix.ConfusionMatrixDisplay at 0x7f267c2913d0>"
            ]
          },
          "metadata": {},
          "execution_count": 39
        },
        {
          "output_type": "display_data",
          "data": {
            "text/plain": [
              "<Figure size 432x288 with 2 Axes>"
            ],
            "image/png": "[encoded data removed]"
          },
          "metadata": {
            "needs_background": "light"
          }
        }
      ]
    },
    {
      "cell_type": "code",
      "source": [
        "#Feature importances\n",
        "feature_importances = pd.Series(rf_over.feature_importances_, index = X_test_over.columns)\n",
        "feature_importances.sort_values(ascending=False).plot(kind='bar')\n",
        "plt.title('Feature Importances')\n",
        "plt.show()"
      ],
      "metadata": {
        "colab": {
          "base_uri": "https://localhost:8080/",
          "height": 319
        },
        "id": "8nVleOLEa8k8",
        "outputId": "443698ad-8b28-41fe-8ab9-4ef98413d648"
      },
      "execution_count": 40,
      "outputs": [
        {
          "output_type": "display_data",
          "data": {
            "text/plain": [
              "<Figure size 432x288 with 1 Axes>"
            ],
            "image/png": "[encoded data removed]"
          },
          "metadata": {
            "needs_background": "light"
          }
        }
      ]
    },
    {
      "cell_type": "markdown",
      "source": [
        "XGBoost (over-sampled"
      ],
      "metadata": {
        "id": "2OuDcc9mayGY"
      }
    },
    {
      "cell_type": "code",
      "source": [
        "#Evaluate\n",
        "y_pred_xgb_over = xgb_over.predict(X_test_over)\n",
        "print(classification_report(y_test_over, y_pred_xgb_over))"
      ],
      "metadata": {
        "colab": {
          "base_uri": "https://localhost:8080/"
        },
        "id": "_TvZorWHbJJO",
        "outputId": "e7022b02-ee80-400c-c337-673c9aeb161b"
      },
      "execution_count": 41,
      "outputs": [
        {
          "output_type": "stream",
          "name": "stdout",
          "text": [
            "              precision    recall  f1-score   support\n",
            "\n",
            "           0       0.91      0.85      0.88    438751\n",
            "           1       0.86      0.92      0.89    437518\n",
            "\n",
            "    accuracy                           0.88    876269\n",
            "   macro avg       0.88      0.88      0.88    876269\n",
            "weighted avg       0.88      0.88      0.88    876269\n",
            "\n"
          ]
        }
      ]
    },
    {
      "cell_type": "code",
      "source": [
        "#Confusion matrix\n",
        "cm = confusion_matrix(y_test_over, y_pred_xgb_over)\n",
        "ConfusionMatrixDisplay(confusion_matrix = cm).plot()"
      ],
      "metadata": {
        "colab": {
          "base_uri": "https://localhost:8080/",
          "height": 300
        },
        "id": "LizXjMtrbJCt",
        "outputId": "56604cd6-1942-4d29-9509-366c5634987f"
      },
      "execution_count": 42,
      "outputs": [
        {
          "output_type": "execute_result",
          "data": {
            "text/plain": [
              "<sklearn.metrics._plot.confusion_matrix.ConfusionMatrixDisplay at 0x7f2677d5ad60>"
            ]
          },
          "metadata": {},
          "execution_count": 42
        },
        {
          "output_type": "display_data",
          "data": {
            "text/plain": [
              "<Figure size 432x288 with 2 Axes>"
            ],
            "image/png": "[encoded data removed]"
          },
          "metadata": {
            "needs_background": "light"
          }
        }
      ]
    },
    {
      "cell_type": "code",
      "source": [
        "#Feature importances\n",
        "feature_importances = pd.Series(xgb_over.feature_importances_, index = X_test_over.columns)\n",
        "feature_importances.sort_values(ascending=False).plot(kind='bar')\n",
        "plt.title('Feature Importances')\n",
        "plt.show()"
      ],
      "metadata": {
        "colab": {
          "base_uri": "https://localhost:8080/",
          "height": 319
        },
        "id": "V7Hz1PItbIw-",
        "outputId": "649373c6-7c79-4e6e-a600-0706cb984b46"
      },
      "execution_count": 43,
      "outputs": [
        {
          "output_type": "display_data",
          "data": {
            "text/plain": [
              "<Figure size 432x288 with 1 Axes>"
            ],
            "image/png": "[encoded data removed]"
          },
          "metadata": {
            "needs_background": "light"
          }
        }
      ]
    },
    {
      "cell_type": "markdown",
      "source": [
        "###ROC-AUC Analysis"
      ],
      "metadata": {
        "id": "5hxYTYU6bY6w"
      }
    },
    {
      "cell_type": "markdown",
      "source": [
        "Imbalanced data models"
      ],
      "metadata": {
        "id": "0roPdxslbdJM"
      }
    },
    {
      "cell_type": "code",
      "source": [
        "# rf_std\n",
        "fpr_rf_std, tpr_rf_std, _ = roc_curve(y_test, rf_std.predict_proba(X_test)[:,1])\n",
        "roc_auc_rf_std = auc(fpr_rf_std, tpr_rf_std)\n",
        "# rf_wgt\n",
        "fpr_rf_wgt, tpr_rf_wgt, _ = roc_curve(y_test, rf_wgt.predict_proba(X_test)[:,1])\n",
        "roc_auc_rf_wgt = auc(fpr_rf_wgt, tpr_rf_wgt)\n",
        "# xgb_std\n",
        "fpr_xgb_std, tpr_xgb_std, _ = roc_curve(y_test, xgb_std.predict_proba(X_test)[:,1])\n",
        "roc_auc_xgb_std = auc(fpr_xgb_std, tpr_xgb_std)\n",
        "# knn_std\n",
        "fpr_knn_std, tpr_knn_std, _ = roc_curve(y_test, knn_std.predict_proba(X_test)[:,1])\n",
        "roc_auc_knn_std = auc(fpr_knn_std, tpr_knn_std)\n",
        "\n",
        "plt.figure(figsize=(8,6))\n",
        "plt.plot(fpr_rf_std, tpr_rf_std, color='red', lw=2, label='RF Standard (AUC = %0.2f)' % roc_auc_rf_std)\n",
        "plt.plot(fpr_rf_wgt, tpr_rf_wgt, color='blue', lw=2, label='RF Weighted (AUC = %0.2f)' % roc_auc_rf_wgt)\n",
        "plt.plot(fpr_xgb_std, tpr_xgb_std, color='green', lw=2, label='XGB Standard (AUC = %0.2f)' % roc_auc_xgb_std)\n",
        "plt.plot(fpr_knn_std, tpr_knn_std, color='yellow', lw=2, label='KNN Standard (AUC = %0.2f)' % roc_auc_knn_std)\n",
        "\n",
        "plt.plot([0, 1], [0, 1], color='black', lw=2, linestyle='--')\n",
        "plt.xlim([0.0, 1.0])\n",
        "plt.ylim([0.0, 1.05])\n",
        "plt.xlabel('False Positive Rate')\n",
        "plt.ylabel('True Positive Rate')\n",
        "plt.title('Unbalanced receiver operating characteristic (ROC)')\n",
        "plt.legend(loc=\"lower right\")\n",
        "plt.show()"
      ],
      "metadata": {
        "colab": {
          "base_uri": "https://localhost:8080/",
          "height": 404
        },
        "id": "F5QMrpCsbcbR",
        "outputId": "cea5ba00-7869-4609-857d-f4d923450dab"
      },
      "execution_count": 44,
      "outputs": [
        {
          "output_type": "display_data",
          "data": {
            "text/plain": [
              "<Figure size 576x432 with 1 Axes>"
            ],
            "image/png": "[encoded data removed]"
          },
          "metadata": {
            "needs_background": "light"
          }
        }
      ]
    },
    {
      "cell_type": "markdown",
      "source": [
        "Over-sampled data models"
      ],
      "metadata": {
        "id": "N0oB7l5Obk5k"
      }
    },
    {
      "cell_type": "code",
      "source": [
        "# rf_over\n",
        "fpr_rf_over, tpr_rf_over, _ = roc_curve(y_test_over, rf_over.predict_proba(X_test_over)[:,1])\n",
        "roc_auc_rf_over = auc(fpr_rf_over, tpr_rf_over)\n",
        "# xgb_over\n",
        "fpr_xgb_over, tpr_xgb_over, _ = roc_curve(y_test_over, xgb_over.predict_proba(X_test_over)[:,1])\n",
        "roc_auc_xgb_over = auc(fpr_xgb_over, tpr_xgb_over)\n",
        "\n",
        "plt.plot(fpr_rf_over, tpr_rf_over, color='purple', lw=2, label='RF Over-Sampling (AUC = %0.2f)' % roc_auc_rf_over)\n",
        "plt.plot(fpr_xgb_over, tpr_xgb_over, color='orange', lw=2, label='XGB Over-Sampling (AUC = %0.2f)' % roc_auc_xgb_over)\n",
        "\n",
        "plt.plot([0, 1], [0, 1], color='black', lw=2, linestyle='--')\n",
        "plt.xlim([0.0, 1.0])\n",
        "plt.ylim([0.0, 1.05])\n",
        "plt.xlabel('False Positive Rate')\n",
        "plt.ylabel('True Positive Rate')\n",
        "plt.title('Over-sampled receiver operating characteristic (ROC)')\n",
        "plt.legend(loc=\"lower right\")\n",
        "plt.show()"
      ],
      "metadata": {
        "colab": {
          "base_uri": "https://localhost:8080/",
          "height": 295
        },
        "id": "uX17A-JFbkoD",
        "outputId": "b9ad0f3e-1d04-42d3-e419-86e1f937cfa6"
      },
      "execution_count": 45,
      "outputs": [
        {
          "output_type": "display_data",
          "data": {
            "text/plain": [
              "<Figure size 432x288 with 1 Axes>"
            ],
            "image/png": "[encoded data removed]"
          },
          "metadata": {
            "needs_background": "light"
          }
        }
      ]
    },
    {
      "cell_type": "markdown",
      "source": [
        "##Application of ML models on pixel data from previous years"
      ],
      "metadata": {
        "id": "MGzHg2pkcaNo"
      }
    },
    {
      "cell_type": "markdown",
      "source": [
        "Pixel data from the satellite images of the project sites was downloaded from the Google Earth Engine API. The datasets are stored in a GitHub repository. "
      ],
      "metadata": {
        "id": "5bZaTj3Wcf-2"
      }
    },
    {
      "cell_type": "markdown",
      "source": [
        "###Project 2_5, Project: Road Maintenance and Rehabilitation Project | Site: Mangochi\n"
      ],
      "metadata": {
        "id": "sMwYWE8Tcuvx"
      }
    },
    {
      "cell_type": "markdown",
      "source": [
        "Loading data"
      ],
      "metadata": {
        "id": "WO1IUDJUdId2"
      }
    },
    {
      "cell_type": "code",
      "source": [
        "#Unlabelled pixel data from 2021\n",
        "proj_2_5_21 = pd.read_csv('https://raw.githubusercontent.com/andrewwells991/mds_thesis/main/data/2_ee_pixel_data/malawi_proj_2_5_yr_21_pixel.csv')\n",
        "proj_2_5_21 = proj_2_5_21[['B2', 'B3', 'B4', 'B8', 'B11', 'B12', 'longitude', 'latitude']]\n",
        "#From previous years\n",
        "proj_2_5_20 = pd.read_csv('https://raw.githubusercontent.com/andrewwells991/mds_thesis/main/data/4_ee_pixel_data_other_yrs/malawi_proj_2_5_yr_20_pixel.csv')\n",
        "proj_2_5_20 = proj_2_5_20[['B2', 'B3', 'B4', 'B8', 'B11', 'B12', 'longitude', 'latitude']]\n",
        "proj_2_5_19 = pd.read_csv('https://raw.githubusercontent.com/andrewwells991/mds_thesis/main/data/4_ee_pixel_data_other_yrs/malawi_proj_2_5_yr_19_pixel.csv')\n",
        "proj_2_5_19 = proj_2_5_19[['B2', 'B3', 'B4', 'B8', 'B11', 'B12', 'longitude', 'latitude']]\n",
        "proj_2_5_18 = pd.read_csv('https://raw.githubusercontent.com/andrewwells991/mds_thesis/main/data/4_ee_pixel_data_other_yrs/malawi_proj_2_5_yr_18_pixel.csv')\n",
        "proj_2_5_18 = proj_2_5_18[['B2', 'B3', 'B4', 'B8', 'B11', 'B12', 'longitude', 'latitude']]\n",
        "proj_2_5_17 = pd.read_csv('https://raw.githubusercontent.com/andrewwells991/mds_thesis/main/data/4_ee_pixel_data_other_yrs/malawi_proj_2_5_yr_17_pixel.csv')\n",
        "proj_2_5_17 = proj_2_5_17[['B2', 'B3', 'B4', 'B8', 'B11', 'B12', 'longitude', 'latitude']]\n",
        "proj_2_5_16 = pd.read_csv('https://raw.githubusercontent.com/andrewwells991/mds_thesis/main/data/4_ee_pixel_data_other_yrs/malawi_proj_2_5_yr_16_pixel.csv')\n",
        "proj_2_5_16 = proj_2_5_16[['B2', 'B3', 'B4', 'B8', 'B11', 'B12', 'longitude', 'latitude']]\n",
        "proj_2_5_15 = pd.read_csv('https://raw.githubusercontent.com/andrewwells991/mds_thesis/main/data/4_ee_pixel_data_other_yrs/malawi_proj_2_5_yr_15_pixel.csv')\n",
        "proj_2_5_15 = proj_2_5_15[['B2', 'B3', 'B4', 'B8', 'B11', 'B12', 'longitude', 'latitude']]"
      ],
      "metadata": {
        "id": "OhTxE8s2cGYF"
      },
      "execution_count": 46,
      "outputs": []
    },
    {
      "cell_type": "markdown",
      "source": [
        "Create a dataset of the predicted number of buildings at the site for each year, by model"
      ],
      "metadata": {
        "id": "dfMIi4BsdYfj"
      }
    },
    {
      "cell_type": "code",
      "source": [
        "proj_2_5_predictions = pd.DataFrame(columns=['rf_std', 'rf_wgt', 'xgb_std', 'knn_std', 'rf_over', 'xgb_over', 'year'])\n",
        "\n",
        "for df_name in ['proj_2_5_15', 'proj_2_5_16', 'proj_2_5_17', 'proj_2_5_18', 'proj_2_5_19', 'proj_2_5_20', 'proj_2_5_21']:\n",
        "    df = globals()[df_name]\n",
        "    \n",
        "    rf_std_pred = rf_std.predict(df)\n",
        "    rf_wgt_pred = rf_wgt.predict(df)\n",
        "    xgb_std_pred = xgb_std.predict(df)\n",
        "    knn_std_pred = knn_std.predict(df)\n",
        "    rf_over_pred = rf_over.predict(df)\n",
        "    xgb_over_pred = xgb_over.predict(df)\n",
        "\n",
        "    predictions_df = pd.DataFrame({\n",
        "        'rf_std': rf_std_pred,\n",
        "        'rf_wgt': rf_wgt_pred,\n",
        "        'xgb_std': xgb_std_pred,\n",
        "        'knn_std': knn_std_pred,\n",
        "        'rf_over': rf_over_pred,\n",
        "        'xgb_over': xgb_over_pred\n",
        "    })\n",
        "\n",
        "    rf_std_sum = predictions_df['rf_std'].sum()\n",
        "    rf_wgt_sum = predictions_df['rf_wgt'].sum()\n",
        "    xgb_std_sum = predictions_df['xgb_std'].sum()\n",
        "    knn_std_sum = predictions_df['knn_std'].sum()\n",
        "    rf_over_sum = predictions_df['rf_over'].sum()\n",
        "    xgb_over_sum = predictions_df['xgb_over'].sum()\n",
        "\n",
        "    year = int(df_name[-2:]) + 2000\n",
        "    row = {\n",
        "        'rf_std': rf_std_sum,\n",
        "        'rf_wgt': rf_wgt_sum,\n",
        "        'xgb_std': xgb_std_sum,\n",
        "        'knn_std': knn_std_sum,\n",
        "        'rf_over': rf_over_sum,\n",
        "        'xgb_over': xgb_over_sum,\n",
        "        'year': year\n",
        "    }\n",
        "\n",
        "    proj_2_5_predictions = proj_2_5_predictions.append(row, ignore_index=True, sort=False)"
      ],
      "metadata": {
        "id": "r0sDrebMdPlY"
      },
      "execution_count": 47,
      "outputs": []
    },
    {
      "cell_type": "markdown",
      "source": [
        "Plotting results"
      ],
      "metadata": {
        "id": "kLgvwF7WdtIP"
      }
    },
    {
      "cell_type": "code",
      "source": [
        "#Set year column as index\n",
        "proj_2_5_predictions.set_index('year', inplace=True)\n",
        "\n",
        "#Plot the predicted values by year for each of the models\n",
        "proj_2_5_predictions.plot(kind='line', figsize=(10, 6))\n",
        "\n",
        "#Set chart title and axis labels\n",
        "plt.title('ML model predicted number of buildings by year (Proj_2_5)')\n",
        "plt.xlabel('Year')\n",
        "plt.ylabel('Predicted number of buildings')\n",
        "plt.show()"
      ],
      "metadata": {
        "colab": {
          "base_uri": "https://localhost:8080/",
          "height": 404
        },
        "id": "8cxVtdutdvd5",
        "outputId": "e6716c44-c7df-4937-95ef-45389fde5e4e"
      },
      "execution_count": 48,
      "outputs": [
        {
          "output_type": "display_data",
          "data": {
            "text/plain": [
              "<Figure size 720x432 with 1 Axes>"
            ],
            "image/png": "[encoded data removed]"
          },
          "metadata": {
            "needs_background": "light"
          }
        }
      ]
    },
    {
      "cell_type": "markdown",
      "source": [
        "###Project 2_6, Project: Road Maintenance and Rehabilitation Project | Site: Salima District"
      ],
      "metadata": {
        "id": "THGz8-fYd_1R"
      }
    },
    {
      "cell_type": "code",
      "source": [
        "#Unlabelled pixel data from 2021\n",
        "proj_2_6_21 = pd.read_csv('https://raw.githubusercontent.com/andrewwells991/mds_thesis/main/data/2_ee_pixel_data/malawi_proj_2_6_yr_21_pixel.csv')\n",
        "proj_2_6_21 = proj_2_6_21[['B2', 'B3', 'B4', 'B8', 'B11', 'B12', 'longitude', 'latitude']]\n",
        "#From previous years\n",
        "proj_2_6_20 = pd.read_csv('https://raw.githubusercontent.com/andrewwells991/mds_thesis/main/data/4_ee_pixel_data_other_yrs/malawi_proj_2_6_yr_20_pixel.csv')\n",
        "proj_2_6_20 = proj_2_6_20[['B2', 'B3', 'B4', 'B8', 'B11', 'B12', 'longitude', 'latitude']]\n",
        "proj_2_6_19 = pd.read_csv('https://raw.githubusercontent.com/andrewwells991/mds_thesis/main/data/4_ee_pixel_data_other_yrs/malawi_proj_2_6_yr_19_pixel.csv')\n",
        "proj_2_6_19 = proj_2_6_19[['B2', 'B3', 'B4', 'B8', 'B11', 'B12', 'longitude', 'latitude']]\n",
        "proj_2_6_18 = pd.read_csv('https://raw.githubusercontent.com/andrewwells991/mds_thesis/main/data/4_ee_pixel_data_other_yrs/malawi_proj_2_6_yr_18_pixel.csv')\n",
        "proj_2_6_18 = proj_2_6_18[['B2', 'B3', 'B4', 'B8', 'B11', 'B12', 'longitude', 'latitude']]\n",
        "proj_2_6_17 = pd.read_csv('https://raw.githubusercontent.com/andrewwells991/mds_thesis/main/data/4_ee_pixel_data_other_yrs/malawi_proj_2_6_yr_17_pixel.csv')\n",
        "proj_2_6_17 = proj_2_6_17[['B2', 'B3', 'B4', 'B8', 'B11', 'B12', 'longitude', 'latitude']]\n",
        "proj_2_6_16 = pd.read_csv('https://raw.githubusercontent.com/andrewwells991/mds_thesis/main/data/4_ee_pixel_data_other_yrs/malawi_proj_2_6_yr_16_pixel.csv')\n",
        "proj_2_6_16 = proj_2_6_16[['B2', 'B3', 'B4', 'B8', 'B11', 'B12', 'longitude', 'latitude']]\n",
        "proj_2_6_15 = pd.read_csv('https://raw.githubusercontent.com/andrewwells991/mds_thesis/main/data/4_ee_pixel_data_other_yrs/malawi_proj_2_6_yr_15_pixel.csv')\n",
        "proj_2_6_15 = proj_2_6_15[['B2', 'B3', 'B4', 'B8', 'B11', 'B12', 'longitude', 'latitude']]"
      ],
      "metadata": {
        "id": "lz4tBM7neOIo"
      },
      "execution_count": 49,
      "outputs": []
    },
    {
      "cell_type": "code",
      "source": [
        "proj_2_6_predictions = pd.DataFrame(columns=['rf_std', 'rf_wgt', 'xgb_std', 'knn_std', 'rf_over', 'xgb_over', 'year'])\n",
        "\n",
        "for df_name in ['proj_2_6_15', 'proj_2_6_16', 'proj_2_6_17', 'proj_2_6_18', 'proj_2_6_19', 'proj_2_6_20', 'proj_2_6_21']:\n",
        "    df = globals()[df_name]\n",
        "    \n",
        "    rf_std_pred = rf_std.predict(df)\n",
        "    rf_wgt_pred = rf_wgt.predict(df)\n",
        "    xgb_std_pred = xgb_std.predict(df)\n",
        "    knn_std_pred = knn_std.predict(df)\n",
        "    rf_over_pred = rf_over.predict(df)\n",
        "    xgb_over_pred = xgb_over.predict(df)\n",
        "\n",
        "    predictions_df = pd.DataFrame({\n",
        "        'rf_std': rf_std_pred,\n",
        "        'rf_wgt': rf_wgt_pred,\n",
        "        'xgb_std': xgb_std_pred,\n",
        "        'knn_std': knn_std_pred,\n",
        "        'rf_over': rf_over_pred,\n",
        "        'xgb_over': xgb_over_pred\n",
        "    })\n",
        "\n",
        "    rf_std_sum = predictions_df['rf_std'].sum()\n",
        "    rf_wgt_sum = predictions_df['rf_wgt'].sum()\n",
        "    xgb_std_sum = predictions_df['xgb_std'].sum()\n",
        "    knn_std_sum = predictions_df['knn_std'].sum()\n",
        "    rf_over_sum = predictions_df['rf_over'].sum()\n",
        "    xgb_over_sum = predictions_df['xgb_over'].sum()\n",
        "\n",
        "    year = int(df_name[-2:]) + 2000\n",
        "    row = {\n",
        "        'rf_std': rf_std_sum,\n",
        "        'rf_wgt': rf_wgt_sum,\n",
        "        'xgb_std': xgb_std_sum,\n",
        "        'knn_std': knn_std_sum,\n",
        "        'rf_over': rf_over_sum,\n",
        "        'xgb_over': xgb_over_sum,\n",
        "        'year': year\n",
        "    }\n",
        "\n",
        "    proj_2_6_predictions = proj_2_6_predictions.append(row, ignore_index=True, sort=False)"
      ],
      "metadata": {
        "id": "Y24GFkSFeg2Z"
      },
      "execution_count": 50,
      "outputs": []
    },
    {
      "cell_type": "code",
      "source": [
        "proj_2_6_predictions.set_index('year', inplace=True)\n",
        "\n",
        "proj_2_6_predictions.plot(kind='line', figsize=(10, 6))\n",
        "\n",
        "plt.title('ML model predicted number of buildings by year (Proj_2_6)')\n",
        "plt.xlabel('Year')\n",
        "plt.ylabel('Predicted number of buildings')\n",
        "plt.show()"
      ],
      "metadata": {
        "colab": {
          "base_uri": "https://localhost:8080/",
          "height": 404
        },
        "id": "D5H2vafceppq",
        "outputId": "68c0c745-d51d-47f8-a689-c5ee35b44b1c"
      },
      "execution_count": 51,
      "outputs": [
        {
          "output_type": "display_data",
          "data": {
            "text/plain": [
              "<Figure size 720x432 with 1 Axes>"
            ],
            "image/png": "[encoded data removed]"
          },
          "metadata": {
            "needs_background": "light"
          }
        }
      ]
    },
    {
      "cell_type": "markdown",
      "source": [
        "###Project 2_10, Project: Road Maintenance and Rehabilitation Project | Site: Zomba"
      ],
      "metadata": {
        "id": "vxoV2rFtewsW"
      }
    },
    {
      "cell_type": "code",
      "source": [
        "#Unlabelled pixel data from 2021\n",
        "proj_2_10_21 = pd.read_csv('https://raw.githubusercontent.com/andrewwells991/mds_thesis/main/data/2_ee_pixel_data/malawi_proj_2_10_yr_21_pixel.csv')\n",
        "proj_2_10_21 = proj_2_10_21[['B2', 'B3', 'B4', 'B8', 'B11', 'B12', 'longitude', 'latitude']]\n",
        "#From previous years\n",
        "proj_2_10_20 = pd.read_csv('https://raw.githubusercontent.com/andrewwells991/mds_thesis/main/data/4_ee_pixel_data_other_yrs/malawi_proj_2_10_yr_20_pixel.csv')\n",
        "proj_2_10_20 = proj_2_10_20[['B2', 'B3', 'B4', 'B8', 'B11', 'B12', 'longitude', 'latitude']]\n",
        "proj_2_10_19 = pd.read_csv('https://raw.githubusercontent.com/andrewwells991/mds_thesis/main/data/4_ee_pixel_data_other_yrs/malawi_proj_2_10_yr_19_pixel.csv')\n",
        "proj_2_10_19 = proj_2_10_19[['B2', 'B3', 'B4', 'B8', 'B11', 'B12', 'longitude', 'latitude']]\n",
        "proj_2_10_18 = pd.read_csv('https://raw.githubusercontent.com/andrewwells991/mds_thesis/main/data/4_ee_pixel_data_other_yrs/malawi_proj_2_10_yr_18_pixel.csv')\n",
        "proj_2_10_18 = proj_2_10_18[['B2', 'B3', 'B4', 'B8', 'B11', 'B12', 'longitude', 'latitude']]\n",
        "proj_2_10_17 = pd.read_csv('https://raw.githubusercontent.com/andrewwells991/mds_thesis/main/data/4_ee_pixel_data_other_yrs/malawi_proj_2_10_yr_17_pixel.csv')\n",
        "proj_2_10_17 = proj_2_10_17[['B2', 'B3', 'B4', 'B8', 'B11', 'B12', 'longitude', 'latitude']]\n",
        "proj_2_10_16 = pd.read_csv('https://raw.githubusercontent.com/andrewwells991/mds_thesis/main/data/4_ee_pixel_data_other_yrs/malawi_proj_2_10_yr_16_pixel.csv')\n",
        "proj_2_10_16 = proj_2_10_16[['B2', 'B3', 'B4', 'B8', 'B11', 'B12', 'longitude', 'latitude']]\n",
        "proj_2_10_15 = pd.read_csv('https://raw.githubusercontent.com/andrewwells991/mds_thesis/main/data/4_ee_pixel_data_other_yrs/malawi_proj_2_10_yr_15_pixel.csv')\n",
        "proj_2_10_15 = proj_2_10_15[['B2', 'B3', 'B4', 'B8', 'B11', 'B12', 'longitude', 'latitude']]"
      ],
      "metadata": {
        "id": "W60nJRVre9-z"
      },
      "execution_count": 53,
      "outputs": []
    },
    {
      "cell_type": "code",
      "source": [
        "proj_2_10_predictions = pd.DataFrame(columns=['rf_std', 'rf_wgt', 'xgb_std', 'knn_std', 'rf_over', 'xgb_over', 'year'])\n",
        "\n",
        "for df_name in ['proj_2_10_15', 'proj_2_10_16', 'proj_2_10_17', 'proj_2_10_18', 'proj_2_10_19', 'proj_2_10_20', 'proj_2_10_21']:\n",
        "    df = globals()[df_name]\n",
        "    \n",
        "    rf_std_pred = rf_std.predict(df)\n",
        "    rf_wgt_pred = rf_wgt.predict(df)\n",
        "    xgb_std_pred = xgb_std.predict(df)\n",
        "    knn_std_pred = knn_std.predict(df)\n",
        "    rf_over_pred = rf_over.predict(df)\n",
        "    xgb_over_pred = xgb_over.predict(df)\n",
        "\n",
        "    predictions_df = pd.DataFrame({\n",
        "        'rf_std': rf_std_pred,\n",
        "        'rf_wgt': rf_wgt_pred,\n",
        "        'xgb_std': xgb_std_pred,\n",
        "        'knn_std': knn_std_pred,\n",
        "        'rf_over': rf_over_pred,\n",
        "        'xgb_over': xgb_over_pred\n",
        "    })\n",
        "\n",
        "    rf_std_sum = predictions_df['rf_std'].sum()\n",
        "    rf_wgt_sum = predictions_df['rf_wgt'].sum()\n",
        "    xgb_std_sum = predictions_df['xgb_std'].sum()\n",
        "    knn_std_sum = predictions_df['knn_std'].sum()\n",
        "    rf_over_sum = predictions_df['rf_over'].sum()\n",
        "    xgb_over_sum = predictions_df['xgb_over'].sum()\n",
        "\n",
        "    year = int(df_name[-2:]) + 2000\n",
        "    row = {\n",
        "        'rf_std': rf_std_sum,\n",
        "        'rf_wgt': rf_wgt_sum,\n",
        "        'xgb_std': xgb_std_sum,\n",
        "        'knn_std': knn_std_sum,\n",
        "        'rf_over': rf_over_sum,\n",
        "        'xgb_over': xgb_over_sum,\n",
        "        'year': year\n",
        "    }\n",
        "\n",
        "    proj_2_10_predictions = proj_2_10_predictions.append(row, ignore_index=True, sort=False)"
      ],
      "metadata": {
        "id": "KFmPKoiefLOx"
      },
      "execution_count": 56,
      "outputs": []
    },
    {
      "cell_type": "code",
      "source": [
        "proj_2_10_predictions.set_index('year', inplace=True)\n",
        "proj_2_10_predictions.plot(kind='line', figsize=(10, 6))\n",
        "plt.title('ML model predicted number of buildings by year (proj_2_10)')\n",
        "plt.xlabel('Year')\n",
        "plt.ylabel('Predicted number of buildings')\n",
        "plt.show()"
      ],
      "metadata": {
        "colab": {
          "base_uri": "https://localhost:8080/",
          "height": 404
        },
        "id": "ZGeXIfF_gKsg",
        "outputId": "7f73815d-8085-4f6b-b9ad-e7592333514c"
      },
      "execution_count": 57,
      "outputs": [
        {
          "output_type": "display_data",
          "data": {
            "text/plain": [
              "<Figure size 720x432 with 1 Axes>"
            ],
            "image/png": "[encoded data removed]"
          },
          "metadata": {
            "needs_background": "light"
          }
        }
      ]
    }
  ]
}
